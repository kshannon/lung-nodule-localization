{
 "cells": [
  {
   "cell_type": "markdown",
   "metadata": {},
   "source": [
    "#### Using SimpleElastix register all non class 1 CT scans and attempt to normalize them into a **healthy** CT scan."
   ]
  },
  {
   "cell_type": "code",
   "execution_count": 33,
   "metadata": {},
   "outputs": [],
   "source": [
    "import sys\n",
    "import os\n",
    "import csv\n",
    "from collections import Counter\n",
    "import argparse\n",
    "from configparser import ConfigParser\n",
    "import pathlib\n",
    "from glob import glob\n",
    "from random import shuffle\n",
    "import SimpleITK as sitk # pip install SimpleITK\n",
    "from tqdm import tqdm # pip install tqdm\n",
    "import h5py\n",
    "import pandas as pd\n",
    "import numpy as np\n",
    "from scipy.spatial import distance"
   ]
  },
  {
   "cell_type": "code",
   "execution_count": 77,
   "metadata": {},
   "outputs": [],
   "source": [
    "# get file paths and globals from config file, located in utils/ dir\n",
    "config = ConfigParser()\n",
    "config.read('../utils/lung_template_config.ini') #local just for now (need if - else for AWS)\n",
    "LUNA_PATH = config.get('local', 'LUNA_PATH')\n",
    "TOY_LUNA_PATH = config.get('local', 'TOY_LUNA_PATH')\n",
    "UID_CSV = config.get('local', 'CSV_PATH')\n",
    "IMG_SAVE = config.get('local', 'IMG_SAVE')\n"
   ]
  },
  {
   "cell_type": "code",
   "execution_count": 53,
   "metadata": {},
   "outputs": [
    {
     "name": "stdout",
     "output_type": "stream",
     "text": [
      "Unique CT Scans: 76\n",
      "Unique CT Scans with no class 1 nodules: 28\n"
     ]
    }
   ],
   "source": [
    "# create list of CT scan seriesuids where there is no nodule class of 1\n",
    "unique_ct = Counter({})\n",
    "with open(UID_CSV) as doc:\n",
    "    lines = csv.reader(doc)\n",
    "    next(lines)\n",
    "    for row in lines:\n",
    "        if row[0] in unique_ct:\n",
    "            unique_ct[row[0]] += int(row[1])\n",
    "        else:\n",
    "            unique_ct[row[0]] = int(row[1])\n",
    "print(\"Unique CT Scans: \" + str(len(unique_ct)))\n",
    "\n",
    "# remove any UIDs that have a positive nodule\n",
    "class0_ct = {k:v for k, v in unique_ct.items() if v == 0}\n",
    "print(\"Unique CT Scans with no class 1 nodules: \" + str(len(class0_ct)))\n"
   ]
  },
  {
   "cell_type": "code",
   "execution_count": null,
   "metadata": {},
   "outputs": [],
   "source": []
  },
  {
   "cell_type": "code",
   "execution_count": 73,
   "metadata": {},
   "outputs": [],
   "source": [
    "mhd_one = '1.3.6.1.4.1.14519.5.2.1.6279.6001.221945191226273284587353530424.mhd'\n",
    "mhd_two = '1.3.6.1.4.1.14519.5.2.1.6279.6001.249314567767437206995861966896.mhd'\n"
   ]
  },
  {
   "cell_type": "code",
   "execution_count": 106,
   "metadata": {},
   "outputs": [
    {
     "data": {
      "text/plain": [
       "<SimpleITK.SimpleITK.Image; proxy of <Swig Object of type 'std::vector< itk::simple::Image >::value_type *' at 0x182541a5a0> >"
      ]
     },
     "execution_count": 106,
     "metadata": {},
     "output_type": "execute_result"
    }
   ],
   "source": [
    "elastixImageFilter = sitk.ElastixImageFilter()\n",
    "elastixImageFilter.SetFixedImage(sitk.ReadImage(TOY_LUNA_PATH + mhd_one)[1])\n",
    "elastixImageFilter.SetMovingImage(sitk.ReadImage(TOY_LUNA_PATH + mhd_two)[1])\n",
    "\n",
    "parameterMapVector = sitk.VectorOfParameterMap()\n",
    "parameterMapVector.append(sitk.GetDefaultParameterMap(\"affine\"))\n",
    "parameterMapVector.append(sitk.GetDefaultParameterMap(\"bspline\"))\n",
    "elastixImageFilter.SetParameterMap(parameterMapVector)\n",
    "\n",
    "elastixImageFilter.Execute() #execute register procedure\n",
    "\n"
   ]
  },
  {
   "cell_type": "code",
   "execution_count": 107,
   "metadata": {
    "scrolled": true
   },
   "outputs": [
    {
     "name": "stdout",
     "output_type": "stream",
     "text": [
      "Image (0x7feabdf0cbe0)\n",
      "  RTTI typeinfo:   itk::Image<float, 2u>\n",
      "  Reference Count: 3\n",
      "  Modified Time: 171175\n",
      "  Debug: Off\n",
      "  Object Name: \n",
      "  Observers: \n",
      "    none\n",
      "  Source: (none)\n",
      "  Source output name: (none)\n",
      "  Release Data: Off\n",
      "  Data Released: False\n",
      "  Global Release Data: Off\n",
      "  PipelineMTime: 0\n",
      "  UpdateMTime: 0\n",
      "  RealTimeStamp: 0 seconds \n",
      "  LargestPossibleRegion: \n",
      "    Dimension: 2\n",
      "    Index: [0, 0]\n",
      "    Size: [512, 682]\n",
      "  BufferedRegion: \n",
      "    Dimension: 2\n",
      "    Index: [0, 0]\n",
      "    Size: [512, 682]\n",
      "  RequestedRegion: \n",
      "    Dimension: 2\n",
      "    Index: [0, 0]\n",
      "    Size: [512, 682]\n",
      "  Spacing: [0.537109, 0.5]\n",
      "  Origin: [-268.231, -405]\n",
      "  Direction: \n",
      "1 0\n",
      "0 1\n",
      "\n",
      "  IndexToPointMatrix: \n",
      "0.537109 0\n",
      "0 0.5\n",
      "\n",
      "  PointToIndexMatrix: \n",
      "1.86182 0\n",
      "0 2\n",
      "\n",
      "  Inverse Direction: \n",
      "1 0\n",
      "0 1\n",
      "\n",
      "  PixelContainer: \n",
      "    ImportImageContainer (0x7feabdcabb40)\n",
      "      RTTI typeinfo:   itk::ImportImageContainer<unsigned long, float>\n",
      "      Reference Count: 1\n",
      "      Modified Time: 171176\n",
      "      Debug: Off\n",
      "      Object Name: \n",
      "      Observers: \n",
      "        none\n",
      "      Pointer: 0x1843949000\n",
      "      Container manages memory: true\n",
      "      Size: 349184\n",
      "      Capacity: 349184\n",
      "\n"
     ]
    }
   ],
   "source": [
    "result = elastixImageFilter.GetResultImage()\n",
    "print(result)"
   ]
  },
  {
   "cell_type": "code",
   "execution_count": 108,
   "metadata": {},
   "outputs": [
    {
     "name": "stdout",
     "output_type": "stream",
     "text": [
      "349184\n"
     ]
    }
   ],
   "source": [
    "print(len(result))"
   ]
  },
  {
   "cell_type": "code",
   "execution_count": 110,
   "metadata": {},
   "outputs": [],
   "source": [
    "#save only 2d slice.\n",
    "sitk.WriteImage(result, IMG_SAVE+'result1.tif')"
   ]
  },
  {
   "cell_type": "code",
   "execution_count": null,
   "metadata": {},
   "outputs": [],
   "source": []
  },
  {
   "cell_type": "code",
   "execution_count": null,
   "metadata": {},
   "outputs": [],
   "source": []
  },
  {
   "cell_type": "code",
   "execution_count": null,
   "metadata": {},
   "outputs": [],
   "source": []
  },
  {
   "cell_type": "code",
   "execution_count": null,
   "metadata": {},
   "outputs": [],
   "source": []
  },
  {
   "cell_type": "code",
   "execution_count": null,
   "metadata": {},
   "outputs": [],
   "source": [
    "# Concatenate the ND images into one (N+1)D image\n",
    "population = ['image1.hdr', ..., 'imageN.hdr']\n",
    "vectorOfImages = sitk.VectorOfImage()\n",
    "\n",
    "for filename in population\n",
    "  vectorOfImages.push_back(sitk.ReadImage(filename))\n",
    "\n",
    "image = sitk.JoinSeries(vectorOfImages)\n",
    "\n",
    "# Register\n",
    "elastixImageFilter = sitk.ElastixImageFilter()\n",
    "elastixImageFilter.SetFixedImage(image)\n",
    "elastixImageFilter.SetMovingImage(image)\n",
    "elastixImageFilter.SetParameterMap(sitk.GetDefaultParameterMap('groupwise'))\n",
    "elastixImageFilter.Execute()"
   ]
  },
  {
   "cell_type": "code",
   "execution_count": null,
   "metadata": {},
   "outputs": [],
   "source": []
  },
  {
   "cell_type": "code",
   "execution_count": null,
   "metadata": {},
   "outputs": [],
   "source": []
  },
  {
   "cell_type": "code",
   "execution_count": null,
   "metadata": {},
   "outputs": [],
   "source": []
  },
  {
   "cell_type": "code",
   "execution_count": null,
   "metadata": {},
   "outputs": [],
   "source": []
  },
  {
   "cell_type": "code",
   "execution_count": 70,
   "metadata": {
    "scrolled": true
   },
   "outputs": [
    {
     "data": {
      "text/plain": [
       "(array([[[-1002,  -982,  -968, ...,  -972,  -985,  -976],\n",
       "         [-1000, -1008,  -996, ..., -1001,  -986,  -980],\n",
       "         [ -975, -1017, -1024, ...,  -991,  -995, -1011],\n",
       "         ...,\n",
       "         [ -921,  -925,  -918, ..., -1016, -1008,  -998],\n",
       "         [ -951,  -916,  -898, ..., -1024, -1011, -1015],\n",
       "         [ -938,  -893,  -876, ...,  -995,  -996, -1019]],\n",
       " \n",
       "        [[-1021, -1012, -1007, ...,  -995, -1015,  -988],\n",
       "         [-1022, -1003,  -996, ...,  -994, -1001,  -987],\n",
       "         [-1019, -1003, -1000, ..., -1009,  -999,  -995],\n",
       "         ...,\n",
       "         [ -910,  -922,  -924, ...,  -999, -1023, -1021],\n",
       "         [ -934,  -930,  -922, ..., -1009, -1023, -1023],\n",
       "         [ -932,  -927,  -910, ..., -1010,  -993,  -994]],\n",
       " \n",
       "        [[-1009, -1007,  -997, ...,  -975, -1000, -1020],\n",
       "         [ -988,  -988,  -993, ..., -1006, -1014, -1018],\n",
       "         [ -992,  -974,  -989, ..., -1024, -1021, -1017],\n",
       "         ...,\n",
       "         [ -907,  -882,  -876, ...,  -967,  -980,  -987],\n",
       "         [ -903,  -890,  -885, ..., -1007, -1008, -1010],\n",
       "         [ -888,  -897,  -907, ..., -1020, -1007, -1009]],\n",
       " \n",
       "        ...,\n",
       " \n",
       "        [[-1011, -1007,  -999, ..., -1008, -1017, -1009],\n",
       "         [-1007, -1022, -1018, ...,  -994,  -998, -1006],\n",
       "         [-1003, -1018, -1022, ...,  -968,  -962,  -985],\n",
       "         ...,\n",
       "         [ -882,  -902,  -907, ...,  -989,  -996, -1003],\n",
       "         [ -718,  -795,  -849, ...,  -996, -1002, -1014],\n",
       "         [ -357,  -491,  -600, ..., -1005, -1019, -1009]],\n",
       " \n",
       "        [[-1022, -1017,  -983, ...,  -983, -1014, -1024],\n",
       "         [-1023, -1018,  -986, ...,  -994, -1010, -1009],\n",
       "         [-1020, -1021, -1002, ...,  -989,  -990,  -984],\n",
       "         ...,\n",
       "         [ -887,  -898,  -873, ...,  -990,  -994, -1000],\n",
       "         [ -704,  -791,  -834, ...,  -981,  -995,  -994],\n",
       "         [ -326,  -465,  -594, ...,  -990,  -990,  -990]],\n",
       " \n",
       "        [[-1024, -1018, -1010, ..., -1008, -1016, -1018],\n",
       "         [-1022, -1017,  -999, ...,  -971,  -995, -1024],\n",
       "         [-1020, -1019, -1005, ...,  -952,  -979, -1023],\n",
       "         ...,\n",
       "         [ -829,  -858,  -880, ...,  -983,  -976,  -985],\n",
       "         [ -672,  -766,  -827, ..., -1007, -1015, -1009],\n",
       "         [ -353,  -504,  -609, ..., -1022, -1024, -1015]]], dtype=int16),\n",
       " array([-405.        , -268.23144531, -130.23144531]),\n",
       " array([0.5       , 0.53710938, 0.53710938]))"
      ]
     },
     "execution_count": 70,
     "metadata": {},
     "output_type": "execute_result"
    }
   ],
   "source": [
    "def load_itk(filename):\n",
    "    # Reads the image using SimpleITK\n",
    "    itkimage = sitk.ReadImage(filename)\n",
    "\n",
    "    # Convert the image to a  numpy array first and then shuffle the dimensions to get axis in the order z,y,x\n",
    "    ct_scan = sitk.GetArrayFromImage(itkimage)\n",
    "\n",
    "    # Read the origin of the ct_scan, will be used to convert the coordinates from world to voxel and vice versa.\n",
    "    origin = np.array(list(reversed(itkimage.GetOrigin())))\n",
    "\n",
    "    # Read the spacing along each dimension\n",
    "    spacing = np.array(list(reversed(itkimage.GetSpacing())))\n",
    "\n",
    "    return ct_scan, origin, spacing\n",
    "t = load_itk(TOY_LUNA_PATH + mhd)\n",
    "t"
   ]
  }
 ],
 "metadata": {
  "kernelspec": {
   "display_name": "Python 3",
   "language": "python",
   "name": "python3"
  },
  "language_info": {
   "codemirror_mode": {
    "name": "ipython",
    "version": 3
   },
   "file_extension": ".py",
   "mimetype": "text/x-python",
   "name": "python",
   "nbconvert_exporter": "python",
   "pygments_lexer": "ipython3",
   "version": "3.6.3"
  }
 },
 "nbformat": 4,
 "nbformat_minor": 2
}
