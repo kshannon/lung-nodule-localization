{
 "cells": [
  {
   "cell_type": "markdown",
   "metadata": {},
   "source": [
    "# Calculate the distance between class 1 centers and class 0 centers\n",
    "\n",
    "This will loop through every class 1 center (X, Y, Z coordinates in mm) and determine the Euclidean distance between that point and all class 0 centers within the CT scan.\n",
    "\n",
    "This will help us define the maximum patch size we can create while ensuring that no class 0 patch overlaps and class 1."
   ]
  },
  {
   "cell_type": "code",
   "execution_count": 1,
   "metadata": {
    "collapsed": true
   },
   "outputs": [],
   "source": [
    "import pandas as pd\n",
    "import numpy as np"
   ]
  },
  {
   "cell_type": "code",
   "execution_count": 2,
   "metadata": {},
   "outputs": [],
   "source": [
    "df = pd.read_csv(\"candidates_V2.csv\")"
   ]
  },
  {
   "cell_type": "code",
   "execution_count": 3,
   "metadata": {},
   "outputs": [],
   "source": [
    "df1 = df[df[\"class\"]==1] # Find the class 1"
   ]
  },
  {
   "cell_type": "code",
   "execution_count": 4,
   "metadata": {},
   "outputs": [
    {
     "data": {
      "text/plain": [
       "(1557, 5)"
      ]
     },
     "execution_count": 4,
     "metadata": {},
     "output_type": "execute_result"
    }
   ],
   "source": [
    "df1.shape"
   ]
  },
  {
   "cell_type": "code",
   "execution_count": 5,
   "metadata": {},
   "outputs": [],
   "source": [
    "dfDistance = pd.DataFrame([])\n",
    "\n",
    "for row in df1.itertuples():  # Loop through all rows\n",
    "    \n",
    "    df0 = df[(df[\"seriesuid\"]==row[1]) &  (df[\"class\"] == 0)].copy(deep=True)  # Get class 0 for the seriesuid of this class 1\n",
    "    zero_coords = df0[[\"coordX\", \"coordY\", \"coordZ\"]].values\n",
    "    x1 = row[2]; y1 = row[3]; z1 = row[4]\n",
    "    ones_coords = np.tile([x1, y1, z1], (zero_coords.shape[0], 1)) # Copy ones coord for every zero\n",
    "    \n",
    "    distance = np.linalg.norm(ones_coords - zero_coords, axis=1)  # Find Euclidean distance between 1 and the other 0\n",
    "    \n",
    "    df0[\"distance\"] = distance\n",
    "    dfDistance = dfDistance.append(df0)\n",
    "    "
   ]
  },
  {
   "cell_type": "code",
   "execution_count": 23,
   "metadata": {},
   "outputs": [
    {
     "data": {
      "text/html": [
       "<div>\n",
       "<style>\n",
       "    .dataframe thead tr:only-child th {\n",
       "        text-align: right;\n",
       "    }\n",
       "\n",
       "    .dataframe thead th {\n",
       "        text-align: left;\n",
       "    }\n",
       "\n",
       "    .dataframe tbody tr th {\n",
       "        vertical-align: top;\n",
       "    }\n",
       "</style>\n",
       "<table border=\"1\" class=\"dataframe\">\n",
       "  <thead>\n",
       "    <tr style=\"text-align: right;\">\n",
       "      <th></th>\n",
       "      <th>seriesuid</th>\n",
       "      <th>coordX</th>\n",
       "      <th>coordY</th>\n",
       "      <th>coordZ</th>\n",
       "      <th>class</th>\n",
       "      <th>distance</th>\n",
       "    </tr>\n",
       "  </thead>\n",
       "  <tbody>\n",
       "    <tr>\n",
       "      <th>0</th>\n",
       "      <td>1.3.6.1.4.1.14519.5.2.1.6279.6001.100225287222...</td>\n",
       "      <td>68.420000</td>\n",
       "      <td>-74.480000</td>\n",
       "      <td>-288.700000</td>\n",
       "      <td>0</td>\n",
       "      <td>154.664926</td>\n",
       "    </tr>\n",
       "    <tr>\n",
       "      <th>1</th>\n",
       "      <td>1.3.6.1.4.1.14519.5.2.1.6279.6001.100225287222...</td>\n",
       "      <td>-95.209361</td>\n",
       "      <td>-91.809406</td>\n",
       "      <td>-377.426350</td>\n",
       "      <td>0</td>\n",
       "      <td>276.997539</td>\n",
       "    </tr>\n",
       "    <tr>\n",
       "      <th>2</th>\n",
       "      <td>1.3.6.1.4.1.14519.5.2.1.6279.6001.100225287222...</td>\n",
       "      <td>-24.766755</td>\n",
       "      <td>-120.379294</td>\n",
       "      <td>-273.361539</td>\n",
       "      <td>0</td>\n",
       "      <td>164.620458</td>\n",
       "    </tr>\n",
       "    <tr>\n",
       "      <th>3</th>\n",
       "      <td>1.3.6.1.4.1.14519.5.2.1.6279.6001.100225287222...</td>\n",
       "      <td>-63.080000</td>\n",
       "      <td>-65.740000</td>\n",
       "      <td>-344.240000</td>\n",
       "      <td>0</td>\n",
       "      <td>251.008769</td>\n",
       "    </tr>\n",
       "    <tr>\n",
       "      <th>4</th>\n",
       "      <td>1.3.6.1.4.1.14519.5.2.1.6279.6001.100225287222...</td>\n",
       "      <td>52.946688</td>\n",
       "      <td>-92.688873</td>\n",
       "      <td>-241.067872</td>\n",
       "      <td>0</td>\n",
       "      <td>130.343226</td>\n",
       "    </tr>\n",
       "    <tr>\n",
       "      <th>5</th>\n",
       "      <td>1.3.6.1.4.1.14519.5.2.1.6279.6001.100225287222...</td>\n",
       "      <td>54.657731</td>\n",
       "      <td>-104.811860</td>\n",
       "      <td>-249.594543</td>\n",
       "      <td>0</td>\n",
       "      <td>119.956918</td>\n",
       "    </tr>\n",
       "    <tr>\n",
       "      <th>6</th>\n",
       "      <td>1.3.6.1.4.1.14519.5.2.1.6279.6001.100225287222...</td>\n",
       "      <td>134.730000</td>\n",
       "      <td>-138.790000</td>\n",
       "      <td>-333.760000</td>\n",
       "      <td>0</td>\n",
       "      <td>132.879835</td>\n",
       "    </tr>\n",
       "    <tr>\n",
       "      <th>7</th>\n",
       "      <td>1.3.6.1.4.1.14519.5.2.1.6279.6001.100225287222...</td>\n",
       "      <td>84.804055</td>\n",
       "      <td>-84.752684</td>\n",
       "      <td>-379.787441</td>\n",
       "      <td>0</td>\n",
       "      <td>199.599644</td>\n",
       "    </tr>\n",
       "    <tr>\n",
       "      <th>8</th>\n",
       "      <td>1.3.6.1.4.1.14519.5.2.1.6279.6001.100225287222...</td>\n",
       "      <td>-76.470000</td>\n",
       "      <td>-171.110000</td>\n",
       "      <td>-258.230000</td>\n",
       "      <td>0</td>\n",
       "      <td>187.685896</td>\n",
       "    </tr>\n",
       "    <tr>\n",
       "      <th>9</th>\n",
       "      <td>1.3.6.1.4.1.14519.5.2.1.6279.6001.100225287222...</td>\n",
       "      <td>-38.560000</td>\n",
       "      <td>-218.480000</td>\n",
       "      <td>-257.820000</td>\n",
       "      <td>0</td>\n",
       "      <td>146.086516</td>\n",
       "    </tr>\n",
       "  </tbody>\n",
       "</table>\n",
       "</div>"
      ],
      "text/plain": [
       "                                           seriesuid      coordX      coordY  \\\n",
       "0  1.3.6.1.4.1.14519.5.2.1.6279.6001.100225287222...   68.420000  -74.480000   \n",
       "1  1.3.6.1.4.1.14519.5.2.1.6279.6001.100225287222...  -95.209361  -91.809406   \n",
       "2  1.3.6.1.4.1.14519.5.2.1.6279.6001.100225287222...  -24.766755 -120.379294   \n",
       "3  1.3.6.1.4.1.14519.5.2.1.6279.6001.100225287222...  -63.080000  -65.740000   \n",
       "4  1.3.6.1.4.1.14519.5.2.1.6279.6001.100225287222...   52.946688  -92.688873   \n",
       "5  1.3.6.1.4.1.14519.5.2.1.6279.6001.100225287222...   54.657731 -104.811860   \n",
       "6  1.3.6.1.4.1.14519.5.2.1.6279.6001.100225287222...  134.730000 -138.790000   \n",
       "7  1.3.6.1.4.1.14519.5.2.1.6279.6001.100225287222...   84.804055  -84.752684   \n",
       "8  1.3.6.1.4.1.14519.5.2.1.6279.6001.100225287222...  -76.470000 -171.110000   \n",
       "9  1.3.6.1.4.1.14519.5.2.1.6279.6001.100225287222...  -38.560000 -218.480000   \n",
       "\n",
       "       coordZ  class    distance  \n",
       "0 -288.700000      0  154.664926  \n",
       "1 -377.426350      0  276.997539  \n",
       "2 -273.361539      0  164.620458  \n",
       "3 -344.240000      0  251.008769  \n",
       "4 -241.067872      0  130.343226  \n",
       "5 -249.594543      0  119.956918  \n",
       "6 -333.760000      0  132.879835  \n",
       "7 -379.787441      0  199.599644  \n",
       "8 -258.230000      0  187.685896  \n",
       "9 -257.820000      0  146.086516  "
      ]
     },
     "execution_count": 23,
     "metadata": {},
     "output_type": "execute_result"
    }
   ],
   "source": [
    "dfDistance.head(10)"
   ]
  },
  {
   "cell_type": "code",
   "execution_count": 6,
   "metadata": {
    "collapsed": true
   },
   "outputs": [],
   "source": [
    "import matplotlib.pyplot as plt\n",
    "import seaborn as sns\n",
    "sns.set_style(\"dark\")\n",
    "%matplotlib inline"
   ]
  },
  {
   "cell_type": "code",
   "execution_count": 34,
   "metadata": {},
   "outputs": [
    {
     "data": {
      "image/png": "[encoded data removed]",
      "text/plain": [
       "<matplotlib.figure.Figure at 0x7fe288809630>"
      ]
     },
     "metadata": {},
     "output_type": "display_data"
    }
   ],
   "source": [
    "plt.hist(dfDistance[\"distance\"], bins=500);\n",
    "plt.xlabel(\"Distance (mm)\");\n",
    "plt.ylabel(\"Count\");\n",
    "plt.title(\"Distance between class 1 and class 0\");"
   ]
  },
  {
   "cell_type": "code",
   "execution_count": 8,
   "metadata": {},
   "outputs": [
    {
     "name": "stdout",
     "output_type": "stream",
     "text": [
      "The closest a class 0 center gets to a class 1 center is 2.947 mm\n",
      "The farther a class 0 center gets to a class 1 center is 353.0 mm\n"
     ]
    }
   ],
   "source": [
    "print(\"The closest a class 0 center gets to a class 1 center is {:.3f} mm\".format(dfDistance[\"distance\"].min()))\n",
    "print(\"The farther a class 0 center gets to a class 1 center is {:.1f} mm\".format(dfDistance[\"distance\"].max()))"
   ]
  },
  {
   "cell_type": "code",
   "execution_count": 30,
   "metadata": {},
   "outputs": [
    {
     "name": "stdout",
     "output_type": "stream",
     "text": [
      "There are 421,662 class 0 centers within 100 mm of a class 1 center\n"
     ]
    },
    {
     "data": {
      "image/png": "[encoded data removed]",
      "text/plain": [
       "<matplotlib.figure.Figure at 0x7fe277f5ec50>"
      ]
     },
     "metadata": {},
     "output_type": "display_data"
    }
   ],
   "source": [
    "patch_size = 100  # in mm\n",
    "plt.hist(dfDistance[dfDistance[\"distance\"] < patch_size][\"distance\"], bins=500);  # Plot cases where class 0 is within this many mm of class 1\n",
    "plt.xlabel(\"Distance (mm)\");\n",
    "plt.ylabel(\"Count\");\n",
    "plt.title(\"Distance between class 1 and class 0\\n< {} mm\".format(patch_size));\n",
    "print(\"There are {:,} class 0 centers within {} mm of a class 1 center\".format(dfDistance[dfDistance[\"distance\"] < patch_size][\"distance\"].shape[0], patch_size))"
   ]
  },
  {
   "cell_type": "code",
   "execution_count": 31,
   "metadata": {
    "scrolled": false
   },
   "outputs": [
    {
     "name": "stdout",
     "output_type": "stream",
     "text": [
      "There are 30,064 class 0 centers within 32 mm of a class 1 center\n"
     ]
    },
    {
     "data": {
      "image/png": "[encoded data removed]",
      "text/plain": [
       "<matplotlib.figure.Figure at 0x7fe277f5efd0>"
      ]
     },
     "metadata": {},
     "output_type": "display_data"
    }
   ],
   "source": [
    "patch_size = 32  # in mm\n",
    "plt.hist(dfDistance[dfDistance[\"distance\"] < patch_size][\"distance\"], bins=500);  # Plot cases where class 0 is within this many mm of class 1\n",
    "plt.xlabel(\"Distance (mm)\");\n",
    "plt.ylabel(\"Count\");\n",
    "plt.title(\"Distance between class 1 and class 0\\n< {} mm\".format(patch_size));\n",
    "print(\"There are {:,} class 0 centers within {} mm of a class 1 center\".format(dfDistance[dfDistance[\"distance\"] < patch_size][\"distance\"].shape[0], patch_size))"
   ]
  },
  {
   "cell_type": "code",
   "execution_count": 38,
   "metadata": {},
   "outputs": [
    {
     "name": "stdout",
     "output_type": "stream",
     "text": [
      "Throw away these class 0s\n"
     ]
    },
    {
     "data": {
      "text/html": [
       "<div>\n",
       "<style>\n",
       "    .dataframe thead tr:only-child th {\n",
       "        text-align: right;\n",
       "    }\n",
       "\n",
       "    .dataframe thead th {\n",
       "        text-align: left;\n",
       "    }\n",
       "\n",
       "    .dataframe tbody tr th {\n",
       "        vertical-align: top;\n",
       "    }\n",
       "</style>\n",
       "<table border=\"1\" class=\"dataframe\">\n",
       "  <thead>\n",
       "    <tr style=\"text-align: right;\">\n",
       "      <th></th>\n",
       "      <th>seriesuid</th>\n",
       "      <th>coordX</th>\n",
       "      <th>coordY</th>\n",
       "      <th>coordZ</th>\n",
       "      <th>class</th>\n",
       "      <th>distance</th>\n",
       "    </tr>\n",
       "  </thead>\n",
       "  <tbody>\n",
       "    <tr>\n",
       "      <th>21</th>\n",
       "      <td>1.3.6.1.4.1.14519.5.2.1.6279.6001.100225287222...</td>\n",
       "      <td>99.4600</td>\n",
       "      <td>-171.540000</td>\n",
       "      <td>-208.630000</td>\n",
       "      <td>0</td>\n",
       "      <td>44.461348</td>\n",
       "    </tr>\n",
       "    <tr>\n",
       "      <th>42</th>\n",
       "      <td>1.3.6.1.4.1.14519.5.2.1.6279.6001.100225287222...</td>\n",
       "      <td>105.5287</td>\n",
       "      <td>-176.242231</td>\n",
       "      <td>-204.258975</td>\n",
       "      <td>0</td>\n",
       "      <td>42.205159</td>\n",
       "    </tr>\n",
       "    <tr>\n",
       "      <th>63</th>\n",
       "      <td>1.3.6.1.4.1.14519.5.2.1.6279.6001.100225287222...</td>\n",
       "      <td>118.9200</td>\n",
       "      <td>-160.340000</td>\n",
       "      <td>-250.530000</td>\n",
       "      <td>0</td>\n",
       "      <td>58.450926</td>\n",
       "    </tr>\n",
       "    <tr>\n",
       "      <th>64</th>\n",
       "      <td>1.3.6.1.4.1.14519.5.2.1.6279.6001.100225287222...</td>\n",
       "      <td>49.7100</td>\n",
       "      <td>-228.910000</td>\n",
       "      <td>-209.120000</td>\n",
       "      <td>0</td>\n",
       "      <td>59.758918</td>\n",
       "    </tr>\n",
       "    <tr>\n",
       "      <th>70</th>\n",
       "      <td>1.3.6.1.4.1.14519.5.2.1.6279.6001.100225287222...</td>\n",
       "      <td>77.0400</td>\n",
       "      <td>-168.740000</td>\n",
       "      <td>-243.060000</td>\n",
       "      <td>0</td>\n",
       "      <td>53.283035</td>\n",
       "    </tr>\n",
       "    <tr>\n",
       "      <th>73</th>\n",
       "      <td>1.3.6.1.4.1.14519.5.2.1.6279.6001.100225287222...</td>\n",
       "      <td>66.5300</td>\n",
       "      <td>-243.010000</td>\n",
       "      <td>-258.520000</td>\n",
       "      <td>0</td>\n",
       "      <td>58.133451</td>\n",
       "    </tr>\n",
       "    <tr>\n",
       "      <th>87</th>\n",
       "      <td>1.3.6.1.4.1.14519.5.2.1.6279.6001.100225287222...</td>\n",
       "      <td>76.6800</td>\n",
       "      <td>-212.090000</td>\n",
       "      <td>-213.910000</td>\n",
       "      <td>0</td>\n",
       "      <td>30.379377</td>\n",
       "    </tr>\n",
       "    <tr>\n",
       "      <th>91</th>\n",
       "      <td>1.3.6.1.4.1.14519.5.2.1.6279.6001.100225287222...</td>\n",
       "      <td>101.2700</td>\n",
       "      <td>-206.680000</td>\n",
       "      <td>-212.440000</td>\n",
       "      <td>0</td>\n",
       "      <td>15.690760</td>\n",
       "    </tr>\n",
       "    <tr>\n",
       "      <th>96</th>\n",
       "      <td>1.3.6.1.4.1.14519.5.2.1.6279.6001.100225287222...</td>\n",
       "      <td>65.1200</td>\n",
       "      <td>-165.940000</td>\n",
       "      <td>-215.660000</td>\n",
       "      <td>0</td>\n",
       "      <td>61.206878</td>\n",
       "    </tr>\n",
       "    <tr>\n",
       "      <th>110</th>\n",
       "      <td>1.3.6.1.4.1.14519.5.2.1.6279.6001.100225287222...</td>\n",
       "      <td>97.3500</td>\n",
       "      <td>-155.430000</td>\n",
       "      <td>-221.280000</td>\n",
       "      <td>0</td>\n",
       "      <td>57.016393</td>\n",
       "    </tr>\n",
       "  </tbody>\n",
       "</table>\n",
       "</div>"
      ],
      "text/plain": [
       "                                             seriesuid    coordX      coordY  \\\n",
       "21   1.3.6.1.4.1.14519.5.2.1.6279.6001.100225287222...   99.4600 -171.540000   \n",
       "42   1.3.6.1.4.1.14519.5.2.1.6279.6001.100225287222...  105.5287 -176.242231   \n",
       "63   1.3.6.1.4.1.14519.5.2.1.6279.6001.100225287222...  118.9200 -160.340000   \n",
       "64   1.3.6.1.4.1.14519.5.2.1.6279.6001.100225287222...   49.7100 -228.910000   \n",
       "70   1.3.6.1.4.1.14519.5.2.1.6279.6001.100225287222...   77.0400 -168.740000   \n",
       "73   1.3.6.1.4.1.14519.5.2.1.6279.6001.100225287222...   66.5300 -243.010000   \n",
       "87   1.3.6.1.4.1.14519.5.2.1.6279.6001.100225287222...   76.6800 -212.090000   \n",
       "91   1.3.6.1.4.1.14519.5.2.1.6279.6001.100225287222...  101.2700 -206.680000   \n",
       "96   1.3.6.1.4.1.14519.5.2.1.6279.6001.100225287222...   65.1200 -165.940000   \n",
       "110  1.3.6.1.4.1.14519.5.2.1.6279.6001.100225287222...   97.3500 -155.430000   \n",
       "\n",
       "         coordZ  class   distance  \n",
       "21  -208.630000      0  44.461348  \n",
       "42  -204.258975      0  42.205159  \n",
       "63  -250.530000      0  58.450926  \n",
       "64  -209.120000      0  59.758918  \n",
       "70  -243.060000      0  53.283035  \n",
       "73  -258.520000      0  58.133451  \n",
       "87  -213.910000      0  30.379377  \n",
       "91  -212.440000      0  15.690760  \n",
       "96  -215.660000      0  61.206878  \n",
       "110 -221.280000      0  57.016393  "
      ]
     },
     "execution_count": 38,
     "metadata": {},
     "output_type": "execute_result"
    }
   ],
   "source": [
    "patch_size = 64  # in mm\n",
    "dfThrowAway = dfDistance[dfDistance[\"distance\"] < patch_size]\n",
    "\n",
    "print(\"Throw away these class 0s\")\n",
    "dfThrowAway.head(10)"
   ]
  },
  {
   "cell_type": "code",
   "execution_count": 37,
   "metadata": {},
   "outputs": [
    {
     "name": "stdout",
     "output_type": "stream",
     "text": [
      "Throw away these class 0s\n"
     ]
    }
   ],
   "source": []
  },
  {
   "cell_type": "code",
   "execution_count": null,
   "metadata": {
    "collapsed": true
   },
   "outputs": [],
   "source": []
  }
 ],
 "metadata": {
  "kernelspec": {
   "display_name": "Python 3",
   "language": "python",
   "name": "python3"
  },
  "language_info": {
   "codemirror_mode": {
    "name": "ipython",
    "version": 3
   },
   "file_extension": ".py",
   "mimetype": "text/x-python",
   "name": "python",
   "nbconvert_exporter": "python",
   "pygments_lexer": "ipython3",
   "version": "3.5.4"
  }
 },
 "nbformat": 4,
 "nbformat_minor": 2
}
