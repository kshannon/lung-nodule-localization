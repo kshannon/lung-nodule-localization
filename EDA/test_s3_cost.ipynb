{
 "cells": [
  {
   "cell_type": "markdown",
   "metadata": {},
   "source": [
    "# Test S3 for training\n",
    "\n",
    "Let's run an end-to-end Keras training script with data from our S3 bucket. The data is stored on the S3 bucket in an HDF5 file. This test will give us an idea of the speed and cost of the training."
   ]
  },
  {
   "cell_type": "code",
   "execution_count": 1,
   "metadata": {},
   "outputs": [
    {
     "name": "stderr",
     "output_type": "stream",
     "text": [
      "/home/tony/anaconda3/envs/tf/lib/python3.5/site-packages/h5py/__init__.py:36: FutureWarning: Conversion of the second argument of issubdtype from `float` to `np.floating` is deprecated. In future, it will be treated as `np.float64 == np.dtype(float).type`.\n",
      "  from ._conv import register_converters as _register_converters\n",
      "Using TensorFlow backend.\n"
     ]
    }
   ],
   "source": [
    "import keras\n",
    "import numpy as np\n",
    "import h5py\n",
    "import os"
   ]
  },
  {
   "cell_type": "markdown",
   "metadata": {},
   "source": [
    "## Load HDF5 on the S3 bucket for training in Keras\n",
    "\n",
    "This assumes you have [goofys](https://github.com/kahing/goofys) setup on your local machine.\n",
    "You'll probably first need to download and install the [AWS CLI](https://aws.amazon.com/cli/). If AWS CLI is properly installed then you should be able to run this command from your local Linux machine:\n",
    "\n",
    "` aws s3 ls s3://dse-cohort3-group5`\n",
    "\n",
    "If that works, then you can create a local directory with the command:\n",
    "\n",
    "`mkdir -p s3bucket`\n",
    "\n",
    "If that works, then you can use goofys to link the local directory with the s3 bucket.\n",
    "\n",
    "`./goofys dse-cohort3-group5 s3bucket`\n",
    "\n",
    "Once that is done, then you can access the s3bucket as if it were a local folder on your Linux machine.\n"
   ]
  },
  {
   "cell_type": "code",
   "execution_count": 2,
   "metadata": {
    "collapsed": true
   },
   "outputs": [],
   "source": [
    "root_dir = !pwd\n",
    "s3bucket_path = root_dir[0] + '/../s3bucket_goofys/' # remote S3 via goofys\n",
    "#s3bucket_path = '/Users/aluthra/Documents/DSE/ucsd-dse-capstone/' # Local storage (for sanity test)\n",
    "path_to_hdf5 = s3bucket_path + 'LUNA16/hdf5-files/64x64x64-patch.hdf5'\n",
    "path_to_hdf5 = s3bucket_path + 'mnist/mnist_lshape_28x28x28.hdf5'\n",
    "hdf5_file = h5py.File(path_to_hdf5, 'r') # open in read-only mode"
   ]
  },
  {
   "cell_type": "code",
   "execution_count": 3,
   "metadata": {},
   "outputs": [
    {
     "name": "stdout",
     "output_type": "stream",
     "text": [
      "Valid hdf5 file in 'read' mode: <HDF5 file \"mnist_lshape_28x28x28.hdf5\" (mode r)>\n",
      "Size of hdf5 file: 0.186 GB\n"
     ]
    }
   ],
   "source": [
    "print(\"Valid hdf5 file in 'read' mode: \" + str(hdf5_file))\n",
    "file_size = os.path.getsize(path_to_hdf5)\n",
    "print('Size of hdf5 file: {:.3f} GB'.format(file_size/2.0**30))"
   ]
  },
  {
   "cell_type": "code",
   "execution_count": 4,
   "metadata": {},
   "outputs": [
    {
     "name": "stdout",
     "output_type": "stream",
     "text": [
      "There are 1137 images in the dataset.\n"
     ]
    }
   ],
   "source": [
    "print(\"There are {} images in the dataset.\".format(hdf5_file['input'].shape[0]))"
   ]
  },
  {
   "cell_type": "code",
   "execution_count": 5,
   "metadata": {},
   "outputs": [
    {
     "name": "stdout",
     "output_type": "stream",
     "text": [
      "The datasets within the HDF5 file are:\n",
      " [<HDF5 dataset \"input\": shape (1137, 21952), type \"<f8\">, <HDF5 dataset \"output\": shape (1137,), type \"<i8\">]\n"
     ]
    }
   ],
   "source": [
    "print(\"The datasets within the HDF5 file are:\\n {}\".format(list(hdf5_file.values())))"
   ]
  },
  {
   "cell_type": "code",
   "execution_count": 6,
   "metadata": {
    "collapsed": true
   },
   "outputs": [],
   "source": [
    "def get_class_idx(hdf5_file, classid = 0):\n",
    "    '''\n",
    "    Get the indices for the class classid\n",
    "    '''\n",
    "    # 1. Select indices from class 0 and 1\n",
    "    #idx = np.where(hdf5_file[\"output\"][:,0] == classid)[0]  # Indices for class classid\n",
    "    idx = np.where(hdf5_file['output'][:] == classid)[0]\n",
    "    return idx\n"
   ]
  },
  {
   "cell_type": "code",
   "execution_count": 7,
   "metadata": {
    "collapsed": true
   },
   "outputs": [],
   "source": [
    "def remove_exclude_subset_idx(hdf5_file, idx, excluded_subset=0):\n",
    "    '''\n",
    "    Remove indices for the subset excluded_subset\n",
    "    '''   \n",
    "\n",
    "    subsets = hdf5_file[\"subsets\"][:,0]\n",
    "    excluded_idx = np.where(subsets == excluded_subset)[0] # indices\n",
    "    \n",
    "    return np.setdiff1d(idx, excluded_idx)  # Remove the indices of the excluded subset\n",
    "    "
   ]
  },
  {
   "cell_type": "code",
   "execution_count": 8,
   "metadata": {
    "collapsed": true
   },
   "outputs": [],
   "source": [
    "def get_idx_for_classes(hdf5_file, excluded_subset=0):\n",
    "    '''\n",
    "    Get the indices for each class but don't include indices from excluded subset\n",
    "    '''\n",
    "    \n",
    "    idx = {}\n",
    "#     idx[0] = get_class_idx(hdf5_file, 0)\n",
    "#     idx[1] = get_class_idx(hdf5_file, 1)\n",
    "    idx[0] = get_class_idx(hdf5_file, 4)\n",
    "    idx[1] = get_class_idx(hdf5_file, 5)\n",
    "    \n",
    "#     idx[0] = remove_exclude_subset_idx(hdf5_file, idx[0], excluded_subset)\n",
    "#     idx[1] = remove_exclude_subset_idx(hdf5_file, idx[1], excluded_subset)\n",
    "    \n",
    "    return idx"
   ]
  },
  {
   "cell_type": "markdown",
   "metadata": {},
   "source": [
    "## Custom HDF5 dataloader\n",
    "\n",
    "This is the first pass at our custom HDF5 data loader.\n",
    "We'll need to add data augmentation and class balancing to this."
   ]
  },
  {
   "cell_type": "code",
   "execution_count": 9,
   "metadata": {
    "collapsed": true
   },
   "outputs": [],
   "source": [
    "def get_random_idx(hdf5_file, idx, batch_size = 4):\n",
    "    '''\n",
    "    Batch size needs to be even.\n",
    "    This is yield a balanced set of random indices for each class. \n",
    "    '''\n",
    "        \n",
    "    idx0 = idx[0]\n",
    "    idx1 = idx[1]\n",
    "    \n",
    "    # 2. Shuffle the two indices\n",
    "    np.random.shuffle(idx0)  # This shuffles in place\n",
    "    np.random.shuffle(idx1)  # This shuffles in place\n",
    "\n",
    "    # 3. Take half of the batch from each class\n",
    "    idx0_shuffle = idx0[0:(batch_size//2)]\n",
    "    idx1_shuffle = idx1[0:(batch_size//2)]\n",
    "\n",
    "    # Need to sort final list in order to slice\n",
    "    return np.sort(np.append(idx0_shuffle, idx1_shuffle))\n"
   ]
  },
  {
   "cell_type": "code",
   "execution_count": 10,
   "metadata": {
    "collapsed": true
   },
   "outputs": [],
   "source": [
    "def img_rotate(img):\n",
    "    '''\n",
    "    Perform a random rotation on the tensor\n",
    "    `img` is the tensor\n",
    "    '''\n",
    "    shape = img.shape\n",
    "    # This will flip along n-1 axes. (If we flipped all n axes then we'd get the same result every time)\n",
    "    ax = np.random.choice(len(shape)-1,2, replace=False) # Choose randomly which axes to flip\n",
    "    return np.flip(img.swapaxes(ax[0], ax[1]), ax[0]) # Random +90 or -90 rotation"
   ]
  },
  {
   "cell_type": "code",
   "execution_count": 11,
   "metadata": {
    "collapsed": true
   },
   "outputs": [],
   "source": [
    "def img_flip(img):\n",
    "    '''\n",
    "    Performs a random flip on the tensor.\n",
    "    If the tensor is C x H x W x D this will perform flips on two of the C, H, D dimensions\n",
    "    If the tensor is C x H x W this will perform flip on either the H or the W dimension.\n",
    "    `img` is the tensor\n",
    "    '''\n",
    "    shape = img.shape\n",
    "    # This will flip along n-1 axes. (If we flipped all n axes then we'd get the same result every time)\n",
    "    ax = np.random.choice(len(shape)-1,len(shape)-2, replace=False) + 1 # Choose randomly which axes to flip\n",
    "    for i in ax:\n",
    "        img = np.flip(img, i) # Randomly flip along all but one axis\n",
    "    return img"
   ]
  },
  {
   "cell_type": "code",
   "execution_count": 12,
   "metadata": {
    "collapsed": true
   },
   "outputs": [],
   "source": [
    "def augment_data(imgs):\n",
    "    ''' \n",
    "    Performs random flips, rotations, and other operations on the image tensors.\n",
    "    '''\n",
    "    \n",
    "    imgs_length = imgs.shape[0]\n",
    "    \n",
    "    for idx in range(imgs_length):\n",
    "        img = imgs[idx, :]\n",
    "        \n",
    "        if (np.random.rand() > 0.5):\n",
    "            \n",
    "            if (np.random.rand() > 0.5):\n",
    "                img = img_rotate(img)\n",
    "\n",
    "            if (np.random.rand() > 0.5):\n",
    "                img = img_flip(img)\n",
    "        \n",
    "        else:\n",
    "            \n",
    "            if (np.random.rand() > 0.5):\n",
    "                img = img_flip(img)\n",
    "                \n",
    "            if (np.random.rand() > 0.5):\n",
    "                img = img_rotate(img)\n",
    "\n",
    "        imgs[idx,:] = img\n",
    "        \n",
    "    return imgs"
   ]
  },
  {
   "cell_type": "code",
   "execution_count": 13,
   "metadata": {
    "collapsed": true
   },
   "outputs": [],
   "source": [
    "def generate_data(hdf5_file, batch_size=50, exclude_subset=5):\n",
    "    \"\"\"Replaces Keras' native ImageDataGenerator.\"\"\"\n",
    "    \"\"\" Randomly select batch_size rows from the hdf5 file dataset \"\"\"\n",
    "    \n",
    "    input_shape = tuple([batch_size] + list(hdf5_file['input'].attrs['lshape']) + [1])\n",
    "    idx_master = get_idx_for_classes(hdf5_file, exclude_subset) \n",
    "    \n",
    "    while True:\n",
    "        \n",
    "        random_idx = get_random_idx(hdf5_file, idx_master, batch_size)\n",
    "        imgs = hdf5_file[\"input\"][random_idx,:]\n",
    "        imgs = imgs.reshape(input_shape)\n",
    "        ## Need to augment \n",
    "        imgs = augment_data(imgs)\n",
    "        \n",
    "        #classes = hdf5_file[\"output\"][random_idx,0]\n",
    "        classes = hdf5_file[\"output\"][list(random_idx)] - 4  # Change me back Anil\n",
    "        \n",
    "        yield imgs, classes"
   ]
  },
  {
   "cell_type": "code",
   "execution_count": 14,
   "metadata": {
    "collapsed": true
   },
   "outputs": [],
   "source": [
    "input_shape = tuple(list(hdf5_file[\"input\"].attrs[\"lshape\"]) + [1])  # Get the original shape of the tensor\n",
    "batch_size = 10   # Batch size to use"
   ]
  },
  {
   "cell_type": "code",
   "execution_count": 79,
   "metadata": {},
   "outputs": [
    {
     "name": "stdout",
     "output_type": "stream",
     "text": [
      "(10, 28, 28, 28, 1)\n",
      "(10,)\n",
      "(10, 28, 28, 28, 1)\n",
      "(10,)\n",
      "(10, 28, 28, 28, 1)\n",
      "(10,)\n"
     ]
    },
    {
     "ename": "ValueError",
     "evalue": "too many values to unpack (expected 2)",
     "output_type": "error",
     "traceback": [
      "\u001b[0;31m---------------------------------------------------------------------------\u001b[0m",
      "\u001b[0;31mValueError\u001b[0m                                Traceback (most recent call last)",
      "\u001b[0;32m<ipython-input-79-2ea6c76f5d7b>\u001b[0m in \u001b[0;36m<module>\u001b[0;34m()\u001b[0m\n\u001b[0;32m----> 1\u001b[0;31m \u001b[0mimgs\u001b[0m\u001b[0;34m,\u001b[0m \u001b[0mclasses\u001b[0m \u001b[0;34m=\u001b[0m \u001b[0mgenerate_data\u001b[0m\u001b[0;34m(\u001b[0m\u001b[0mhdf5_file\u001b[0m\u001b[0;34m,\u001b[0m \u001b[0mbatch_size\u001b[0m\u001b[0;34m=\u001b[0m\u001b[0mbatch_size\u001b[0m\u001b[0;34m,\u001b[0m \u001b[0mexclude_subset\u001b[0m\u001b[0;34m=\u001b[0m\u001b[0;36m2\u001b[0m\u001b[0;34m)\u001b[0m\u001b[0;34m\u001b[0m\u001b[0m\n\u001b[0m",
      "\u001b[0;31mValueError\u001b[0m: too many values to unpack (expected 2)"
     ]
    }
   ],
   "source": [
    "#imgs, classes = generate_data(hdf5_file, batch_size=batch_size, exclude_subset=2)"
   ]
  },
  {
   "cell_type": "code",
   "execution_count": 116,
   "metadata": {
    "collapsed": true
   },
   "outputs": [],
   "source": [
    "imgs = hdf5_file[\"inputs\"][random_idx,:]"
   ]
  },
  {
   "cell_type": "code",
   "execution_count": 120,
   "metadata": {
    "collapsed": true
   },
   "outputs": [],
   "source": [
    "imgs = imgs.reshape(10,64,64,64, 1)"
   ]
  },
  {
   "cell_type": "code",
   "execution_count": 121,
   "metadata": {
    "collapsed": true
   },
   "outputs": [],
   "source": [
    "import matplotlib.pyplot as plt\n",
    "%matplotlib inline"
   ]
  },
  {
   "cell_type": "code",
   "execution_count": 126,
   "metadata": {},
   "outputs": [
    {
     "data": {
      "text/plain": [
       "<matplotlib.image.AxesImage at 0x7fc73fde0278>"
      ]
     },
     "execution_count": 126,
     "metadata": {},
     "output_type": "execute_result"
    },
    {
     "data": {
      "image/png": "[encoded data removed]",
      "text/plain": [
       "<matplotlib.figure.Figure at 0x7fc73fe17908>"
      ]
     },
     "metadata": {},
     "output_type": "display_data"
    }
   ],
   "source": [
    "plt.imshow(imgs[9,:,:,32,0], cmap='bone')"
   ]
  },
  {
   "cell_type": "code",
   "execution_count": null,
   "metadata": {
    "collapsed": true
   },
   "outputs": [],
   "source": []
  },
  {
   "cell_type": "code",
   "execution_count": null,
   "metadata": {
    "collapsed": true
   },
   "outputs": [],
   "source": []
  },
  {
   "cell_type": "raw",
   "metadata": {
    "scrolled": false
   },
   "source": [
    "# JihongJu has a nice 3D Keras implementation with MIT license.\n",
    "# !pip install git+https://github.com/JihongJu/keras-resnet3d.git\n",
    "from resnet3d import Resnet3DBuilder\n",
    "model = Resnet3DBuilder.build_resnet_18(input_shape, 1)  # 18 layer\n",
    "# model = Resnet3DBuilder.build_resnet_34(input_shape, 1) # 34 layer\n",
    "# model = Resnet3DBuilder.build_resnet_50(input_shape, 1)  # 50 layer\n",
    "# model = Resnet3DBuilder.build_resnet_101(input_shape, 1) # 101 layer\n",
    "\n",
    "model.compile(optimizer='adam',\n",
    "              loss='binary_crossentropy',\n",
    "              metrics=['accuracy'])\n",
    "\n",
    "print(model.summary())"
   ]
  },
  {
   "cell_type": "code",
   "execution_count": 3,
   "metadata": {
    "collapsed": true
   },
   "outputs": [],
   "source": [
    "import keras\n",
    "from keras.datasets import mnist\n",
    "from keras.models import Sequential\n",
    "from keras.layers import Dense, Dropout, Flatten\n",
    "from keras.layers import Conv3D, MaxPooling3D\n",
    "from keras import backend as K"
   ]
  },
  {
   "cell_type": "code",
   "execution_count": 4,
   "metadata": {},
   "outputs": [
    {
     "name": "stdout",
     "output_type": "stream",
     "text": [
      "WARNING:tensorflow:From /home/tony/anaconda3/envs/tf/lib/python3.5/site-packages/keras/backend/tensorflow_backend.py:1264: calling reduce_prod (from tensorflow.python.ops.math_ops) with keep_dims is deprecated and will be removed in a future version.\n",
      "Instructions for updating:\n",
      "keep_dims is deprecated, use keepdims instead\n"
     ]
    }
   ],
   "source": [
    "model = Sequential()\n",
    "model.add(Conv3D(32, kernel_size=(3, 3,3),\n",
    "                 activation='relu',\n",
    "                 input_shape=input_shape))\n",
    "model.add(Conv3D(64, (3, 3,3), activation='relu'))\n",
    "model.add(MaxPooling3D(pool_size=(2, 2,2)))\n",
    "model.add(Dropout(0.25))\n",
    "model.add(Flatten())\n",
    "model.add(Dense(128, activation='relu'))\n",
    "model.add(Dropout(0.5))\n",
    "model.add(Dense(1, activation='sigmoid'))"
   ]
  },
  {
   "cell_type": "code",
   "execution_count": 5,
   "metadata": {
    "scrolled": true
   },
   "outputs": [
    {
     "name": "stdout",
     "output_type": "stream",
     "text": [
      "WARNING:tensorflow:From /home/tony/anaconda3/envs/tf/lib/python3.5/site-packages/keras/backend/tensorflow_backend.py:1349: calling reduce_mean (from tensorflow.python.ops.math_ops) with keep_dims is deprecated and will be removed in a future version.\n",
      "Instructions for updating:\n",
      "keep_dims is deprecated, use keepdims instead\n",
      "_________________________________________________________________\n",
      "Layer (type)                 Output Shape              Param #   \n",
      "=================================================================\n",
      "conv3d_1 (Conv3D)            (None, 26, 26, 26, 32)    896       \n",
      "_________________________________________________________________\n",
      "conv3d_2 (Conv3D)            (None, 24, 24, 24, 64)    55360     \n",
      "_________________________________________________________________\n",
      "max_pooling3d_1 (MaxPooling3 (None, 12, 12, 12, 64)    0         \n",
      "_________________________________________________________________\n",
      "dropout_1 (Dropout)          (None, 12, 12, 12, 64)    0         \n",
      "_________________________________________________________________\n",
      "flatten_1 (Flatten)          (None, 110592)            0         \n",
      "_________________________________________________________________\n",
      "dense_1 (Dense)              (None, 128)               14155904  \n",
      "_________________________________________________________________\n",
      "dropout_2 (Dropout)          (None, 128)               0         \n",
      "_________________________________________________________________\n",
      "dense_2 (Dense)              (None, 1)                 129       \n",
      "=================================================================\n",
      "Total params: 14,212,289\n",
      "Trainable params: 14,212,289\n",
      "Non-trainable params: 0\n",
      "_________________________________________________________________\n",
      "None\n"
     ]
    }
   ],
   "source": [
    "tb_log = keras.callbacks.TensorBoard(log_dir='./tb_logs', histogram_freq=0, batch_size=batch_size, \n",
    "                            write_graph=True, \n",
    "                            write_grads=True, write_images=True, \n",
    "                            embeddings_freq=0, embeddings_layer_names=None, \n",
    "                            embeddings_metadata=None)\n",
    "\n",
    "model.compile(optimizer='adam',\n",
    "              loss='binary_crossentropy',\n",
    "              metrics=['accuracy'])\n",
    "\n",
    "print(model.summary())"
   ]
  },
  {
   "cell_type": "markdown",
   "metadata": {},
   "source": [
    "## Train with fit_generator\n"
   ]
  },
  {
   "cell_type": "code",
   "execution_count": 22,
   "metadata": {},
   "outputs": [
    {
     "name": "stdout",
     "output_type": "stream",
     "text": [
      "Epoch 1/3\n",
      "10/10 [==============================] - 112s 11s/step - loss: 0.3703 - acc: 0.8600\n",
      "Epoch 2/3\n",
      "10/10 [==============================] - 75s 7s/step - loss: 0.2993 - acc: 0.8900\n",
      "Epoch 3/3\n",
      "10/10 [==============================] - 72s 7s/step - loss: 0.3149 - acc: 0.9100\n"
     ]
    }
   ],
   "source": [
    "history = model.fit_generator(generate_data(hdf5_file, batch_size, exclude_subset=2),\n",
    "                    steps_per_epoch=10, epochs=3, callbacks=[tb_log])"
   ]
  },
  {
   "cell_type": "code",
   "execution_count": 7,
   "metadata": {},
   "outputs": [],
   "source": [
    "from keras.utils import plot_model\n",
    "plot_model(model, to_file='model.png')\n"
   ]
  },
  {
   "cell_type": "code",
   "execution_count": null,
   "metadata": {
    "collapsed": true
   },
   "outputs": [],
   "source": []
  }
 ],
 "metadata": {
  "kernelspec": {
   "display_name": "Python 3",
   "language": "python",
   "name": "python3"
  },
  "language_info": {
   "codemirror_mode": {
    "name": "ipython",
    "version": 3
   },
   "file_extension": ".py",
   "mimetype": "text/x-python",
   "name": "python",
   "nbconvert_exporter": "python",
   "pygments_lexer": "ipython3",
   "version": "3.5.4"
  }
 },
 "nbformat": 4,
 "nbformat_minor": 2
}
