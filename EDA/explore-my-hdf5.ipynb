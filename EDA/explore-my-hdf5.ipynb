{
 "cells": [
  {
   "cell_type": "markdown",
   "metadata": {},
   "source": [
    "# WIP"
   ]
  },
  {
   "cell_type": "markdown",
   "metadata": {},
   "source": [
    "### Read your HDF5 file! and Explore its contents..\n",
    "\n",
    "Use [goofys](https://github.com/kahing/goofys) to mount the remote S3 directory onto your local folder. Then you can run this script which will test the speed of the S3 connection."
   ]
  },
  {
   "cell_type": "code",
   "execution_count": 1,
   "metadata": {},
   "outputs": [],
   "source": [
    "import os\n",
    "import numpy as np\n",
    "import pandas as pd\n",
    "from ipywidgets import interact\n",
    "import h5py # Read the Docs: http://docs.h5py.org/en/latest/index.html\n",
    "import matplotlib.pyplot as plt\n",
    "%matplotlib inline"
   ]
  },
  {
   "cell_type": "code",
   "execution_count": 2,
   "metadata": {
    "scrolled": true
   },
   "outputs": [],
   "source": [
    "#if AWS S3\n",
    "s3bucket_path = '/home/tony/Documents/s3bucket/'\n",
    "path_to_hdf5 = s3bucket_path + 'LUNA16/hdf5-files/32dim_patches.hdf5'\n",
    "hdf5_file = h5py.File(path_to_hdf5, 'r') # open in read-only mode"
   ]
  },
  {
   "cell_type": "code",
   "execution_count": 55,
   "metadata": {},
   "outputs": [],
   "source": [
    "#if local:\n",
    "hdf5_file_filename = '64dim_patches.hdf5'\n",
    "path_to_hdf5 = '/Users/keil/datasets/LUNA16/' + hdf5_file_filename\n",
    "hdf5_file = h5py.File(path_to_hdf5, 'r') # open in read-only mode"
   ]
  },
  {
   "cell_type": "code",
   "execution_count": 56,
   "metadata": {},
   "outputs": [
    {
     "name": "stdout",
     "output_type": "stream",
     "text": [
      "Valid hdf5 file in 'read' mode: <HDF5 file \"64dim_patches.hdf5\" (mode r)>\n",
      "Size of hdf5 file: 1.528 GB\n"
     ]
    }
   ],
   "source": [
    "print(\"Valid hdf5 file in 'read' mode: \" + str(hdf5_file))\n",
    "file_size = os.path.getsize(path_to_hdf5)\n",
    "print('Size of hdf5 file: {:.3f} GB'.format(file_size/2.0**30))"
   ]
  },
  {
   "cell_type": "code",
   "execution_count": 57,
   "metadata": {},
   "outputs": [
    {
     "name": "stdout",
     "output_type": "stream",
     "text": [
      "Dataset info and some real data:\n",
      "centroid\n",
      "<HDF5 dataset \"centroid\": shape (1560, 3), type \"<f8\">\n",
      "[[  67.94        264.36       -816.07      ]\n",
      " [  66.15469547  238.205652   -720.5669567 ]\n",
      " [  98.57        133.875      -790.67      ]\n",
      " [ 111.3564346   166.8786954  -797.322464  ]\n",
      " [ -41.1571876   235.0321874  -767.2096876 ]]\n",
      "inputs\n",
      "<HDF5 dataset \"inputs\": shape (1560, 262144), type \"<f4\">\n",
      "[[   71.    70.    61. ...,    40.    31.    27.]\n",
      " [ -754.  -773.  -861. ...,    34.     3.     4.]\n",
      " [   37.    31.    39. ...,   -38.   -19.    -3.]\n",
      " [  -46.   -20.    -9. ...,    40.    46.    58.]\n",
      " [ -996. -1001.  -988. ...,   172.   232.   261.]]\n",
      "outputs\n",
      "<HDF5 dataset \"outputs\": shape (1560, 1), type \"<i8\">\n",
      "[[0]\n",
      " [0]\n",
      " [0]\n",
      " [0]\n",
      " [0]]\n",
      "subsets\n",
      "<HDF5 dataset \"subsets\": shape (1560, 1), type \"<i8\">\n",
      "[[201]\n",
      " [201]\n",
      " [201]\n",
      " [201]\n",
      " [201]]\n",
      "uuid\n",
      "<HDF5 dataset \"uuid\": shape (1560, 1), type \"|O\">\n",
      "[[b'1.3.6.1.4.1.14519.5.2.1.6279.6001.199220738144407033276946096708']\n",
      " [b'1.3.6.1.4.1.14519.5.2.1.6279.6001.199220738144407033276946096708']\n",
      " [b'1.3.6.1.4.1.14519.5.2.1.6279.6001.199220738144407033276946096708']\n",
      " [b'1.3.6.1.4.1.14519.5.2.1.6279.6001.199220738144407033276946096708']\n",
      " [b'1.3.6.1.4.1.14519.5.2.1.6279.6001.199220738144407033276946096708']]\n"
     ]
    }
   ],
   "source": [
    "print('Dataset info and some real data:')\n",
    "for name in [key for key in hdf5_file.keys()]:\n",
    "    print(name)\n",
    "    print(hdf5_file[name]) #name + shape + dtype of the dataset (refer back to extract_patch.py)\n",
    "    print(hdf5_file[name][0:5]) #get the first 5 rows of the dataset"
   ]
  },
  {
   "cell_type": "markdown",
   "metadata": {},
   "source": [
    "### What about ML? We need to Shuffle our dataset and prepare it for Keras. Alternatively for smaller datasets we can just pull all the data out and into numpy/pandas and use sklearn as usual. "
   ]
  },
  {
   "cell_type": "code",
   "execution_count": 64,
   "metadata": {
    "scrolled": true
   },
   "outputs": [
    {
     "data": {
      "text/plain": [
       "array([[-754., -773., -861., ...,   34.,    3.,    4.],\n",
       "       [  37.,   31.,   39., ...,  -38.,  -19.,   -3.],\n",
       "       [ -46.,  -20.,   -9., ...,   40.,   46.,   58.],\n",
       "       ..., \n",
       "       [-999., -997., -992., ...,   25.,   20.,   58.],\n",
       "       [  77.,   60.,   39., ...,   62.,   58.,   40.],\n",
       "       [ 165.,  136.,  111., ...,  -50.,  -50.,  -71.]], dtype=float32)"
      ]
     },
     "execution_count": 64,
     "metadata": {},
     "output_type": "execute_result"
    }
   ],
   "source": [
    "a = hdf5_file[\"inputs\"]\n",
    "a[1:10,:]"
   ]
  },
  {
   "cell_type": "code",
   "execution_count": 65,
   "metadata": {},
   "outputs": [
    {
     "data": {
      "text/plain": [
       "array([ 71.,  70.,  61., ...,  40.,  31.,  27.], dtype=float32)"
      ]
     },
     "execution_count": 65,
     "metadata": {},
     "output_type": "execute_result"
    }
   ],
   "source": [
    "patches = hdf5_file[\"inputs\"][0]\n",
    "patches"
   ]
  },
  {
   "cell_type": "code",
   "execution_count": 24,
   "metadata": {},
   "outputs": [
    {
     "name": "stdout",
     "output_type": "stream",
     "text": [
      "4.02 ms ± 109 µs per loop (mean ± std. dev. of 30 runs, 100 loops each)\n"
     ]
    }
   ],
   "source": [
    "def test_loop():\n",
    "\n",
    "    idx = np.random.randint(50)\n",
    "    imgs = hdf5_file[\"patches\"][idx:(idx+40), :]\n",
    "    return imgs\n",
    "    \n",
    "%timeit -r 30 imgs = test_loop()  # 30 repetitions of the runs"
   ]
  },
  {
   "cell_type": "code",
   "execution_count": 28,
   "metadata": {},
   "outputs": [
    {
     "data": {
      "text/plain": [
       "32768"
      ]
     },
     "execution_count": 28,
     "metadata": {},
     "output_type": "execute_result"
    }
   ],
   "source": [
    "32*32*32"
   ]
  },
  {
   "cell_type": "code",
   "execution_count": 33,
   "metadata": {},
   "outputs": [
    {
     "data": {
      "image/png": "[encoded data removed]",
      "text/plain": [
       "<matplotlib.figure.Figure at 0x7f1535889b70>"
      ]
     },
     "metadata": {},
     "output_type": "display_data"
    }
   ],
   "source": [
    "imgs = test_loop()\n",
    "tensor = imgs[0,:].reshape(32,32,32)\n",
    "\n",
    "\n",
    "for i in range(9):\n",
    "    plt.subplot(3,3,i+1)\n",
    "    plt.imshow(tensor[i,:,:], cmap='bone')\n"
   ]
  },
  {
   "cell_type": "code",
   "execution_count": null,
   "metadata": {
    "collapsed": true
   },
   "outputs": [],
   "source": [
    "# keras.utils.HDF5Matrix(datapath, dataset, start=0, end=None, normalizer=None) #https://keras.io/utils/#hdf5matrix\n",
    "\n",
    "# with h5py.File('input/file.hdf5', 'r') as f:\n",
    "#     x_data = f['x_data']\n",
    "#     model.predict(x_data)"
   ]
  },
  {
   "cell_type": "code",
   "execution_count": null,
   "metadata": {
    "collapsed": true
   },
   "outputs": [],
   "source": [
    "# You can use the fit_generator method of your keras model. Just write your own generator class/function that pulls random batches of samples from your HDF5 file. That way, you never have to have all the data in memory at once. Similarly, if your validation data are too large to fit in memory, the validation_data argument to fit_generator also accepts a generator that produces batches from your validation data.\n",
    "\n",
    "# Essentially, you just need to do an np.random.shuffle on an array of indices into your data set, then split the random index array into training, validation, and testing array indices. Your generator arguments to fit_generator will just pull batches from your HDF5 file according to sequential batches of indices in the training and validation index arrays."
   ]
  },
  {
   "cell_type": "code",
   "execution_count": null,
   "metadata": {
    "collapsed": true
   },
   "outputs": [],
   "source": []
  }
 ],
 "metadata": {
  "kernelspec": {
   "display_name": "Python 3",
   "language": "python",
   "name": "python3"
  },
  "language_info": {
   "codemirror_mode": {
    "name": "ipython",
    "version": 3
   },
   "file_extension": ".py",
   "mimetype": "text/x-python",
   "name": "python",
   "nbconvert_exporter": "python",
   "pygments_lexer": "ipython3",
   "version": "3.6.3"
  }
 },
 "nbformat": 4,
 "nbformat_minor": 2
}
