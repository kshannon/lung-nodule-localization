{
 "cells": [
  {
   "cell_type": "markdown",
   "metadata": {},
   "source": [
    "### MNIST Data Augmentation test"
   ]
  },
  {
   "cell_type": "code",
   "execution_count": null,
   "metadata": {
    "collapsed": true
   },
   "outputs": [],
   "source": [
    "import pandas as pd\n",
    "import numpy as np\n",
    "from sklearn import preprocessing\n",
    "import matplotlib.pyplot as plt\n",
    "import itertools\n",
    "import h5py\n",
    "\n",
    "import matplotlib as mpl\n",
    "%matplotlib inline"
   ]
  },
  {
   "cell_type": "code",
   "execution_count": 5,
   "metadata": {},
   "outputs": [],
   "source": [
    "with open \\\n",
    "  ('mnist_train_data.csv', 'r') as f:\n",
    "        X_train = pd.read_csv(f, header=None)\n",
    "with open \\\n",
    "  ('mnist_train_labels.csv', 'r') as f:\n",
    "        y_train = pd.read_csv(f, header=None, names = ['labels'])\n",
    "# with open \\\n",
    "#   ('mnist_test_data.csv', 'r') as f:\n",
    "#         X_test = pd.read_csv(f, header=None)\n",
    "# with open \\\n",
    "#   ('mnist_test_labels.csv', 'r') as f:\n",
    "#         y_test = pd.read_csv(f, header=None)"
   ]
  },
  {
   "cell_type": "code",
   "execution_count": 7,
   "metadata": {},
   "outputs": [
    {
     "name": "stdout",
     "output_type": "stream",
     "text": [
      "(6000, 784) (6000, 1)\n",
      "Total 4 labels : 623, Total 5 labels : 514\n"
     ]
    }
   ],
   "source": [
    "print (X_train.shape, y_train.shape) \n",
    "combined_df =pd.concat([X_train, y_train], axis=1)\n",
    "df_4 = combined_df[combined_df['labels'] == 4 ]\n",
    "df_5 = combined_df[combined_df['labels'] == 5 ]\n",
    "print (\"Total 4 labels : {}, Total 5 labels : {}\".format(len(df_4), len(df_5) ) )"
   ]
  },
  {
   "cell_type": "code",
   "execution_count": 8,
   "metadata": {},
   "outputs": [
    {
     "data": {
      "text/plain": [
       "(1137, 784)"
      ]
     },
     "execution_count": 8,
     "metadata": {},
     "output_type": "execute_result"
    }
   ],
   "source": [
    "df_4_5 = pd.concat([df_4, df_5])\n",
    "df_4_5_labels =  df_4_5['labels']\n",
    "df_4_5_X = df_4_5.drop(['labels'], axis = 1)\n",
    "df_4_5_X.shape"
   ]
  },
  {
   "cell_type": "code",
   "execution_count": 9,
   "metadata": {
    "collapsed": true
   },
   "outputs": [],
   "source": [
    "def img_flip(img):\n",
    "    '''\n",
    "    Performs a random flip on the tensor.\n",
    "    If the tensor is C x H x W x D this will perform flips on two of the C, H, D dimensions\n",
    "    If the tensor is C x H x W this will perform flip on either the H or the W dimension.\n",
    "    `img` is the tensor\n",
    "    '''\n",
    "    shape = img.shape\n",
    "    # This will flip along n-1 axes. (If we flipped all n axes then we'd get the same result every time)\n",
    "    ax = np.random.choice(len(shape)-1,len(shape)-2, replace=False) + 1 # Choose randomly which axes to flip\n",
    "    for i in ax:\n",
    "        img = np.flip(img, i) # Randomly flip along all but one axis\n",
    "    return img"
   ]
  },
  {
   "cell_type": "code",
   "execution_count": 10,
   "metadata": {
    "collapsed": true
   },
   "outputs": [],
   "source": [
    "def img_rotate(img):\n",
    "    '''\n",
    "    Perform a random rotation on the tensor\n",
    "    `img` is the tensor\n",
    "    '''\n",
    "    shape = img.shape\n",
    "    # This will flip along n-1 axes. (If we flipped all n axes then we'd get the same result every time)\n",
    "    ax = np.random.choice(len(shape)-1,2, replace=False) # Choose randomly which axes to flip\n",
    "    return np.flip(img.swapaxes(ax[0], ax[1]), ax[0]) # Random +90 or -90 rotation"
   ]
  },
  {
   "cell_type": "code",
   "execution_count": 11,
   "metadata": {
    "collapsed": true
   },
   "outputs": [],
   "source": [
    "tensor_lst = []\n",
    "\n",
    "for i, row in df_4_5_X.iterrows():\n",
    "    tmp = (row.as_matrix()).reshape(28,28,1)\n",
    "    \n",
    "    tmp_out = np.zeros(shape=(28,28,28,1))\n",
    "    for x in range(28):\n",
    "        tmp_out[x, :, : ,: ] = tmp\n",
    "        \n",
    "    tensor_lst.append( tmp_out.ravel()  )\n",
    "tensor_3D = np.array (tensor_lst)  "
   ]
  },
  {
   "cell_type": "code",
   "execution_count": 12,
   "metadata": {
    "scrolled": true
   },
   "outputs": [
    {
     "data": {
      "text/plain": [
       "(1137, 21952)"
      ]
     },
     "execution_count": 12,
     "metadata": {},
     "output_type": "execute_result"
    }
   ],
   "source": [
    "tensor_3D.shape"
   ]
  },
  {
   "cell_type": "code",
   "execution_count": 18,
   "metadata": {
    "collapsed": true
   },
   "outputs": [],
   "source": [
    "#! ls ../../s3bucket/mnist/\n",
    "# MNIST_PATH = '/Users/aluthra/Documents/DSE/s3bucket/mnist/'\n",
    "# PATCH_DIM = 28\n",
    "# NUM_SLICES = 28"
   ]
  },
  {
   "cell_type": "code",
   "execution_count": null,
   "metadata": {},
   "outputs": [],
   "source": [
    "# total_patch_dim = PATCH_DIM * PATCH_DIM * NUM_SLICES\n",
    "# total_patch_dim"
   ]
  },
  {
   "cell_type": "code",
   "execution_count": 19,
   "metadata": {},
   "outputs": [
    {
     "data": {
      "text/plain": [
       "numpy.ndarray"
      ]
     },
     "execution_count": 19,
     "metadata": {},
     "output_type": "execute_result"
    }
   ],
   "source": [
    "arr_labels = np.array(df_4_5_labels)\n",
    "type(arr_labels)"
   ]
  },
  {
   "cell_type": "code",
   "execution_count": 20,
   "metadata": {},
   "outputs": [
    {
     "name": "stdout",
     "output_type": "stream",
     "text": [
      "<class 'numpy.ndarray'>\n",
      "<class 'numpy.ndarray'>\n"
     ]
    }
   ],
   "source": [
    "print (type(tensor_3D));\n",
    "print (type(arr_labels));"
   ]
  },
  {
   "cell_type": "code",
   "execution_count": 21,
   "metadata": {
    "collapsed": true
   },
   "outputs": [],
   "source": [
    "with h5py.File('mnist_28x28x28' + '.hdf5', 'w') as HDF5:\n",
    "    HDF5.create_dataset('input', data = tensor_3D )\n",
    "    HDF5.create_dataset('output', data = arr_labels )"
   ]
  },
  {
   "cell_type": "code",
   "execution_count": 23,
   "metadata": {
    "collapsed": true
   },
   "outputs": [],
   "source": [
    "hdf5_file = h5py.File('mnist_28x28x28.hdf5', 'r') # open in read-only mode"
   ]
  },
  {
   "cell_type": "code",
   "execution_count": 24,
   "metadata": {},
   "outputs": [
    {
     "name": "stdout",
     "output_type": "stream",
     "text": [
      "input\n",
      "<HDF5 dataset \"input\": shape (1137, 21952), type \"<f8\">\n",
      "[[ 0.  0.  0. ...,  0.  0.  0.]\n",
      " [ 0.  0.  0. ...,  0.  0.  0.]]\n",
      "output\n",
      "<HDF5 dataset \"output\": shape (1137,), type \"<i8\">\n",
      "[4 4]\n"
     ]
    }
   ],
   "source": [
    "for name in [key for key in hdf5_file.keys()]:\n",
    "    print(name);\n",
    "    print(hdf5_file[name]); #name + shape + dtype of the dataset (refer back to extract_patch.py)\n",
    "    print(hdf5_file[name][0:2]); #get the first 2 rows of the datasetaa"
   ]
  },
  {
   "cell_type": "code",
   "execution_count": null,
   "metadata": {
    "collapsed": true
   },
   "outputs": [],
   "source": []
  },
  {
   "cell_type": "code",
   "execution_count": null,
   "metadata": {},
   "outputs": [],
   "source": [
    "im = tensor_3D[705].reshape(28,28,28,1)\n",
    "plt.imshow(im[14, :, : ,0]);\n",
    "plt.imshow(img_flip(im)[14, :, : ,0]);\n",
    "#plt.imshow(img_rotate(im)[14, :, : ,0]);"
   ]
  },
  {
   "cell_type": "code",
   "execution_count": null,
   "metadata": {
    "collapsed": true
   },
   "outputs": [],
   "source": []
  }
 ],
 "metadata": {
  "kernelspec": {
   "display_name": "Python [conda env:py36]",
   "language": "python",
   "name": "conda-env-py36-py"
  },
  "language_info": {
   "codemirror_mode": {
    "name": "ipython",
    "version": 3
   },
   "file_extension": ".py",
   "mimetype": "text/x-python",
   "name": "python",
   "nbconvert_exporter": "python",
   "pygments_lexer": "ipython3",
   "version": "3.6.1"
  }
 },
 "nbformat": 4,
 "nbformat_minor": 2
}
