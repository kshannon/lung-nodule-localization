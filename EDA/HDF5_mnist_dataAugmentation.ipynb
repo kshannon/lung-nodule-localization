{
 "cells": [
  {
   "cell_type": "markdown",
   "metadata": {},
   "source": [
    "### MNIST Data Augmentation test"
   ]
  },
  {
   "cell_type": "code",
   "execution_count": 9,
   "metadata": {
    "collapsed": true
   },
   "outputs": [],
   "source": [
    "import pandas as pd\n",
    "import numpy as np\n",
    "from sklearn import preprocessing\n",
    "import matplotlib.pyplot as plt\n",
    "import itertools\n",
    "import h5py\n",
    "from subprocess import check_output\n",
    "\n",
    "import matplotlib as mpl\n",
    "%matplotlib inline"
   ]
  },
  {
   "cell_type": "code",
   "execution_count": 10,
   "metadata": {
    "collapsed": true
   },
   "outputs": [],
   "source": [
    "#print(check_output([\"ls\", \"../data\"]).decode(\"utf8\"))"
   ]
  },
  {
   "cell_type": "code",
   "execution_count": 11,
   "metadata": {
    "collapsed": true
   },
   "outputs": [],
   "source": [
    "with open \\\n",
    "  ('mnist_train_data.csv', 'r') as f:\n",
    "        X_train = pd.read_csv(f, header=None)\n",
    "with open \\\n",
    "  ('mnist_train_labels.csv', 'r') as f:\n",
    "        y_train = pd.read_csv(f, header=None, names = ['labels'])\n",
    "# with open \\\n",
    "#   ('mnist_test_data.csv', 'r') as f:\n",
    "#         X_test = pd.read_csv(f, header=None)\n",
    "# with open \\\n",
    "#   ('mnist_test_labels.csv', 'r') as f:\n",
    "#         y_test = pd.read_csv(f, header=None)"
   ]
  },
  {
   "cell_type": "code",
   "execution_count": 12,
   "metadata": {},
   "outputs": [
    {
     "name": "stdout",
     "output_type": "stream",
     "text": [
      "(6000, 784) (6000, 1)\n",
      "(6000, 785)\n"
     ]
    }
   ],
   "source": [
    "print (X_train.shape, y_train.shape) \n",
    "combined_df =pd.concat([X_train, y_train], axis=1)\n",
    "print (combined_df.shape)"
   ]
  },
  {
   "cell_type": "code",
   "execution_count": 13,
   "metadata": {
    "collapsed": true
   },
   "outputs": [],
   "source": [
    "# to_keep = [4, 5]\n",
    "# filterMesh = (combined_df['labels'].isin(to_keep))  ##  & (combined_df['count'] >= 50)\n",
    "# df_final = combined_df.loc[filterMesh]\n",
    "# df_labels = df_final['labels']\n",
    "# df_X = df_final.drop(['labels'], axis = 1)"
   ]
  },
  {
   "cell_type": "code",
   "execution_count": 14,
   "metadata": {},
   "outputs": [
    {
     "name": "stdout",
     "output_type": "stream",
     "text": [
      "Total 4 labels : 623, Total 5 labels : 514\n"
     ]
    },
    {
     "data": {
      "text/plain": [
       "(1137, 784)"
      ]
     },
     "execution_count": 14,
     "metadata": {},
     "output_type": "execute_result"
    }
   ],
   "source": [
    "df_4 = combined_df[combined_df['labels'] == 4 ]\n",
    "df_5 = combined_df[combined_df['labels'] == 5 ]\n",
    "print (\"Total 4 labels : {}, Total 5 labels : {}\".format(len(df_4), len(df_5) ) )\n",
    "df_4_5 = pd.concat([df_4, df_5])\n",
    "df_4_5_labels =  df_4_5['labels']\n",
    "df_4_5_X = df_4_5.drop(['labels'], axis = 1)"
   ]
  },
  {
   "cell_type": "code",
   "execution_count": 15,
   "metadata": {
    "collapsed": true
   },
   "outputs": [],
   "source": [
    "def img_flip(img):\n",
    "    '''\n",
    "    Performs a random flip on the tensor.\n",
    "    If the tensor is C x H x W x D this will perform flips on two of the C, H, D dimensions\n",
    "    If the tensor is C x H x W this will perform flip on either the H or the W dimension.\n",
    "    `img` is the tensor\n",
    "    '''\n",
    "    shape = img.shape\n",
    "    # This will flip along n-1 axes. (If we flipped all n axes then we'd get the same result every time)\n",
    "    ax = np.random.choice(len(shape)-1,len(shape)-2, replace=False) + 1 # Choose randomly which axes to flip\n",
    "    for i in ax:\n",
    "        img = np.flip(img, i) # Randomly flip along all but one axis\n",
    "    return img"
   ]
  },
  {
   "cell_type": "code",
   "execution_count": 16,
   "metadata": {
    "collapsed": true
   },
   "outputs": [],
   "source": [
    "def img_rotate(img):\n",
    "    '''\n",
    "    Perform a random rotation on the tensor\n",
    "    `img` is the tensor\n",
    "    '''\n",
    "    shape = img.shape\n",
    "    # This will flip along n-1 axes. (If we flipped all n axes then we'd get the same result every time)\n",
    "    ax = np.random.choice(len(shape)-1,2, replace=False) # Choose randomly which axes to flip\n",
    "    return np.flip(img.swapaxes(ax[0], ax[1]), ax[0]) # Random +90 or -90 rotation"
   ]
  },
  {
   "cell_type": "code",
   "execution_count": 17,
   "metadata": {
    "collapsed": true
   },
   "outputs": [],
   "source": [
    "tensor_lst = []\n",
    "\n",
    "for i, row in df_4_5_X.iterrows():\n",
    "    tmp = (row.as_matrix()).reshape(28,28,1)\n",
    "    \n",
    "    tmp_out = np.zeros(shape=(28,28,28,1))\n",
    "    for x in range(28):\n",
    "        tmp_out[x, :, : ,: ] = tmp\n",
    "        \n",
    "    tensor_lst.append( tmp_out.ravel()  )\n",
    "tensor_3D = np.array (tensor_lst)\n",
    "tensor_3D.shape"
   ]
  },
  {
   "cell_type": "code",
   "execution_count": 19,
   "metadata": {
    "collapsed": true
   },
   "outputs": [],
   "source": [
    "# ! ls ../../s3bucket/mnist/\n",
    "# MNIST_PATH = '/Users/aluthra/Documents/DSE/s3bucket/mnist/'\n",
    "# PATCH_DIM = 28\n",
    "# NUM_SLICES = 28"
   ]
  },
  {
   "cell_type": "code",
   "execution_count": 20,
   "metadata": {
    "collapsed": true
   },
   "outputs": [],
   "source": [
    "# total_patch_dim = PATCH_DIM * PATCH_DIM * NUM_SLICES\n",
    "# total_patch_dim"
   ]
  },
  {
   "cell_type": "code",
   "execution_count": 22,
   "metadata": {},
   "outputs": [
    {
     "name": "stdout",
     "output_type": "stream",
     "text": [
      "<class 'numpy.ndarray'>\n",
      "<class 'numpy.ndarray'>\n"
     ]
    }
   ],
   "source": [
    "arr_labels = np.array(df_4_5_labels)\n",
    "print (type(tensor_3D));\n",
    "print (type(arr_labels));"
   ]
  },
  {
   "cell_type": "code",
   "execution_count": 14,
   "metadata": {
    "collapsed": true
   },
   "outputs": [],
   "source": [
    "with h5py.File('mnist_28x28x28' + '.hdf5', 'w') as HDF5:\n",
    "    HDF5.create_dataset('input', data = tensor_3D )\n",
    "    HDF5['input'].attrs['lshape'] = (28, 28, 28)   #(Height, Width, Depth)\n",
    "\n",
    "    HDF5.create_dataset('output', data = arr_labels )"
   ]
  },
  {
   "cell_type": "code",
   "execution_count": 23,
   "metadata": {
    "collapsed": true
   },
   "outputs": [],
   "source": [
    "hdf5_file = h5py.File('mnist_28x28x28.hdf5', 'r') # open in read-only mode"
   ]
  },
  {
   "cell_type": "code",
   "execution_count": 24,
   "metadata": {},
   "outputs": [
    {
     "name": "stdout",
     "output_type": "stream",
     "text": [
      "input\n",
      "<HDF5 dataset \"input\": shape (1137, 21952), type \"<f8\">\n",
      "[[ 0.  0.  0. ...,  0.  0.  0.]\n",
      " [ 0.  0.  0. ...,  0.  0.  0.]]\n",
      "output\n",
      "<HDF5 dataset \"output\": shape (1137,), type \"<i8\">\n",
      "[4 4]\n"
     ]
    }
   ],
   "source": [
    "for name in [key for key in hdf5_file.keys()]:\n",
    "    print(name);\n",
    "    print(hdf5_file[name]); #name + shape + dtype of the dataset (refer back to extract_patch.py)\n",
    "    print(hdf5_file[name][0:2]); #get the first 2 rows of the datasetaa"
   ]
  },
  {
   "cell_type": "code",
   "execution_count": 25,
   "metadata": {},
   "outputs": [],
   "source": [
    "labels = np.array(df_4_5_labels)"
   ]
  },
  {
   "cell_type": "code",
   "execution_count": 26,
   "metadata": {},
   "outputs": [
    {
     "name": "stdout",
     "output_type": "stream",
     "text": [
      "5\n"
     ]
    },
    {
     "data": {
      "image/png": "[encoded data removed]",
      "text/plain": [
       "<matplotlib.figure.Figure at 0x11afe95f8>"
      ]
     },
     "metadata": {},
     "output_type": "display_data"
    }
   ],
   "source": [
    "idx =900\n",
    "print (labels[idx])\n",
    "im = tensor_3D[idx].reshape(28,28,28,1)\n",
    "plt.imshow(im[14, :, : ,0]);\n",
    "#plt.imshow(img_flip(im)[14, :, : ,0]);\n",
    "#plt.imshow(img_rotate(im)[14, :, : ,0]);"
   ]
  },
  {
   "cell_type": "code",
   "execution_count": 27,
   "metadata": {},
   "outputs": [
    {
     "data": {
      "image/png": "[encoded data removed]",
      "text/plain": [
       "<matplotlib.figure.Figure at 0x11afe9828>"
      ]
     },
     "metadata": {},
     "output_type": "display_data"
    }
   ],
   "source": [
    "plt.imshow(img_flip(im)[14, :, : ,0]);"
   ]
  },
  {
   "cell_type": "code",
   "execution_count": 28,
   "metadata": {},
   "outputs": [
    {
     "data": {
      "image/png": "[encoded data removed]",
      "text/plain": [
       "<matplotlib.figure.Figure at 0x13c7922e8>"
      ]
     },
     "metadata": {},
     "output_type": "display_data"
    }
   ],
   "source": [
    "plt.imshow(img_rotate(im)[14, :, : ,0]);"
   ]
  },
  {
   "cell_type": "code",
   "execution_count": null,
   "metadata": {
    "collapsed": true
   },
   "outputs": [],
   "source": []
  },
  {
   "cell_type": "code",
   "execution_count": 29,
   "metadata": {
    "collapsed": true
   },
   "outputs": [],
   "source": [
    "# toFilter = [4, 5]\n",
    "# filterMesh = (combined_df['labels'].isin(toFilter))  ##  & (combined_df['count'] >= 50)\n",
    "# df_final = combined_df.loc[filterMesh]"
   ]
  },
  {
   "cell_type": "code",
   "execution_count": 31,
   "metadata": {},
   "outputs": [
    {
     "data": {
      "text/plain": [
       "(1137,)"
      ]
     },
     "execution_count": 31,
     "metadata": {},
     "output_type": "execute_result"
    }
   ],
   "source": [
    "df_4_5_labels.shape"
   ]
  },
  {
   "cell_type": "code",
   "execution_count": null,
   "metadata": {
    "collapsed": true
   },
   "outputs": [],
   "source": []
  }
 ],
 "metadata": {
  "kernelspec": {
   "display_name": "Python [conda env:py36]",
   "language": "python",
   "name": "conda-env-py36-py"
  },
  "language_info": {
   "codemirror_mode": {
    "name": "ipython",
    "version": 3
   },
   "file_extension": ".py",
   "mimetype": "text/x-python",
   "name": "python",
   "nbconvert_exporter": "python",
   "pygments_lexer": "ipython3",
   "version": "3.6.1"
  }
 },
 "nbformat": 4,
 "nbformat_minor": 2
}
