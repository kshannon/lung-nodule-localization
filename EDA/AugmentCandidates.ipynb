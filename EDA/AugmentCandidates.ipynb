{
 "cells": [
  {
   "cell_type": "markdown",
   "metadata": {},
   "source": [
    "# Combine the candidates.csv and annotations.csv files\n",
    "\n",
    "For some reason, the candidates and annotations files were never merged. The additional information in the annotation file is the nodule size. That could be useful in our models. The sizes are only included for class 1 nodules and not all class 1 nodules have annotations. Also, the annotations are out of order and the candidate centers are slightly different between the annotations and candidates files. I've asked on the LUNA16 mailing list which of the coordinates is more accurate. Still waiting for a response.\n",
    "\n",
    "This script goes through both files and tries to match up the annotation with the correct candidate. It then merges the information and outputs this to a new candidates_plus_annotations.csv file."
   ]
  },
  {
   "cell_type": "code",
   "execution_count": 1,
   "metadata": {
    "collapsed": true
   },
   "outputs": [],
   "source": [
    "## Create new candidates file"
   ]
  },
  {
   "cell_type": "code",
   "execution_count": 3,
   "metadata": {
    "collapsed": true
   },
   "outputs": [],
   "source": [
    "import pandas as pd\n",
    "import numpy as np"
   ]
  },
  {
   "cell_type": "code",
   "execution_count": 4,
   "metadata": {
    "collapsed": true
   },
   "outputs": [],
   "source": [
    "DATA_DIR = \"/Volumes/data/tonyr/dicom/LUNA16/\"\n",
    "cand_path = 'CSVFILES/candidates_V2.csv'\n",
    "annotations_path = 'CSVFILES/annotations.csv'"
   ]
  },
  {
   "cell_type": "code",
   "execution_count": 5,
   "metadata": {},
   "outputs": [],
   "source": [
    "dfAnnotations = pd.read_csv(DATA_DIR+annotations_path).reset_index()\n",
    "dfAnnotations = dfAnnotations.rename(columns={'index': 'candidate'})\n",
    "dfCandidates = pd.read_csv(DATA_DIR+cand_path).reset_index()\n",
    "dfCandidates = dfCandidates.rename(columns={'index': 'candidate'})"
   ]
  },
  {
   "cell_type": "code",
   "execution_count": 5,
   "metadata": {
    "collapsed": true
   },
   "outputs": [],
   "source": [
    "dfCandidates['diameter_mm'] = np.nan  # Set a new column and fill with NaN until we know the true diameter of the candidate"
   ]
  },
  {
   "cell_type": "code",
   "execution_count": 6,
   "metadata": {
    "collapsed": true
   },
   "outputs": [],
   "source": [
    "dfClass1 = dfCandidates[dfCandidates['class'] == 1].copy(deep=True)  # Get only the class 1 (they are the only ones that are labeled)"
   ]
  },
  {
   "cell_type": "code",
   "execution_count": 6,
   "metadata": {},
   "outputs": [
    {
     "data": {
      "text/plain": [
       "(754975, 6)"
      ]
     },
     "execution_count": 6,
     "metadata": {},
     "output_type": "execute_result"
    }
   ],
   "source": [
    "dfCandidates.shape"
   ]
  },
  {
   "cell_type": "markdown",
   "metadata": {},
   "source": [
    "## Append nodule size to candidates\n",
    "\n",
    "Loop through the annotations dataframe and look for the closest points to the ROI centers listed in the candidates file. Then update the candidates dataframe with the nodule size listed in the annotated file."
   ]
  },
  {
   "cell_type": "code",
   "execution_count": 7,
   "metadata": {
    "collapsed": true
   },
   "outputs": [],
   "source": [
    "seriesuid = dfClass1['seriesuid'].unique()  # Get the unique series names (subjects)\n",
    "\n",
    "for seriesNum in seriesuid:\n",
    "    \n",
    "    # Get the annotations for this candidate\n",
    "    candAnnotations = dfAnnotations[dfAnnotations['seriesuid']==seriesNum]['candidate'].values\n",
    "    candCandidates = dfClass1[dfClass1['seriesuid'] == seriesNum]['candidate'].values\n",
    "\n",
    "    # Now loop through annotations to find closest candidate\n",
    "    diameterArray = []\n",
    "\n",
    "    for ia in candAnnotations: # Loop through the annotation indices for this seriesuid\n",
    "\n",
    "        annotatePoint = dfAnnotations[dfAnnotations['candidate']==ia][['coordX', 'coordY', 'coordZ']].values\n",
    "\n",
    "        closestDist = 10000\n",
    "\n",
    "        for ic in candCandidates: # Loop through the candidate indices for this seriesuid\n",
    "\n",
    "            candidatePoint = dfCandidates[dfCandidates['candidate']==ic][['coordX', 'coordY', 'coordZ']].values\n",
    "\n",
    "            dist = np.linalg.norm(annotatePoint - candidatePoint)  # Find euclidean distance between points\n",
    "\n",
    "            if dist < closestDist:  # If this distance is closer then update array\n",
    "                closest = [ia, ic, \n",
    "                           dfAnnotations[dfAnnotations['candidate']==ia]['diameter_mm'].values[0],\n",
    "                           dfAnnotations[dfAnnotations['candidate']==ia]['coordX'].values[0],\n",
    "                           dfAnnotations[dfAnnotations['candidate']==ia]['coordY'].values[0],\n",
    "                           dfAnnotations[dfAnnotations['candidate']==ia]['coordZ'].values[0]]\n",
    "                closestDist = dist  # Update with new closest distance      \n",
    "\n",
    "        diameterArray.append(closest)  \n",
    "       \n",
    "    # Update dfClass1 to include the annotated size of the nodule (diameter_mm)\n",
    "    for row in diameterArray:\n",
    "        dfClass1.set_value(row[1], 'diameter_mm', row[2])  \n",
    "        dfClass1.set_value(row[1], 'coordX_annotated', row[3])\n",
    "        dfClass1.set_value(row[1], 'coordY_annotated', row[4])\n",
    "        dfClass1.set_value(row[1], 'coordZ_annotated', row[5])\n",
    "        "
   ]
  },
  {
   "cell_type": "markdown",
   "metadata": {},
   "source": [
    "## Not all candidates were annotated\n",
    "\n",
    "It looks like none of the class 0 candidates were annotated.  389 of the 1,557 class 1 nodules are also missing annotations."
   ]
  },
  {
   "cell_type": "code",
   "execution_count": 8,
   "metadata": {},
   "outputs": [
    {
     "data": {
      "text/html": [
       "<div>\n",
       "<style>\n",
       "    .dataframe thead tr:only-child th {\n",
       "        text-align: right;\n",
       "    }\n",
       "\n",
       "    .dataframe thead th {\n",
       "        text-align: left;\n",
       "    }\n",
       "\n",
       "    .dataframe tbody tr th {\n",
       "        vertical-align: top;\n",
       "    }\n",
       "</style>\n",
       "<table border=\"1\" class=\"dataframe\">\n",
       "  <thead>\n",
       "    <tr style=\"text-align: right;\">\n",
       "      <th></th>\n",
       "      <th>candidate</th>\n",
       "      <th>seriesuid</th>\n",
       "      <th>coordX</th>\n",
       "      <th>coordY</th>\n",
       "      <th>coordZ</th>\n",
       "      <th>class</th>\n",
       "      <th>diameter_mm</th>\n",
       "      <th>coordX_annotated</th>\n",
       "      <th>coordY_annotated</th>\n",
       "      <th>coordZ_annotated</th>\n",
       "    </tr>\n",
       "  </thead>\n",
       "  <tbody>\n",
       "    <tr>\n",
       "      <th>436</th>\n",
       "      <td>436</td>\n",
       "      <td>1.3.6.1.4.1.14519.5.2.1.6279.6001.100225287222...</td>\n",
       "      <td>104.083933</td>\n",
       "      <td>-211.755826</td>\n",
       "      <td>-227.017987</td>\n",
       "      <td>1</td>\n",
       "      <td>4.224708</td>\n",
       "      <td>103.783651</td>\n",
       "      <td>-211.925149</td>\n",
       "      <td>-227.121250</td>\n",
       "    </tr>\n",
       "    <tr>\n",
       "      <th>1009</th>\n",
       "      <td>1009</td>\n",
       "      <td>1.3.6.1.4.1.14519.5.2.1.6279.6001.100225287222...</td>\n",
       "      <td>-128.982091</td>\n",
       "      <td>-175.176790</td>\n",
       "      <td>-298.510192</td>\n",
       "      <td>1</td>\n",
       "      <td>5.651471</td>\n",
       "      <td>-128.699421</td>\n",
       "      <td>-175.319272</td>\n",
       "      <td>-298.387506</td>\n",
       "    </tr>\n",
       "    <tr>\n",
       "      <th>2053</th>\n",
       "      <td>2053</td>\n",
       "      <td>1.3.6.1.4.1.14519.5.2.1.6279.6001.100398138793...</td>\n",
       "      <td>69.974375</td>\n",
       "      <td>-141.066875</td>\n",
       "      <td>876.777280</td>\n",
       "      <td>1</td>\n",
       "      <td>5.786348</td>\n",
       "      <td>69.639017</td>\n",
       "      <td>-140.944586</td>\n",
       "      <td>876.374496</td>\n",
       "    </tr>\n",
       "    <tr>\n",
       "      <th>3633</th>\n",
       "      <td>3633</td>\n",
       "      <td>1.3.6.1.4.1.14519.5.2.1.6279.6001.100621383016...</td>\n",
       "      <td>1.790000</td>\n",
       "      <td>166.340000</td>\n",
       "      <td>-408.880000</td>\n",
       "      <td>1</td>\n",
       "      <td>NaN</td>\n",
       "      <td>NaN</td>\n",
       "      <td>NaN</td>\n",
       "      <td>NaN</td>\n",
       "    </tr>\n",
       "    <tr>\n",
       "      <th>3707</th>\n",
       "      <td>3707</td>\n",
       "      <td>1.3.6.1.4.1.14519.5.2.1.6279.6001.100621383016...</td>\n",
       "      <td>1.859783</td>\n",
       "      <td>172.221534</td>\n",
       "      <td>-405.366447</td>\n",
       "      <td>1</td>\n",
       "      <td>18.545150</td>\n",
       "      <td>2.441547</td>\n",
       "      <td>172.464881</td>\n",
       "      <td>-405.493732</td>\n",
       "    </tr>\n",
       "    <tr>\n",
       "      <th>3748</th>\n",
       "      <td>3748</td>\n",
       "      <td>1.3.6.1.4.1.14519.5.2.1.6279.6001.100621383016...</td>\n",
       "      <td>95.927241</td>\n",
       "      <td>143.074256</td>\n",
       "      <td>-425.000000</td>\n",
       "      <td>1</td>\n",
       "      <td>NaN</td>\n",
       "      <td>NaN</td>\n",
       "      <td>NaN</td>\n",
       "      <td>NaN</td>\n",
       "    </tr>\n",
       "    <tr>\n",
       "      <th>3842</th>\n",
       "      <td>3842</td>\n",
       "      <td>1.3.6.1.4.1.14519.5.2.1.6279.6001.100621383016...</td>\n",
       "      <td>89.320000</td>\n",
       "      <td>190.840000</td>\n",
       "      <td>-516.820000</td>\n",
       "      <td>1</td>\n",
       "      <td>NaN</td>\n",
       "      <td>NaN</td>\n",
       "      <td>NaN</td>\n",
       "      <td>NaN</td>\n",
       "    </tr>\n",
       "    <tr>\n",
       "      <th>3866</th>\n",
       "      <td>3866</td>\n",
       "      <td>1.3.6.1.4.1.14519.5.2.1.6279.6001.100621383016...</td>\n",
       "      <td>90.794891</td>\n",
       "      <td>148.860497</td>\n",
       "      <td>-426.786049</td>\n",
       "      <td>1</td>\n",
       "      <td>18.208570</td>\n",
       "      <td>90.931713</td>\n",
       "      <td>149.027266</td>\n",
       "      <td>-426.544715</td>\n",
       "    </tr>\n",
       "    <tr>\n",
       "      <th>3870</th>\n",
       "      <td>3870</td>\n",
       "      <td>1.3.6.1.4.1.14519.5.2.1.6279.6001.100621383016...</td>\n",
       "      <td>88.690908</td>\n",
       "      <td>150.310589</td>\n",
       "      <td>-434.000000</td>\n",
       "      <td>1</td>\n",
       "      <td>NaN</td>\n",
       "      <td>NaN</td>\n",
       "      <td>NaN</td>\n",
       "      <td>NaN</td>\n",
       "    </tr>\n",
       "    <tr>\n",
       "      <th>3901</th>\n",
       "      <td>3901</td>\n",
       "      <td>1.3.6.1.4.1.14519.5.2.1.6279.6001.100621383016...</td>\n",
       "      <td>-23.851577</td>\n",
       "      <td>192.982264</td>\n",
       "      <td>-391.433808</td>\n",
       "      <td>1</td>\n",
       "      <td>8.143262</td>\n",
       "      <td>-24.013824</td>\n",
       "      <td>192.102405</td>\n",
       "      <td>-391.081276</td>\n",
       "    </tr>\n",
       "  </tbody>\n",
       "</table>\n",
       "</div>"
      ],
      "text/plain": [
       "      candidate                                          seriesuid  \\\n",
       "436         436  1.3.6.1.4.1.14519.5.2.1.6279.6001.100225287222...   \n",
       "1009       1009  1.3.6.1.4.1.14519.5.2.1.6279.6001.100225287222...   \n",
       "2053       2053  1.3.6.1.4.1.14519.5.2.1.6279.6001.100398138793...   \n",
       "3633       3633  1.3.6.1.4.1.14519.5.2.1.6279.6001.100621383016...   \n",
       "3707       3707  1.3.6.1.4.1.14519.5.2.1.6279.6001.100621383016...   \n",
       "3748       3748  1.3.6.1.4.1.14519.5.2.1.6279.6001.100621383016...   \n",
       "3842       3842  1.3.6.1.4.1.14519.5.2.1.6279.6001.100621383016...   \n",
       "3866       3866  1.3.6.1.4.1.14519.5.2.1.6279.6001.100621383016...   \n",
       "3870       3870  1.3.6.1.4.1.14519.5.2.1.6279.6001.100621383016...   \n",
       "3901       3901  1.3.6.1.4.1.14519.5.2.1.6279.6001.100621383016...   \n",
       "\n",
       "          coordX      coordY      coordZ  class  diameter_mm  \\\n",
       "436   104.083933 -211.755826 -227.017987      1     4.224708   \n",
       "1009 -128.982091 -175.176790 -298.510192      1     5.651471   \n",
       "2053   69.974375 -141.066875  876.777280      1     5.786348   \n",
       "3633    1.790000  166.340000 -408.880000      1          NaN   \n",
       "3707    1.859783  172.221534 -405.366447      1    18.545150   \n",
       "3748   95.927241  143.074256 -425.000000      1          NaN   \n",
       "3842   89.320000  190.840000 -516.820000      1          NaN   \n",
       "3866   90.794891  148.860497 -426.786049      1    18.208570   \n",
       "3870   88.690908  150.310589 -434.000000      1          NaN   \n",
       "3901  -23.851577  192.982264 -391.433808      1     8.143262   \n",
       "\n",
       "      coordX_annotated  coordY_annotated  coordZ_annotated  \n",
       "436         103.783651       -211.925149       -227.121250  \n",
       "1009       -128.699421       -175.319272       -298.387506  \n",
       "2053         69.639017       -140.944586        876.374496  \n",
       "3633               NaN               NaN               NaN  \n",
       "3707          2.441547        172.464881       -405.493732  \n",
       "3748               NaN               NaN               NaN  \n",
       "3842               NaN               NaN               NaN  \n",
       "3866         90.931713        149.027266       -426.544715  \n",
       "3870               NaN               NaN               NaN  \n",
       "3901        -24.013824        192.102405       -391.081276  "
      ]
     },
     "execution_count": 8,
     "metadata": {},
     "output_type": "execute_result"
    }
   ],
   "source": [
    "dfClass1.iloc[:10,:]"
   ]
  },
  {
   "cell_type": "code",
   "execution_count": 9,
   "metadata": {
    "collapsed": true
   },
   "outputs": [],
   "source": [
    "del dfCandidates['diameter_mm']"
   ]
  },
  {
   "cell_type": "code",
   "execution_count": 10,
   "metadata": {
    "collapsed": true,
    "scrolled": true
   },
   "outputs": [],
   "source": [
    "dfOut = dfCandidates.join(dfClass1[['candidate', 'diameter_mm', 'coordX_annotated', 'coordY_annotated', 'coordZ_annotated']], on='candidate', rsuffix='_r')\n",
    "del dfOut['candidate_r']\n",
    "del dfOut['candidate']"
   ]
  },
  {
   "cell_type": "code",
   "execution_count": 11,
   "metadata": {
    "collapsed": true
   },
   "outputs": [],
   "source": [
    "dfOut.to_csv('candidates_with_annotations.csv', index=False)"
   ]
  },
  {
   "cell_type": "code",
   "execution_count": null,
   "metadata": {
    "collapsed": true
   },
   "outputs": [],
   "source": []
  }
 ],
 "metadata": {
  "kernelspec": {
   "display_name": "Python 2",
   "language": "python",
   "name": "python2"
  },
  "language_info": {
   "codemirror_mode": {
    "name": "ipython",
    "version": 2
   },
   "file_extension": ".py",
   "mimetype": "text/x-python",
   "name": "python",
   "nbconvert_exporter": "python",
   "pygments_lexer": "ipython2",
   "version": "2.7.13"
  }
 },
 "nbformat": 4,
 "nbformat_minor": 2
}
