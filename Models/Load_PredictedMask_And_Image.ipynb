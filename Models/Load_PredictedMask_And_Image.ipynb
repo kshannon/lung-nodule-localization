{
 "cells": [
  {
   "cell_type": "markdown",
   "metadata": {},
   "source": [
    "#### Load the pickled predicted mask and original image; the pickled file is created by \"UNET_Prediction_EntireScan\" script.\n",
    "1. Create a folder ../data/luna16/\n",
    "2. Create a folder ../data/luna16/subset2\n",
    "      Download pickled prediction file (it has been created for this one scan)\n",
    "      'entire_predictions_1.3.6.1.4.1.14519.5.2.1.6279.6001.100621383016233746780170740405.dat\"\n",
    "      from https://drive.google.com/drive/u/1/folders/13wmubTgm-7sh3MxPGxqmVZuoqi0G3ufW"
   ]
  },
  {
   "cell_type": "code",
   "execution_count": 6,
   "metadata": {},
   "outputs": [],
   "source": [
    "import pandas as pd\n",
    "import numpy as np\n",
    "import h5py\n",
    "import pandas as pd\n",
    "import argparse\n",
    "import SimpleITK as sitk\n",
    "from PIL import Image\n",
    "import os, glob \n",
    "import os, os.path\n",
    "import tensorflow as tf\n",
    "import keras\n",
    "from ipywidgets import interact\n",
    "import pickle\n",
    "import matplotlib.pyplot as plt\n",
    "%matplotlib inline"
   ]
  },
  {
   "cell_type": "code",
   "execution_count": 2,
   "metadata": {
    "collapsed": true
   },
   "outputs": [],
   "source": [
    "# HOLDOUT = 5\n",
    "# HO_dir = 'HO{}/'.format(HOLDOUT)\n",
    "data_dir = '../data/luna16/'\n",
    "prediction_file = 'subset2/entire_predictions_1.3.6.1.4.1.14519.5.2.1.6279.6001.100621383016233746780170740405.dat'\n",
    "size_file = 'subset2/entire_size_1.3.6.1.4.1.14519.5.2.1.6279.6001.100621383016233746780170740405.dat'"
   ]
  },
  {
   "cell_type": "code",
   "execution_count": 3,
   "metadata": {},
   "outputs": [
    {
     "name": "stdout",
     "output_type": "stream",
     "text": [
      "\n",
      " Predicted mask sum : 119040.40901441715\n"
     ]
    }
   ],
   "source": [
    "pkl_file = open(data_dir+prediction_file, 'rb')\n",
    "predictions_dict = pickle.load(pkl_file)\n",
    "# predictions_dict {seriesuid : (img.shape, padded_img, predicted_mask)}\n",
    "value = predictions_dict['1.3.6.1.4.1.14519.5.2.1.6279.6001.100621383016233746780170740405']\n",
    "\n",
    "img_shape = value[0]\n",
    "padded_img = value[1]\n",
    "predicted_mask = value[2]\n",
    "print (\"\\n Predicted mask sum : {}\".format(np.sum(predicted_mask)))"
   ]
  },
  {
   "cell_type": "code",
   "execution_count": 4,
   "metadata": {},
   "outputs": [
    {
     "data": {
      "application/vnd.jupyter.widget-view+json": {
       "model_id": "e868f43e2e10445ab668beaeca0c8af4"
      }
     },
     "metadata": {},
     "output_type": "display_data"
    }
   ],
   "source": [
    "def displaySlice(sliceNo):\n",
    "    \n",
    "    plt.figure(figsize=[20,20]);    \n",
    "    plt.subplot(121)\n",
    "    plt.title(\"True Image\")\n",
    "    plt.imshow(padded_img[:, :, sliceNo], cmap='bone');\n",
    "\n",
    "    plt.subplot(122)\n",
    "    plt.title(\"Predicted Mask\")\n",
    "    plt.imshow(predicted_mask[:, :, sliceNo], cmap='bone');\n",
    "\n",
    "    plt.show()\n",
    "interact(displaySlice, sliceNo=(1,img_shape[2],1));"
   ]
  },
  {
   "cell_type": "code",
   "execution_count": null,
   "metadata": {
    "collapsed": true
   },
   "outputs": [],
   "source": []
  },
  {
   "cell_type": "code",
   "execution_count": 5,
   "metadata": {
    "collapsed": true
   },
   "outputs": [],
   "source": [
    "# print (\"\\n Predicted mask sum : {}\".format(np.sum(predicted_mask)))\n",
    "#  Predicted mask sum : 119040.40901441715"
   ]
  },
  {
   "cell_type": "code",
   "execution_count": null,
   "metadata": {
    "collapsed": true
   },
   "outputs": [],
   "source": []
  }
 ],
 "metadata": {
  "kernelspec": {
   "display_name": "Python [conda env:deeplearning]",
   "language": "python",
   "name": "conda-env-deeplearning-py"
  },
  "language_info": {
   "codemirror_mode": {
    "name": "ipython",
    "version": 3
   },
   "file_extension": ".py",
   "mimetype": "text/x-python",
   "name": "python",
   "nbconvert_exporter": "python",
   "pygments_lexer": "ipython3",
   "version": "3.5.3"
  }
 },
 "nbformat": 4,
 "nbformat_minor": 2
}
