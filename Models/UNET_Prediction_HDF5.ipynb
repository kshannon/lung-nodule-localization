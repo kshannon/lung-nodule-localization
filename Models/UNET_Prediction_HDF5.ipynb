{
 "cells": [
  {
   "cell_type": "markdown",
   "metadata": {},
   "source": [
    "#### To test: \n",
    "1. Create a folder ~/data/luna16/\n",
    "2. Create a folder ~/data/luna16/hdf5\n",
    "    -Under this copy UNET_weights_H5.h5 (download from google drive)\n",
    "3. Create a folder ~/data/luna16/hdf5/HO5 \n",
    "    -Under this copy 64x64x64-patch-withdiam_sample.hdf5"
   ]
  },
  {
   "cell_type": "code",
   "execution_count": 1,
   "metadata": {},
   "outputs": [
    {
     "name": "stderr",
     "output_type": "stream",
     "text": [
      "/home/tony/anaconda3/envs/tf/lib/python3.5/site-packages/h5py/__init__.py:36: FutureWarning: Conversion of the second argument of issubdtype from `float` to `np.floating` is deprecated. In future, it will be treated as `np.float64 == np.dtype(float).type`.\n",
      "  from ._conv import register_converters as _register_converters\n",
      "Using TensorFlow backend.\n"
     ]
    }
   ],
   "source": [
    "import numpy as np\n",
    "import h5py\n",
    "import pandas as pd\n",
    "import keras\n",
    "\n",
    "from ipywidgets import interact\n",
    "\n",
    "from UNET_utils import *\n",
    "from matplotlib import pyplot as plt\n",
    "%matplotlib inline"
   ]
  },
  {
   "cell_type": "code",
   "execution_count": 2,
   "metadata": {
    "collapsed": true
   },
   "outputs": [],
   "source": [
    "HOLDOUT = 5\n",
    "TOP_DIR = \"/home/tony\"\n",
    "HO_dir = 'hdf5/HO{}/'.format(HOLDOUT)\n",
    "data_dir = '{}/data/luna16/'.format(TOP_DIR)\n",
    "model_wghts = 'hdf5/UNET_weights_modelB_H{}.h5'.format(HOLDOUT)"
   ]
  },
  {
   "cell_type": "code",
   "execution_count": 3,
   "metadata": {
    "collapsed": true
   },
   "outputs": [],
   "source": [
    "def model_create_loadWghts_Model_B():\n",
    "   \n",
    "    input_shape=(None, None, None, 1)\n",
    "    model = unet3D_modelB(input_shape, use_upsampling=True)\n",
    "\n",
    "    model.load_weights(data_dir + model_wghts)\n",
    "\n",
    "    return model"
   ]
  },
  {
   "cell_type": "code",
   "execution_count": 4,
   "metadata": {},
   "outputs": [
    {
     "name": "stdout",
     "output_type": "stream",
     "text": [
      "3D U-Net Segmentation\n"
     ]
    }
   ],
   "source": [
    "model = model_create_loadWghts_Model_B() "
   ]
  },
  {
   "cell_type": "code",
   "execution_count": 5,
   "metadata": {},
   "outputs": [],
   "source": [
    "hdf = h5py.File(\"{}{}/64x64x64-patch-withdiam_sample.hdf5\".format(data_dir, HO_dir), \"r\")"
   ]
  },
  {
   "cell_type": "code",
   "execution_count": 6,
   "metadata": {},
   "outputs": [
    {
     "data": {
      "text/plain": [
       "['centroid', 'diameter_label', 'input', 'notrain', 'output', 'subsets', 'uuid']"
      ]
     },
     "execution_count": 6,
     "metadata": {},
     "output_type": "execute_result"
    }
   ],
   "source": [
    "list(hdf.keys())"
   ]
  },
  {
   "cell_type": "code",
   "execution_count": 7,
   "metadata": {},
   "outputs": [],
   "source": [
    "class1 = np.where(hdf[\"output\"][:,0]==1)[0]  # Where are class 1\n",
    "class0 = np.where(hdf[\"output\"][:,0]==0)[0]  # Where are class 1"
   ]
  },
  {
   "cell_type": "code",
   "execution_count": 8,
   "metadata": {},
   "outputs": [
    {
     "data": {
      "text/plain": [
       "28"
      ]
     },
     "execution_count": 8,
     "metadata": {},
     "output_type": "execute_result"
    }
   ],
   "source": [
    "class1[0]"
   ]
  },
  {
   "cell_type": "code",
   "execution_count": 9,
   "metadata": {},
   "outputs": [
    {
     "name": "stdout",
     "output_type": "stream",
     "text": [
      "Class 1\n"
     ]
    },
    {
     "data": {
      "application/vnd.jupyter.widget-view+json": {
       "model_id": "b40031bfb2f54679b794ed1653d77cc5",
       "version_major": 2,
       "version_minor": 0
      },
      "text/plain": [
       "A Jupyter Widget"
      ]
     },
     "metadata": {},
     "output_type": "display_data"
    },
    {
     "name": "stdout",
     "output_type": "stream",
     "text": [
      "[b'1.3.6.1.4.1.14519.5.2.1.6279.6001.100621383016233746780170740405']\n"
     ]
    }
   ],
   "source": [
    "print(\"Class 1\")\n",
    "\n",
    "class1idx = 0\n",
    "\n",
    "# Choose one of the class 1 ROIs\n",
    "\n",
    "img1 = hdf[\"input\"][class1[class1idx],:].reshape(64,64,64,1)  \n",
    "\n",
    "\n",
    "predict_array = model.predict(np.expand_dims(img1,0), verbose=2)\n",
    "\n",
    "prediction_mask1 = predict_array[0]\n",
    "prediction_featuremaps1 = predict_array[1]\n",
    "\n",
    "\n",
    "def displaySlice(sliceNo):\n",
    "    \n",
    "    \n",
    "    plt.figure(figsize=(15,15))\n",
    "    plt.subplot(1,3,1)\n",
    "    plt.imshow(img1[:,:,sliceNo,0], cmap=\"bone\")\n",
    "    plt.title(\"Image\")\n",
    "\n",
    "    plt.subplot(1,3,2)\n",
    "    plt.imshow(prediction_mask1[0,:,:,sliceNo,0], cmap=\"bone\")\n",
    "    plt.title(\"Tumor Prediction\")\n",
    "\n",
    "    plt.subplot(1,3,3)\n",
    "    plt.imshow(img1[:,:,sliceNo,0], cmap=\"bone\")\n",
    "    plt.imshow(prediction_mask1[0,:,:,sliceNo,0], alpha=0.5, cmap=\"Reds\")\n",
    "    plt.title(\"Overlay\")\n",
    "    \n",
    "    \n",
    "    \n",
    "    plt.figure(figsize=(15,15))\n",
    "    plt.subplot(1,3,1)\n",
    "    plt.imshow(img1[sliceNo,:,:,0], cmap=\"bone\")\n",
    "    plt.title(\"Image\")\n",
    "\n",
    "    plt.subplot(1,3,2)\n",
    "    plt.imshow(prediction_mask1[0,sliceNo,:,:,0], cmap=\"bone\")\n",
    "    plt.title(\"Tumor Prediction\")\n",
    "\n",
    "    plt.subplot(1,3,3)\n",
    "    plt.imshow(img1[sliceNo,:,:,0], cmap=\"bone\")\n",
    "    plt.imshow(prediction_mask1[0,sliceNo,:,:,0], alpha=0.5, cmap=\"Reds\")\n",
    "    plt.title(\"Overlay\")\n",
    "    \n",
    "    \n",
    "    \n",
    "interact(displaySlice, sliceNo=(1,img1.shape[2],1)); \n",
    "\n",
    "print(hdf[\"uuid\"][0])"
   ]
  },
  {
   "cell_type": "code",
   "execution_count": null,
   "metadata": {
    "collapsed": true
   },
   "outputs": [],
   "source": []
  },
  {
   "cell_type": "code",
   "execution_count": 10,
   "metadata": {},
   "outputs": [
    {
     "name": "stdout",
     "output_type": "stream",
     "text": [
      "Class 0\n"
     ]
    },
    {
     "data": {
      "application/vnd.jupyter.widget-view+json": {
       "model_id": "0d33167f5c2a4238bbfd1d7873c7a557",
       "version_major": 2,
       "version_minor": 0
      },
      "text/plain": [
       "A Jupyter Widget"
      ]
     },
     "metadata": {},
     "output_type": "display_data"
    },
    {
     "name": "stdout",
     "output_type": "stream",
     "text": [
      "[b'1.3.6.1.4.1.14519.5.2.1.6279.6001.100621383016233746780170740405']\n"
     ]
    }
   ],
   "source": [
    "print(\"Class 0\")\n",
    "class0idx = 50\n",
    "\n",
    "# Choose one of the class 0 ROIs\n",
    "\n",
    "img0 = hdf[\"input\"][class0[class0idx],:].reshape(64,64,64,1)  \n",
    "\n",
    "\n",
    "predict_array = model.predict(np.expand_dims(img0,0), verbose=2)\n",
    "\n",
    "prediction_mask0 = predict_array[0]\n",
    "prediction_featuremaps0 = predict_array[1]\n",
    "\n",
    "\n",
    "def displaySlice(sliceNo):\n",
    "    \n",
    "    plt.figure(figsize=(15,15))\n",
    "    plt.subplot(1,3,1)\n",
    "    plt.imshow(img0[:,:,sliceNo,0], cmap=\"bone\")\n",
    "    plt.title(\"Image\")\n",
    "\n",
    "    plt.subplot(1,3,2)\n",
    "    plt.imshow(prediction_mask0[0,:,:,sliceNo,0], cmap=\"bone\")\n",
    "    plt.title(\"Tumor Prediction\")\n",
    "\n",
    "    plt.subplot(1,3,3)\n",
    "    plt.imshow(img0[:,:,sliceNo,0], cmap=\"bone\")\n",
    "    plt.imshow(prediction_mask0[0,:,:,sliceNo,0], alpha=0.5, cmap=\"Reds\")\n",
    "    plt.title(\"Overlay\")\n",
    "    \n",
    "    \n",
    "    \n",
    "    plt.figure(figsize=(15,15))\n",
    "    plt.subplot(1,3,1)\n",
    "    plt.imshow(img0[sliceNo,:,:,0], cmap=\"bone\")\n",
    "    plt.title(\"Image\")\n",
    "\n",
    "    plt.subplot(1,3,2)\n",
    "    plt.imshow(prediction_mask0[0,sliceNo,:,:,0], cmap=\"bone\")\n",
    "    plt.title(\"Tumor Prediction\")\n",
    "\n",
    "    plt.subplot(1,3,3)\n",
    "    plt.imshow(img0[sliceNo,:,:,0], cmap=\"bone\")\n",
    "    plt.imshow(prediction_mask0[0,sliceNo,:,:,0], alpha=0.5, cmap=\"Reds\")\n",
    "    plt.title(\"Overlay\")\n",
    "    \n",
    "    \n",
    "    \n",
    "interact(displaySlice, sliceNo=(1,img0.shape[2],1)); \n",
    "\n",
    "print(hdf[\"uuid\"][0])"
   ]
  },
  {
   "cell_type": "code",
   "execution_count": 11,
   "metadata": {
    "collapsed": true
   },
   "outputs": [],
   "source": [
    "#hdf.close()"
   ]
  },
  {
   "cell_type": "code",
   "execution_count": 12,
   "metadata": {},
   "outputs": [
    {
     "data": {
      "text/plain": [
       "(64, 64, 64, 1)"
      ]
     },
     "execution_count": 12,
     "metadata": {},
     "output_type": "execute_result"
    }
   ],
   "source": [
    "img1.shape"
   ]
  },
  {
   "cell_type": "code",
   "execution_count": 13,
   "metadata": {},
   "outputs": [
    {
     "data": {
      "text/plain": [
       "(64, 64, 64, 1)"
      ]
     },
     "execution_count": 13,
     "metadata": {},
     "output_type": "execute_result"
    }
   ],
   "source": [
    "img0.shape"
   ]
  },
  {
   "cell_type": "code",
   "execution_count": 14,
   "metadata": {},
   "outputs": [
    {
     "data": {
      "text/plain": [
       "(1, 64, 64, 64, 1)"
      ]
     },
     "execution_count": 14,
     "metadata": {},
     "output_type": "execute_result"
    }
   ],
   "source": [
    "prediction_mask0.shape"
   ]
  },
  {
   "cell_type": "code",
   "execution_count": 15,
   "metadata": {},
   "outputs": [
    {
     "data": {
      "text/plain": [
       "(1, 64, 64, 64, 1)"
      ]
     },
     "execution_count": 15,
     "metadata": {},
     "output_type": "execute_result"
    }
   ],
   "source": [
    "prediction_mask1.shape"
   ]
  },
  {
   "cell_type": "code",
   "execution_count": 19,
   "metadata": {
    "collapsed": true
   },
   "outputs": [],
   "source": [
    "np.savez_compressed('for_anil.npz', img1=img1, img0=img0, \n",
    "                    prediction_mask1=prediction_mask1, prediction_mask0=prediction_mask0, \n",
    "                   prediction_featuremaps0=prediction_featuremaps0, prediction_featuremaps1= prediction_featuremaps1)"
   ]
  },
  {
   "cell_type": "code",
   "execution_count": null,
   "metadata": {
    "collapsed": true
   },
   "outputs": [],
   "source": []
  }
 ],
 "metadata": {
  "kernelspec": {
   "display_name": "Python 3",
   "language": "python",
   "name": "python3"
  },
  "language_info": {
   "codemirror_mode": {
    "name": "ipython",
    "version": 3
   },
   "file_extension": ".py",
   "mimetype": "text/x-python",
   "name": "python",
   "nbconvert_exporter": "python",
   "pygments_lexer": "ipython3",
   "version": "3.5.4"
  }
 },
 "nbformat": 4,
 "nbformat_minor": 2
}
