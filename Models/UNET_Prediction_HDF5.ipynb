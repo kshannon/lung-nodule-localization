{
 "cells": [
  {
   "cell_type": "markdown",
   "metadata": {},
   "source": [
    "#### To test: \n",
    "1. Create a folder ~/data/luna16/\n",
    "2. Create a folder ~/data/luna16/hdf5\n",
    "    -Under this copy UNET_weights_H5.h5 (download from google drive)\n",
    "3. Create a folder ~/data/luna16/hdf5/HO5 \n",
    "    -Under this copy 64x64x64-patch-withdiam_sample.hdf5"
   ]
  },
  {
   "cell_type": "code",
   "execution_count": 1,
   "metadata": {},
   "outputs": [
    {
     "name": "stderr",
     "output_type": "stream",
     "text": [
      "/home/tony/anaconda3/envs/tf/lib/python3.5/site-packages/h5py/__init__.py:36: FutureWarning: Conversion of the second argument of issubdtype from `float` to `np.floating` is deprecated. In future, it will be treated as `np.float64 == np.dtype(float).type`.\n",
      "  from ._conv import register_converters as _register_converters\n",
      "Using TensorFlow backend.\n"
     ]
    }
   ],
   "source": [
    "import numpy as np\n",
    "import h5py\n",
    "import pandas as pd\n",
    "import keras\n",
    "\n",
    "from ipywidgets import interact\n",
    "\n",
    "#from UNET_utils import *\n",
    "from UNET_model_def import *\n",
    "from matplotlib import pyplot as plt\n",
    "%matplotlib inline"
   ]
  },
  {
   "cell_type": "code",
   "execution_count": 2,
   "metadata": {},
   "outputs": [
    {
     "name": "stdout",
     "output_type": "stream",
     "text": [
      "3D U-Net Segmentation\n"
     ]
    }
   ],
   "source": [
    "HOLDOUT = 5\n",
    "TOP_DIR = \"/home/tony\"\n",
    "HO_dir = 'hdf5/HO{}/'.format(HOLDOUT)\n",
    "data_dir = '{}/data/luna16/'.format(TOP_DIR)\n",
    "#model_wghts = 'hdf5/UNET_weights_modelB_H{}.h5'.format(HOLDOUT)\n",
    "\n",
    "\n",
    "# model_wghts = '{}hdf5/UNET_weights_modelC_exp1_lr02_H{}.h5'.format(data_dir,HOLDOUT)\n",
    "# model = unet3D_sizeagnostic_Model16()\n",
    "# hu_norm_on = True\n",
    "\n",
    "\n",
    "# model_wghts = '{}hdf5/UNET_weights_modelB_exp1_lr009_H{}.h5'.format(data_dir,HOLDOUT)\n",
    "model_wghts = \"{}hdf5/UNET_weights_modelB_exp1_lr009_BSexp1_H{}.h5\".format(data_dir, HOLDOUT)\n",
    "model = unet3D_Model6_Model13((None,None,None,1))\n",
    "hu_norm_on = False\n",
    "\n",
    "\n"
   ]
  },
  {
   "cell_type": "code",
   "execution_count": 3,
   "metadata": {
    "collapsed": true
   },
   "outputs": [],
   "source": [
    "model.load_weights(model_wghts)"
   ]
  },
  {
   "cell_type": "code",
   "execution_count": 4,
   "metadata": {
    "collapsed": true
   },
   "outputs": [],
   "source": [
    "hdf = h5py.File(\"{}{}/64x64x64-patch-withdiam_HO{}sample.hdf5\".format(data_dir, HO_dir, HOLDOUT), \"r\")"
   ]
  },
  {
   "cell_type": "code",
   "execution_count": 5,
   "metadata": {},
   "outputs": [
    {
     "data": {
      "text/plain": [
       "['centroid', 'diameter_label', 'input', 'notrain', 'output', 'subsets', 'uuid']"
      ]
     },
     "execution_count": 5,
     "metadata": {},
     "output_type": "execute_result"
    }
   ],
   "source": [
    "list(hdf.keys())"
   ]
  },
  {
   "cell_type": "code",
   "execution_count": 6,
   "metadata": {
    "collapsed": true
   },
   "outputs": [],
   "source": [
    "class1 = np.where(hdf[\"output\"][:,0]==1)[0]  # Where are class 1\n",
    "class0 = np.where(hdf[\"output\"][:,0]==0)[0]  # Where are class 1"
   ]
  },
  {
   "cell_type": "code",
   "execution_count": 7,
   "metadata": {},
   "outputs": [
    {
     "data": {
      "text/plain": [
       "19"
      ]
     },
     "execution_count": 7,
     "metadata": {},
     "output_type": "execute_result"
    }
   ],
   "source": [
    "len(class1)"
   ]
  },
  {
   "cell_type": "code",
   "execution_count": 8,
   "metadata": {
    "collapsed": true
   },
   "outputs": [],
   "source": [
    "def hu_norm(npzarray):\n",
    "    \n",
    "    \"\"\"\n",
    "    Normalize pixel depth into Hounsfield units (HU), between -1000 - 400 HU\n",
    "    All other HU will be masked. Then we normalize pixel values between 0 and 1.\n",
    "    \"\"\"\n",
    "    if hu_norm_on:\n",
    "        maxHU, minHU = 400., -1000.\n",
    "        npzarray = (npzarray - minHU) / (maxHU - minHU)\n",
    "        npzarray[npzarray>1] = 1.\n",
    "        npzarray[npzarray<0] = 0.\n",
    "    return npzarray"
   ]
  },
  {
   "cell_type": "code",
   "execution_count": null,
   "metadata": {},
   "outputs": [],
   "source": [
    "def save_imgs(img, prediction_mask, classidx, classtype):\n",
    "    \n",
    "    origin = \"lower\"\n",
    "    \n",
    "    for sliceNo in range(max(img.shape)):\n",
    "\n",
    "\n",
    "        plt.figure(figsize=(15,15))\n",
    "\n",
    "\n",
    "        plt.subplot(2,3,1)\n",
    "        plt.imshow(img[sliceNo,:,:,0], cmap=\"bone\", origin=origin)\n",
    "        plt.title(\"Original Image\", fontsize=18)\n",
    "        plt.text(-40,32,\"Transverse\\n    plane\", fontsize=32, color=\"blue\", fontname=\"FreeSans\")\n",
    "\n",
    "        plt.subplot(2,3,2)\n",
    "        plt.imshow(prediction_mask[0,sliceNo,:,:,0], cmap=\"bone\", origin=origin)\n",
    "        plt.title(\"Tumor Prediction\", fontsize=18, fontname=\"FreeSans\")\n",
    "\n",
    "        plt.subplot(2,3,3)\n",
    "        plt.imshow(img[sliceNo,:,:,0], cmap=\"bone\", origin=origin)\n",
    "        plt.imshow(prediction_mask[0,sliceNo,:,:,0], alpha=0.5, cmap=\"Reds\", origin=origin)\n",
    "        #plt.colorbar()\n",
    "        plt.title(\"Overlay\", fontsize=18, fontname=\"FreeSans\")\n",
    "\n",
    "        plt.subplot(2,3,4)\n",
    "        plt.imshow(img[:,sliceNo,:,0], cmap=\"bone\", origin=origin)\n",
    "        plt.title(\"Original Image\", fontsize=18)\n",
    "        plt.text(-37,32,\"Sagittal\\n  plane\", fontsize=32, color=\"blue\", fontname=\"FreeSans\")\n",
    "        plt.xlabel(\"mm\", fontsize=18, fontname=\"FreeSans\")\n",
    "\n",
    "        plt.subplot(2,3,5)\n",
    "        plt.imshow(prediction_mask[0,:,sliceNo,:,0], cmap=\"bone\", origin=origin)\n",
    "        plt.title(\"Tumor Prediction\", fontsize=18, fontname=\"FreeSans\")\n",
    "        plt.xlabel(\"mm\", fontsize=18, fontname=\"FreeSans\")\n",
    "\n",
    "        plt.subplot(2,3,6)\n",
    "        plt.imshow(img[:,sliceNo,:,0], cmap=\"bone\", interpolation=\"none\", origin=origin)\n",
    "        plt.xlabel(\"mm\", fontsize=18, fontname=\"FreeSans\")\n",
    "\n",
    "        plt.imshow(prediction_mask[0,:,sliceNo,:,0], alpha=0.5, cmap=\"Reds\", origin=origin)\n",
    "        #plt.colorbar()\n",
    "        plt.title(\"Overlay\", fontsize=18, fontname=\"FreeSans\")\n",
    "\n",
    "        plt.tight_layout()\n",
    "\n",
    "        import os\n",
    "        directory = \"saved_imgs/class{}/candidate{}/\".format(classtype,classidx)\n",
    "        if not os.path.exists(directory):\n",
    "            os.makedirs(directory)\n",
    "        plt.savefig(\"{}slice{}\".format(directory, sliceNo), dpi=600, bbox_inches=\"tight\")\n",
    "\n",
    "        plt.close()\n"
   ]
  },
  {
   "cell_type": "code",
   "execution_count": null,
   "metadata": {},
   "outputs": [
    {
     "name": "stdout",
     "output_type": "stream",
     "text": [
      "Class 1\n"
     ]
    }
   ],
   "source": [
    "print(\"Class 1\")\n",
    "\n",
    "for class1idx in [11, 18, 5, 12, 13]:   #5,8 ;   11 shows 2 class 1; 12, 13, 14, 18\n",
    "\n",
    "    # Choose one of the class 1 ROIs\n",
    "\n",
    "    img1 = hdf[\"input\"][class1[class1idx],:].reshape(64,64,64,1)  \n",
    "\n",
    "\n",
    "    predict_array = model.predict(hu_norm(np.expand_dims(img1,0)), verbose=2)\n",
    "\n",
    "    prediction_mask1 = np.round(predict_array[0])\n",
    "\n",
    "    save_imgs(img1, prediction_mask1, class1idx, 1)"
   ]
  },
  {
   "cell_type": "code",
   "execution_count": null,
   "metadata": {},
   "outputs": [],
   "source": [
    "print(\"Class 0\")\n",
    "\n",
    "for class0idx in[0, 45, 100, 219, 347]:\n",
    "\n",
    "    # Choose one of the class 0 ROIs\n",
    "\n",
    "    img0 = hdf[\"input\"][class0[class0idx],:].reshape(64,64,64,1)  \n",
    "\n",
    "\n",
    "    predict_array = model.predict(hu_norm(np.expand_dims(img0,0)), verbose=2)\n",
    "\n",
    "    prediction_mask0 = np.round(predict_array[0])\n",
    "    fm0 = predict_array[1]\n",
    "\n",
    "    save_imgs(img0, prediction_mask0, class0idx, 0)"
   ]
  },
  {
   "cell_type": "code",
   "execution_count": null,
   "metadata": {
    "collapsed": true
   },
   "outputs": [],
   "source": []
  }
 ],
 "metadata": {
  "kernelspec": {
   "display_name": "Python 3",
   "language": "python",
   "name": "python3"
  },
  "language_info": {
   "codemirror_mode": {
    "name": "ipython",
    "version": 3
   },
   "file_extension": ".py",
   "mimetype": "text/x-python",
   "name": "python",
   "nbconvert_exporter": "python",
   "pygments_lexer": "ipython3",
   "version": "3.5.4"
  }
 },
 "nbformat": 4,
 "nbformat_minor": 2
}
