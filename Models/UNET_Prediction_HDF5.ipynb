{
 "cells": [
  {
   "cell_type": "markdown",
   "metadata": {},
   "source": [
    "#### To test: \n",
    "1. Create a folder ~/data/luna16/\n",
    "2. Create a folder ~/data/luna16/hdf5\n",
    "    -Under this copy UNET_weights_H5.h5 (download from google drive)\n",
    "3. Create a folder ~/data/luna16/hdf5/HO5 \n",
    "    -Under this copy 64x64x64-patch-withdiam_sample.hdf5"
   ]
  },
  {
   "cell_type": "code",
   "execution_count": 1,
   "metadata": {},
   "outputs": [
    {
     "name": "stderr",
     "output_type": "stream",
     "text": [
      "/home/tony/anaconda3/envs/tf/lib/python3.5/site-packages/h5py/__init__.py:36: FutureWarning: Conversion of the second argument of issubdtype from `float` to `np.floating` is deprecated. In future, it will be treated as `np.float64 == np.dtype(float).type`.\n",
      "  from ._conv import register_converters as _register_converters\n",
      "Using TensorFlow backend.\n"
     ]
    }
   ],
   "source": [
    "import numpy as np\n",
    "import h5py\n",
    "import pandas as pd\n",
    "import keras\n",
    "\n",
    "from ipywidgets import interact\n",
    "\n",
    "#from UNET_utils import *\n",
    "from UNET_model_def import *\n",
    "from matplotlib import pyplot as plt\n",
    "%matplotlib inline"
   ]
  },
  {
   "cell_type": "code",
   "execution_count": 2,
   "metadata": {},
   "outputs": [
    {
     "name": "stdout",
     "output_type": "stream",
     "text": [
      "3D U-Net Segmentation\n"
     ]
    }
   ],
   "source": [
    "HOLDOUT = 5\n",
    "TOP_DIR = \"/home/tony\"\n",
    "HO_dir = 'hdf5/HO{}/'.format(HOLDOUT)\n",
    "data_dir = '{}/data/luna16/'.format(TOP_DIR)\n",
    "#model_wghts = 'hdf5/UNET_weights_modelB_H{}.h5'.format(HOLDOUT)\n",
    "\n",
    "\n",
    "# model_wghts = '{}hdf5/UNET_weights_modelC_exp1_lr02_H{}.h5'.format(data_dir,HOLDOUT)\n",
    "# model = unet3D_sizeagnostic_Model16()\n",
    "# hu_norm_on = True\n",
    "\n",
    "\n",
    "# model_wghts = '{}hdf5/UNET_weights_modelB_exp1_lr009_H{}.h5'.format(data_dir,HOLDOUT)\n",
    "model_wghts = \"{}hdf5/UNET_weights_modelB_exp1_lr009_BSexp1_H{}.h5\".format(data_dir, HOLDOUT)\n",
    "model = unet3D_Model6_Model13((None,None,None,1))\n",
    "hu_norm_on = False\n",
    "\n",
    "\n"
   ]
  },
  {
   "cell_type": "code",
   "execution_count": 3,
   "metadata": {
    "collapsed": true
   },
   "outputs": [],
   "source": [
    "model.load_weights(model_wghts)"
   ]
  },
  {
   "cell_type": "code",
   "execution_count": 4,
   "metadata": {
    "collapsed": true
   },
   "outputs": [],
   "source": [
    "hdf = h5py.File(\"{}{}/64x64x64-patch-withdiam_HO{}sample.hdf5\".format(data_dir, HO_dir, HOLDOUT), \"r\")"
   ]
  },
  {
   "cell_type": "code",
   "execution_count": 5,
   "metadata": {},
   "outputs": [
    {
     "data": {
      "text/plain": [
       "['centroid', 'diameter_label', 'input', 'notrain', 'output', 'subsets', 'uuid']"
      ]
     },
     "execution_count": 5,
     "metadata": {},
     "output_type": "execute_result"
    }
   ],
   "source": [
    "list(hdf.keys())"
   ]
  },
  {
   "cell_type": "code",
   "execution_count": 6,
   "metadata": {
    "collapsed": true
   },
   "outputs": [],
   "source": [
    "class1 = np.where(hdf[\"output\"][:,0]==1)[0]  # Where are class 1\n",
    "class0 = np.where(hdf[\"output\"][:,0]==0)[0]  # Where are class 1"
   ]
  },
  {
   "cell_type": "code",
   "execution_count": 7,
   "metadata": {},
   "outputs": [
    {
     "data": {
      "text/plain": [
       "19"
      ]
     },
     "execution_count": 7,
     "metadata": {},
     "output_type": "execute_result"
    }
   ],
   "source": [
    "len(class1)"
   ]
  },
  {
   "cell_type": "code",
   "execution_count": 8,
   "metadata": {
    "collapsed": true
   },
   "outputs": [],
   "source": [
    "def hu_norm(npzarray):\n",
    "    \n",
    "    \"\"\"\n",
    "    Normalize pixel depth into Hounsfield units (HU), between -1000 - 400 HU\n",
    "    All other HU will be masked. Then we normalize pixel values between 0 and 1.\n",
    "    \"\"\"\n",
    "    if hu_norm_on:\n",
    "        maxHU, minHU = 400., -1000.\n",
    "        npzarray = (npzarray - minHU) / (maxHU - minHU)\n",
    "        npzarray[npzarray>1] = 1.\n",
    "        npzarray[npzarray<0] = 0.\n",
    "    return npzarray"
   ]
  },
  {
   "cell_type": "code",
   "execution_count": 122,
   "metadata": {},
   "outputs": [
    {
     "name": "stdout",
     "output_type": "stream",
     "text": [
      "Class 1\n"
     ]
    },
    {
     "data": {
      "application/vnd.jupyter.widget-view+json": {
       "model_id": "548732a060654decbc745b109cb05339",
       "version_major": 2,
       "version_minor": 0
      },
      "text/plain": [
       "A Jupyter Widget"
      ]
     },
     "metadata": {},
     "output_type": "display_data"
    },
    {
     "name": "stdout",
     "output_type": "stream",
     "text": [
      "[b'1.3.6.1.4.1.14519.5.2.1.6279.6001.112740418331256326754121315800']\n"
     ]
    }
   ],
   "source": [
    "print(\"Class 1\")\n",
    "\n",
    "class1idx = 18   #5,8 ;   11 shows 2 class 1; 12, 13\n",
    "\n",
    "# Choose one of the class 1 ROIs\n",
    "\n",
    "img1 = hdf[\"input\"][class1[class1idx],:].reshape(64,64,64,1)  \n",
    "\n",
    "\n",
    "predict_array = model.predict(hu_norm(np.expand_dims(img1,0)), verbose=2)\n",
    "\n",
    "prediction_mask1 = np.round(predict_array)\n",
    "\n",
    "\n",
    "def displaySlice(sliceNo):\n",
    "    \n",
    "    \n",
    "    plt.figure(figsize=(15,15))\n",
    "    plt.subplot(2,3,1)\n",
    "    plt.imshow(img1[:,:,sliceNo,0], cmap=\"bone\")\n",
    "    plt.title(\"Image\")\n",
    "\n",
    "    plt.subplot(2,3,2)\n",
    "    plt.imshow(prediction_mask1[0,:,:,sliceNo,0], cmap=\"bone\")\n",
    "    plt.title(\"Tumor Prediction\")\n",
    "\n",
    "    plt.subplot(2,3,3)\n",
    "    plt.imshow(img1[:,:,sliceNo,0], cmap=\"bone\")\n",
    "    plt.imshow(prediction_mask1[0,:,:,sliceNo,0], alpha=0.5, cmap=\"Reds\")\n",
    "    plt.title(\"Overlay\")\n",
    "    \n",
    "    plt.subplot(2,3,4)\n",
    "    plt.imshow(img1[sliceNo,:,:,0], cmap=\"bone\")\n",
    "    plt.title(\"Image\")\n",
    "\n",
    "    plt.subplot(2,3,5)\n",
    "    plt.imshow(prediction_mask1[0,sliceNo,:,:,0], cmap=\"bone\")\n",
    "    plt.title(\"Tumor Prediction\")\n",
    "\n",
    "    plt.subplot(2,3,6)\n",
    "    plt.imshow(img1[sliceNo,:,:,0], cmap=\"bone\")\n",
    "    plt.imshow(prediction_mask1[0,sliceNo,:,:,0], alpha=0.5, cmap=\"Reds\")\n",
    "    plt.title(\"Overlay\")\n",
    "    \n",
    "    \n",
    "    #plt.savefig(\"saved_imgs/class1/class1_slice{}\".format(sliceNo), dpi=600, bbox_inches=\"tight\")\n",
    "    \n",
    "    \n",
    "interact(displaySlice, sliceNo=(1,img1.shape[2],1)); \n",
    "\n",
    "\n",
    "print(hdf[\"uuid\"][0])"
   ]
  },
  {
   "cell_type": "code",
   "execution_count": 123,
   "metadata": {},
   "outputs": [
    {
     "name": "stdout",
     "output_type": "stream",
     "text": [
      "Class 1\n"
     ]
    }
   ],
   "source": [
    "print(\"Class 1\")\n",
    "\n",
    "class1idx = 18   #5,8 ;   11 shows 2 class 1; 12, 13, 14, 18\n",
    "\n",
    "# Choose one of the class 1 ROIs\n",
    "\n",
    "img1 = hdf[\"input\"][class1[class1idx],:].reshape(64,64,64,1)  \n",
    "\n",
    "\n",
    "predict_array = model.predict(hu_norm(np.expand_dims(img1,0)), verbose=2)\n",
    "\n",
    "prediction_mask1 = np.round(predict_array)\n"
   ]
  },
  {
   "cell_type": "code",
   "execution_count": 124,
   "metadata": {},
   "outputs": [],
   "source": [
    "for sliceNo in range(max(img1.shape)):\n",
    "    \n",
    "    \n",
    "    plt.figure(figsize=(15,15))\n",
    "    \n",
    "    \n",
    "    plt.subplot(2,3,1)\n",
    "    plt.imshow(img1[:,:,sliceNo,0], cmap=\"bone\")\n",
    "    plt.title(\"Original Image\", fontsize=18)\n",
    "    plt.text(-37,32,\"Transverse\\n    plane\", fontsize=32, color=\"blue\", fontname=\"FreeSans\")\n",
    "\n",
    "    plt.subplot(2,3,2)\n",
    "    plt.imshow(prediction_mask1[0,:,:,sliceNo,0], cmap=\"bone\")\n",
    "    plt.title(\"Tumor Prediction\", fontsize=18, fontname=\"FreeSans\")\n",
    "\n",
    "    plt.subplot(2,3,3)\n",
    "    plt.imshow(img1[:,:,sliceNo,0], cmap=\"bone\")\n",
    "    plt.imshow(prediction_mask1[0,:,:,sliceNo,0], alpha=0.5, cmap=\"Reds\")\n",
    "    #plt.colorbar()\n",
    "    plt.title(\"Overlay\", fontsize=18, fontname=\"FreeSans\")\n",
    "    \n",
    "    plt.subplot(2,3,4)\n",
    "    plt.imshow(img1[sliceNo,:,:,0], cmap=\"bone\")\n",
    "    plt.title(\"Original Image\", fontsize=18)\n",
    "    plt.text(-30,32,\"Coronal\\n  plane\", fontsize=32, color=\"blue\", fontname=\"FreeSans\")\n",
    "    plt.xlabel(\"mm\", fontsize=18, fontname=\"FreeSans\")\n",
    "    \n",
    "    plt.subplot(2,3,5)\n",
    "    plt.imshow(prediction_mask1[0,sliceNo,:,:,0], cmap=\"bone\")\n",
    "    plt.title(\"Tumor Prediction\", fontsize=18, fontname=\"FreeSans\")\n",
    "    plt.xlabel(\"mm\", fontsize=18, fontname=\"FreeSans\")\n",
    "\n",
    "    plt.subplot(2,3,6)\n",
    "    plt.imshow(img1[sliceNo,:,:,0], cmap=\"bone\", interpolation=\"none\")\n",
    "    plt.xlabel(\"mm\", fontsize=18, fontname=\"FreeSans\")\n",
    "    \n",
    "    plt.imshow(prediction_mask1[0,sliceNo,:,:,0], alpha=0.5, cmap=\"Reds\")\n",
    "    #plt.colorbar()\n",
    "    plt.title(\"Overlay\", fontsize=18, fontname=\"FreeSans\")\n",
    "    \n",
    "    plt.tight_layout()\n",
    "    \n",
    "    import os\n",
    "    directory = \"saved_imgs/class1/candidate{}/\".format(class1idx)\n",
    "    if not os.path.exists(directory):\n",
    "        os.makedirs(directory)\n",
    "    plt.savefig(\"{}slice{}\".format(directory, sliceNo), dpi=600, bbox_inches=\"tight\")\n",
    "    \n",
    "    plt.close()\n",
    "    "
   ]
  },
  {
   "cell_type": "code",
   "execution_count": 13,
   "metadata": {},
   "outputs": [
    {
     "name": "stdout",
     "output_type": "stream",
     "text": [
      "Class 0\n"
     ]
    }
   ],
   "source": [
    "print(\"Class 0\")\n",
    "class0idx = 347\n",
    "\n",
    "# Choose one of the class 0 ROIs\n",
    "\n",
    "img0 = hdf[\"input\"][class0[class0idx],:].reshape(64,64,64,1)  \n",
    "\n",
    "\n",
    "predict_array = model.predict(hu_norm(np.expand_dims(img0,0)), verbose=2)\n",
    "\n",
    "prediction_mask0 = np.round(predict_array)"
   ]
  },
  {
   "cell_type": "code",
   "execution_count": null,
   "metadata": {},
   "outputs": [],
   "source": [
    "for sliceNo in range(max(img0.shape)):\n",
    "    \n",
    "    \n",
    "    plt.figure(figsize=(15,15))\n",
    "    \n",
    "    \n",
    "    plt.subplot(2,3,1)\n",
    "    plt.imshow(img0[:,:,sliceNo,0], cmap=\"bone\")\n",
    "    plt.title(\"Original Image\", fontsize=18)\n",
    "    plt.text(-37,32,\"Transverse\\n    plane\", fontsize=32, color=\"blue\", fontname=\"FreeSans\")\n",
    "\n",
    "    plt.subplot(2,3,2)\n",
    "    plt.imshow(prediction_mask0[0,:,:,sliceNo,0], cmap=\"bone\")\n",
    "    plt.title(\"Tumor Prediction\", fontsize=18, fontname=\"FreeSans\")\n",
    "\n",
    "    plt.subplot(2,3,3)\n",
    "    plt.imshow(img0[:,:,sliceNo,0], cmap=\"bone\")\n",
    "    plt.imshow(prediction_mask0[0,:,:,sliceNo,0], alpha=0.5, cmap=\"Reds\")\n",
    "    #plt.colorbar()\n",
    "    plt.title(\"Overlay\", fontsize=18, fontname=\"FreeSans\")\n",
    "    \n",
    "    plt.subplot(2,3,4)\n",
    "    plt.imshow(img0[sliceNo,:,:,0], cmap=\"bone\")\n",
    "    plt.title(\"Original Image\", fontsize=18)\n",
    "    plt.text(-30,32,\"Coronal\\n  plane\", fontsize=32, color=\"blue\", fontname=\"FreeSans\")\n",
    "    plt.xlabel(\"mm\", fontsize=18, fontname=\"FreeSans\")\n",
    "    \n",
    "    plt.subplot(2,3,5)\n",
    "    plt.imshow(prediction_mask0[0,sliceNo,:,:,0], cmap=\"bone\")\n",
    "    plt.title(\"Tumor Prediction\", fontsize=18, fontname=\"FreeSans\")\n",
    "    plt.xlabel(\"mm\", fontsize=18, fontname=\"FreeSans\")\n",
    "\n",
    "    plt.subplot(2,3,6)\n",
    "    plt.imshow(img0[sliceNo,:,:,0], cmap=\"bone\", interpolation=\"none\")\n",
    "    plt.xlabel(\"mm\", fontsize=18, fontname=\"FreeSans\")\n",
    "    \n",
    "    plt.imshow(prediction_mask0[0,sliceNo,:,:,0], alpha=0.5, cmap=\"Reds\")\n",
    "    #plt.colorbar()\n",
    "    plt.title(\"Overlay\", fontsize=18, fontname=\"FreeSans\")\n",
    "    \n",
    "    plt.tight_layout()\n",
    "    \n",
    "    import os\n",
    "    directory = \"saved_imgs/class0/candidate{}/\".format(class0idx)\n",
    "    if not os.path.exists(directory):\n",
    "        os.makedirs(directory)\n",
    "    plt.savefig(\"{}slice{}\".format(directory, sliceNo), dpi=600, bbox_inches=\"tight\")\n",
    "    \n",
    "    plt.close()\n",
    "    "
   ]
  },
  {
   "cell_type": "code",
   "execution_count": 14,
   "metadata": {},
   "outputs": [
    {
     "data": {
      "application/vnd.jupyter.widget-view+json": {
       "model_id": "e2c05e6b11704ac8b98ce5f8d8815d22",
       "version_major": 2,
       "version_minor": 0
      },
      "text/plain": [
       "A Jupyter Widget"
      ]
     },
     "metadata": {},
     "output_type": "display_data"
    },
    {
     "name": "stdout",
     "output_type": "stream",
     "text": [
      "[b'1.3.6.1.4.1.14519.5.2.1.6279.6001.112740418331256326754121315800']\n"
     ]
    }
   ],
   "source": [
    "def displaySlice(sliceNo):\n",
    "    \n",
    "    plt.figure(figsize=(15,15))\n",
    "    plt.subplot(1,3,1)\n",
    "    plt.imshow(img0[:,:,sliceNo,0], cmap=\"bone\")\n",
    "    plt.title(\"Image\")\n",
    "\n",
    "    plt.subplot(1,3,2)\n",
    "    plt.imshow(prediction_mask0[0,:,:,sliceNo,0], cmap=\"bone\")\n",
    "    plt.title(\"Tumor Prediction\")\n",
    "\n",
    "    plt.subplot(1,3,3)\n",
    "    plt.imshow(img0[:,:,sliceNo,0], cmap=\"bone\")\n",
    "    plt.imshow(prediction_mask0[0,:,:,sliceNo,0], alpha=0.5, cmap=\"Reds\")\n",
    "    plt.title(\"Overlay\")\n",
    "    \n",
    "    \n",
    "    \n",
    "    plt.figure(figsize=(15,15))\n",
    "    plt.subplot(1,3,1)\n",
    "    plt.imshow(img0[sliceNo,:,:,0], cmap=\"bone\")\n",
    "    plt.title(\"Image\")\n",
    "\n",
    "    plt.subplot(1,3,2)\n",
    "    plt.imshow(prediction_mask0[0,sliceNo,:,:,0], cmap=\"bone\")\n",
    "    plt.title(\"Tumor Prediction\")\n",
    "\n",
    "    plt.subplot(1,3,3)\n",
    "    plt.imshow(img0[sliceNo,:,:,0], cmap=\"bone\")\n",
    "    plt.imshow(prediction_mask0[0,sliceNo,:,:,0], alpha=0.5, cmap=\"Reds\")\n",
    "    plt.title(\"Overlay\")\n",
    "    \n",
    "    \n",
    "    \n",
    "interact(displaySlice, sliceNo=(1,img0.shape[2],1)); \n",
    "\n",
    "print(hdf[\"uuid\"][0])"
   ]
  },
  {
   "cell_type": "code",
   "execution_count": 11,
   "metadata": {
    "collapsed": true
   },
   "outputs": [],
   "source": [
    "#hdf.close()"
   ]
  },
  {
   "cell_type": "code",
   "execution_count": 12,
   "metadata": {},
   "outputs": [
    {
     "data": {
      "text/plain": [
       "(64, 64, 64, 1)"
      ]
     },
     "execution_count": 12,
     "metadata": {},
     "output_type": "execute_result"
    }
   ],
   "source": [
    "img1.shape"
   ]
  },
  {
   "cell_type": "code",
   "execution_count": 13,
   "metadata": {},
   "outputs": [
    {
     "data": {
      "text/plain": [
       "(64, 64, 64, 1)"
      ]
     },
     "execution_count": 13,
     "metadata": {},
     "output_type": "execute_result"
    }
   ],
   "source": [
    "img0.shape"
   ]
  },
  {
   "cell_type": "code",
   "execution_count": 14,
   "metadata": {},
   "outputs": [
    {
     "data": {
      "text/plain": [
       "(1, 64, 64, 64, 1)"
      ]
     },
     "execution_count": 14,
     "metadata": {},
     "output_type": "execute_result"
    }
   ],
   "source": [
    "prediction_mask0.shape"
   ]
  },
  {
   "cell_type": "code",
   "execution_count": 15,
   "metadata": {},
   "outputs": [
    {
     "data": {
      "text/plain": [
       "(1, 64, 64, 64, 1)"
      ]
     },
     "execution_count": 15,
     "metadata": {},
     "output_type": "execute_result"
    }
   ],
   "source": [
    "prediction_mask1.shape"
   ]
  },
  {
   "cell_type": "raw",
   "metadata": {
    "collapsed": true
   },
   "source": [
    "np.savez_compressed('for_anil.npz', img1=img1, img0=img0, \n",
    "                    prediction_mask1=prediction_mask1, prediction_mask0=prediction_mask0, \n",
    "                   prediction_featuremaps0=prediction_featuremaps0, prediction_featuremaps1= prediction_featuremaps1)"
   ]
  },
  {
   "cell_type": "code",
   "execution_count": null,
   "metadata": {
    "collapsed": true
   },
   "outputs": [],
   "source": []
  }
 ],
 "metadata": {
  "kernelspec": {
   "display_name": "Python 3",
   "language": "python",
   "name": "python3"
  },
  "language_info": {
   "codemirror_mode": {
    "name": "ipython",
    "version": 3
   },
   "file_extension": ".py",
   "mimetype": "text/x-python",
   "name": "python",
   "nbconvert_exporter": "python",
   "pygments_lexer": "ipython3",
   "version": "3.5.4"
  }
 },
 "nbformat": 4,
 "nbformat_minor": 2
}
