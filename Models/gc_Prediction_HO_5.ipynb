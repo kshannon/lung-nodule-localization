{
 "cells": [
  {
   "cell_type": "code",
   "execution_count": 0,
   "metadata": {
    "colab": {
     "autoexec": {
      "startup": false,
      "wait_interval": 0
     }
    },
    "colab_type": "code",
    "collapsed": true,
    "id": "TRwRra6XdVdx"
   },
   "outputs": [],
   "source": [
    "import os\n",
    "import numpy as np\n",
    "\n",
    "import matplotlib.pyplot as plt\n",
    "%matplotlib inline\n",
    "import pandas as pd\n",
    "from sklearn.metrics import confusion_matrix"
   ]
  },
  {
   "cell_type": "markdown",
   "metadata": {
    "colab_type": "text",
    "id": "6IB32EBZdVd0"
   },
   "source": [
    "#### Start of Google - Colaboratory setup \n",
    "1. Auth setup\n",
    "2. Keras install, check for GPU usage etc.\n",
    "2. GCP Bucket - files download"
   ]
  },
  {
   "cell_type": "code",
   "execution_count": 7,
   "metadata": {
    "colab": {
     "autoexec": {
      "startup": false,
      "wait_interval": 0
     },
     "base_uri": "https://localhost:8080/",
     "height": 123,
     "output_extras": [
      {
       "item_id": 2
      },
      {
       "item_id": 3
      }
     ]
    },
    "colab_type": "code",
    "executionInfo": {
     "elapsed": 4347,
     "status": "ok",
     "timestamp": 1520230633288,
     "user": {
      "displayName": "Anil Luthra",
      "photoUrl": "//lh6.googleusercontent.com/-c-lMSwjbx4A/AAAAAAAAAAI/AAAAAAAAAAY/QpH_YDmXRc8/s50-c-k-no/photo.jpg",
      "userId": "111354646883340631884"
     },
     "user_tz": 480
    },
    "id": "jeRt-B6YdVd2",
    "outputId": "04b947d1-401e-4d9d-9ced-bae37454fd75"
   },
   "outputs": [
    {
     "name": "stdout",
     "output_type": "stream",
     "text": [
      "Requirement already satisfied: keras in /usr/local/lib/python3.6/dist-packages\r\n",
      "Requirement already satisfied: scipy>=0.14 in /usr/local/lib/python3.6/dist-packages (from keras)\n",
      "Requirement already satisfied: numpy>=1.9.1 in /usr/local/lib/python3.6/dist-packages (from keras)\n",
      "Requirement already satisfied: six>=1.9.0 in /usr/local/lib/python3.6/dist-packages (from keras)\n",
      "Requirement already satisfied: pyyaml in /usr/local/lib/python3.6/dist-packages (from keras)\n"
     ]
    },
    {
     "name": "stderr",
     "output_type": "stream",
     "text": [
      "Using TensorFlow backend.\n"
     ]
    }
   ],
   "source": [
    "!pip install keras\n",
    "from keras.models import load_model"
   ]
  },
  {
   "cell_type": "code",
   "execution_count": 10,
   "metadata": {
    "colab": {
     "autoexec": {
      "startup": false,
      "wait_interval": 0
     },
     "base_uri": "https://localhost:8080/",
     "height": 34,
     "output_extras": [
      {
       "item_id": 1
      }
     ]
    },
    "colab_type": "code",
    "executionInfo": {
     "elapsed": 328,
     "status": "ok",
     "timestamp": 1520230673551,
     "user": {
      "displayName": "Anil Luthra",
      "photoUrl": "//lh6.googleusercontent.com/-c-lMSwjbx4A/AAAAAAAAAAI/AAAAAAAAAAY/QpH_YDmXRc8/s50-c-k-no/photo.jpg",
      "userId": "111354646883340631884"
     },
     "user_tz": 480
    },
    "id": "AcQ9qqEYdVd4",
    "outputId": "4657a445-a64e-40c0-afce-7eddaa3928d9"
   },
   "outputs": [
    {
     "name": "stdout",
     "output_type": "stream",
     "text": [
      "Found GPU at: /device:GPU:0\n"
     ]
    }
   ],
   "source": [
    "import tensorflow as tf\n",
    "device_name = tf.test.gpu_device_name()\n",
    "if device_name != '/device:GPU:0':\n",
    "    raise SystemError('GPU device not found')\n",
    "print('Found GPU at: {}'.format(device_name))"
   ]
  },
  {
   "cell_type": "code",
   "execution_count": 0,
   "metadata": {
    "colab": {
     "autoexec": {
      "startup": false,
      "wait_interval": 0
     }
    },
    "colab_type": "code",
    "collapsed": true,
    "id": "-1PxlcGodVd6"
   },
   "outputs": [],
   "source": [
    "from google.colab import auth\n",
    "auth.authenticate_user()"
   ]
  },
  {
   "cell_type": "code",
   "execution_count": 6,
   "metadata": {
    "colab": {
     "autoexec": {
      "startup": false,
      "wait_interval": 0
     },
     "base_uri": "https://localhost:8080/",
     "height": 34,
     "output_extras": [
      {
       "item_id": 1
      }
     ]
    },
    "colab_type": "code",
    "executionInfo": {
     "elapsed": 1790,
     "status": "ok",
     "timestamp": 1520212583960,
     "user": {
      "displayName": "Anil Luthra",
      "photoUrl": "//lh6.googleusercontent.com/-c-lMSwjbx4A/AAAAAAAAAAI/AAAAAAAAAAY/QpH_YDmXRc8/s50-c-k-no/photo.jpg",
      "userId": "111354646883340631884"
     },
     "user_tz": 480
    },
    "id": "9smVXUTrdVd9",
    "outputId": "4055627e-7f97-4e26-b64d-49177be8cf5d"
   },
   "outputs": [
    {
     "name": "stdout",
     "output_type": "stream",
     "text": [
      "Updated property [core/project].\r\n"
     ]
    }
   ],
   "source": [
    "# specify your project ID here, which is in your GCP account\n",
    "project_id = '...'\n",
    "!gcloud config set project {project_id}"
   ]
  },
  {
   "cell_type": "code",
   "execution_count": 0,
   "metadata": {
    "colab": {
     "autoexec": {
      "startup": false,
      "wait_interval": 0
     }
    },
    "colab_type": "code",
    "collapsed": true,
    "id": "sw1clsHZdVeA"
   },
   "outputs": [],
   "source": [
    "bucket_name = 'dse_capstone_luna16'\n",
    "model_file = 'cnn_3d_64_64_3_HOLDOUT5_20180301_210933.hdf5'\n",
    "\n",
    "# model_file = 'cnn_3d_64_64_3_HOLDOUT1_20180227_185500.hdf5'\n",
    "# model_file = 'cnn_3d_64_64_3_HOLDOUT3_20180301_231003.hdf5'\n",
    "# model_file = 'cnn_3d_64_64_3_HOLDOUT9_20180301_143310.hdf5'\n",
    "\n",
    "HOLDOUT=5"
   ]
  },
  {
   "cell_type": "code",
   "execution_count": null,
   "metadata": {
    "colab": {
     "autoexec": {
      "startup": false,
      "wait_interval": 0
     },
     "base_uri": "https://localhost:8080/",
     "height": 105,
     "output_extras": [
      {
       "item_id": 13
      }
     ]
    },
    "colab_type": "code",
    "collapsed": true,
    "executionInfo": {
     "elapsed": 8176,
     "status": "ok",
     "timestamp": 1520230745906,
     "user": {
      "displayName": "Anil Luthra",
      "photoUrl": "//lh6.googleusercontent.com/-c-lMSwjbx4A/AAAAAAAAAAI/AAAAAAAAAAY/QpH_YDmXRc8/s50-c-k-no/photo.jpg",
      "userId": "111354646883340631884"
     },
     "user_tz": 480
    },
    "id": "5yIJp1F_dVeC",
    "outputId": "9c69ae66-7d0d-4231-9f7d-f8aa771ee7bb"
   },
   "outputs": [],
   "source": [
    "%%time\n",
    "!gsutil cp gs://{'dse_capstone_luna16/LUNA16/model-files'}/{model_file}  ."
   ]
  },
  {
   "cell_type": "code",
   "execution_count": 0,
   "metadata": {
    "colab": {
     "autoexec": {
      "startup": false,
      "wait_interval": 0
     }
    },
    "colab_type": "code",
    "collapsed": true,
    "id": "QbPxRli0dVeE"
   },
   "outputs": [],
   "source": [
    "# %%time\n",
    "# !gsutil cp gs://{'dse_capstone_luna16/LUNA16/hdf5-files'}/64x64x3-patch.hdf5 ."
   ]
  },
  {
   "cell_type": "markdown",
   "metadata": {
    "colab_type": "text",
    "id": "72fA4G2CdVeK"
   },
   "source": [
    "#### End of Google - Colaboratory setup "
   ]
  },
  {
   "cell_type": "code",
   "execution_count": 17,
   "metadata": {
    "colab": {
     "autoexec": {
      "startup": false,
      "wait_interval": 0
     },
     "base_uri": "https://localhost:8080/",
     "height": 52,
     "output_extras": [
      {
       "item_id": 1
      }
     ]
    },
    "colab_type": "code",
    "executionInfo": {
     "elapsed": 11548,
     "status": "ok",
     "timestamp": 1520230805277,
     "user": {
      "displayName": "Anil Luthra",
      "photoUrl": "//lh6.googleusercontent.com/-c-lMSwjbx4A/AAAAAAAAAAI/AAAAAAAAAAY/QpH_YDmXRc8/s50-c-k-no/photo.jpg",
      "userId": "111354646883340631884"
     },
     "user_tz": 480
    },
    "id": "dzgO3JgudVeL",
    "outputId": "f52b6e65-10c4-42d4-8a33-5bfddd212860"
   },
   "outputs": [
    {
     "name": "stdout",
     "output_type": "stream",
     "text": [
      "CPU times: user 10.3 s, sys: 878 ms, total: 11.2 s\n",
      "Wall time: 11.1 s\n"
     ]
    }
   ],
   "source": [
    "%%time\n",
    "# HOLDOUT=9\n",
    "model = load_model(model_file)"
   ]
  },
  {
   "cell_type": "code",
   "execution_count": 18,
   "metadata": {
    "colab": {
     "autoexec": {
      "startup": false,
      "wait_interval": 0
     },
     "base_uri": "https://localhost:8080/",
     "height": 52,
     "output_extras": [
      {
       "item_id": 1
      }
     ]
    },
    "colab_type": "code",
    "executionInfo": {
     "elapsed": 224811,
     "status": "ok",
     "timestamp": 1520231032915,
     "user": {
      "displayName": "Anil Luthra",
      "photoUrl": "//lh6.googleusercontent.com/-c-lMSwjbx4A/AAAAAAAAAAI/AAAAAAAAAAY/QpH_YDmXRc8/s50-c-k-no/photo.jpg",
      "userId": "111354646883340631884"
     },
     "user_tz": 480
    },
    "id": "ELvF2UUjdVeh",
    "outputId": "f2accdd6-10b8-4ed3-dda3-39783ad62f28"
   },
   "outputs": [
    {
     "name": "stdout",
     "output_type": "stream",
     "text": [
      "CPU times: user 11.7 s, sys: 13.5 s, total: 25.3 s\n",
      "Wall time: 3min 44s\n"
     ]
    }
   ],
   "source": [
    "%%time\n",
    "df = h5py.File(\"64x64x3-patch.hdf5\", \"r\")\n",
    "idx_subset = np.where(df[\"subsets\"][:,0] == HOLDOUT)[0]"
   ]
  },
  {
   "cell_type": "code",
   "execution_count": 19,
   "metadata": {
    "colab": {
     "autoexec": {
      "startup": false,
      "wait_interval": 0
     },
     "base_uri": "https://localhost:8080/",
     "height": 52,
     "output_extras": [
      {
       "item_id": 1
      }
     ]
    },
    "colab_type": "code",
    "executionInfo": {
     "elapsed": 19114,
     "status": "ok",
     "timestamp": 1520231056168,
     "user": {
      "displayName": "Anil Luthra",
      "photoUrl": "//lh6.googleusercontent.com/-c-lMSwjbx4A/AAAAAAAAAAI/AAAAAAAAAAY/QpH_YDmXRc8/s50-c-k-no/photo.jpg",
      "userId": "111354646883340631884"
     },
     "user_tz": 480
    },
    "id": "MrUCcfKIdVe7",
    "outputId": "b0533aa0-a08e-4d37-b8bb-01eaea86370b"
   },
   "outputs": [
    {
     "name": "stdout",
     "output_type": "stream",
     "text": [
      "CPU times: user 5.29 s, sys: 3.78 s, total: 9.07 s\n",
      "Wall time: 18.2 s\n"
     ]
    }
   ],
   "source": [
    "%%time\n",
    "imgs = df[\"input\"][idx_subset, :]\n",
    "imgs_reshaped = imgs.reshape(len(idx_subset), 3, 64, 64, 1).swapaxes(1,3)"
   ]
  },
  {
   "cell_type": "code",
   "execution_count": 20,
   "metadata": {
    "colab": {
     "autoexec": {
      "startup": false,
      "wait_interval": 0
     },
     "base_uri": "https://localhost:8080/",
     "height": 52,
     "output_extras": [
      {
       "item_id": 1
      }
     ]
    },
    "colab_type": "code",
    "executionInfo": {
     "elapsed": 188166,
     "status": "ok",
     "timestamp": 1520231247191,
     "user": {
      "displayName": "Anil Luthra",
      "photoUrl": "//lh6.googleusercontent.com/-c-lMSwjbx4A/AAAAAAAAAAI/AAAAAAAAAAY/QpH_YDmXRc8/s50-c-k-no/photo.jpg",
      "userId": "111354646883340631884"
     },
     "user_tz": 480
    },
    "id": "DWZD4bjsqPN-",
    "outputId": "6391d42e-d232-4dd4-a655-798ff234336c"
   },
   "outputs": [
    {
     "name": "stdout",
     "output_type": "stream",
     "text": [
      "CPU times: user 30.2 s, sys: 6.27 s, total: 36.5 s\n",
      "Wall time: 3min 7s\n"
     ]
    }
   ],
   "source": [
    "%%time\n",
    "predictions = model.predict(imgs_reshaped, verbose=2)"
   ]
  },
  {
   "cell_type": "code",
   "execution_count": 21,
   "metadata": {
    "colab": {
     "autoexec": {
      "startup": false,
      "wait_interval": 0
     },
     "base_uri": "https://localhost:8080/",
     "height": 52,
     "output_extras": [
      {
       "item_id": 1
      }
     ]
    },
    "colab_type": "code",
    "executionInfo": {
     "elapsed": 2901,
     "status": "ok",
     "timestamp": 1520231270801,
     "user": {
      "displayName": "Anil Luthra",
      "photoUrl": "//lh6.googleusercontent.com/-c-lMSwjbx4A/AAAAAAAAAAI/AAAAAAAAAAY/QpH_YDmXRc8/s50-c-k-no/photo.jpg",
      "userId": "111354646883340631884"
     },
     "user_tz": 480
    },
    "id": "WXgiku0wn0F-",
    "outputId": "dfe62c4f-7110-4c97-9a55-6109adea3f1e"
   },
   "outputs": [
    {
     "data": {
      "text/plain": [
       "array([[75438,   126],\n",
       "       [   40,    87]])"
      ]
     },
     "execution_count": 21,
     "metadata": {
      "tags": []
     },
     "output_type": "execute_result"
    }
   ],
   "source": [
    "y_true = df[\"output\"][idx_subset, :]\n",
    "confusion_matrix(y_true, np.round(predictions))"
   ]
  },
  {
   "cell_type": "code",
   "execution_count": 22,
   "metadata": {
    "colab": {
     "autoexec": {
      "startup": false,
      "wait_interval": 0
     },
     "base_uri": "https://localhost:8080/",
     "height": 70,
     "output_extras": [
      {
       "item_id": 1
      }
     ]
    },
    "colab_type": "code",
    "executionInfo": {
     "elapsed": 326,
     "status": "ok",
     "timestamp": 1520231272493,
     "user": {
      "displayName": "Anil Luthra",
      "photoUrl": "//lh6.googleusercontent.com/-c-lMSwjbx4A/AAAAAAAAAAI/AAAAAAAAAAY/QpH_YDmXRc8/s50-c-k-no/photo.jpg",
      "userId": "111354646883340631884"
     },
     "user_tz": 480
    },
    "id": "k89TVHHNdVfM",
    "outputId": "cd67afb4-9b44-414e-e911-f89a00925bac"
   },
   "outputs": [
    {
     "name": "stdout",
     "output_type": "stream",
     "text": [
      "Recall = 0.6850393700787402\n",
      "Precision = 0.4084507042253521\n",
      "AUC = 0.946270606717276\n"
     ]
    }
   ],
   "source": [
    "from sklearn.metrics import recall_score, precision_score, roc_auc_score\n",
    "\n",
    "print(\"Recall = {}\".format(recall_score(y_true, np.round(predictions))))\n",
    "print(\"Precision = {}\".format(precision_score(y_true, np.round(predictions))))\n",
    "print(\"AUC = {}\".format(roc_auc_score(y_true, predictions)))\n",
    "      "
   ]
  },
  {
   "cell_type": "code",
   "execution_count": 23,
   "metadata": {
    "colab": {
     "autoexec": {
      "startup": false,
      "wait_interval": 0
     },
     "base_uri": "https://localhost:8080/",
     "height": 34,
     "output_extras": [
      {
       "item_id": 1
      }
     ]
    },
    "colab_type": "code",
    "executionInfo": {
     "elapsed": 371,
     "status": "ok",
     "timestamp": 1520231276205,
     "user": {
      "displayName": "Anil Luthra",
      "photoUrl": "//lh6.googleusercontent.com/-c-lMSwjbx4A/AAAAAAAAAAI/AAAAAAAAAAY/QpH_YDmXRc8/s50-c-k-no/photo.jpg",
      "userId": "111354646883340631884"
     },
     "user_tz": 480
    },
    "id": "QUiL24ACdVfP",
    "outputId": "1bb3af15-6d3d-465e-d9dd-29ce0f4ea243"
   },
   "outputs": [
    {
     "data": {
      "text/plain": [
       "0.5946926967563801"
      ]
     },
     "execution_count": 23,
     "metadata": {
      "tags": []
     },
     "output_type": "execute_result"
    }
   ],
   "source": [
    "from sklearn.metrics import average_precision_score\n",
    "\n",
    "average_precision_score(y_true, predictions)"
   ]
  },
  {
   "cell_type": "code",
   "execution_count": 0,
   "metadata": {
    "colab": {
     "autoexec": {
      "startup": false,
      "wait_interval": 0
     }
    },
    "colab_type": "code",
    "collapsed": true,
    "id": "auGkI606dVfS"
   },
   "outputs": [],
   "source": [
    "from sklearn.metrics import roc_curve, auc\n",
    "# Compute micro-average ROC curve and ROC area\n",
    "fpr, tpr, _ = roc_curve(y_true, predictions)\n",
    "roc_auc = auc(fpr, tpr)"
   ]
  },
  {
   "cell_type": "code",
   "execution_count": 25,
   "metadata": {
    "colab": {
     "autoexec": {
      "startup": false,
      "wait_interval": 0
     },
     "base_uri": "https://localhost:8080/",
     "height": 380,
     "output_extras": [
      {
       "item_id": 1
      }
     ]
    },
    "colab_type": "code",
    "executionInfo": {
     "elapsed": 582,
     "status": "ok",
     "timestamp": 1520231279349,
     "user": {
      "displayName": "Anil Luthra",
      "photoUrl": "//lh6.googleusercontent.com/-c-lMSwjbx4A/AAAAAAAAAAI/AAAAAAAAAAY/QpH_YDmXRc8/s50-c-k-no/photo.jpg",
      "userId": "111354646883340631884"
     },
     "user_tz": 480
    },
    "id": "8o-OdGh4dVfT",
    "outputId": "ec980a79-cefe-4a49-e0e6-40b958c8e528"
   },
   "outputs": [
    {
     "data": {
      "image/png": "[encoded data removed]",
      "text/plain": [
       "<matplotlib.figure.Figure at 0x7fea40d450b8>"
      ]
     },
     "metadata": {
      "tags": []
     },
     "output_type": "display_data"
    }
   ],
   "source": [
    "import seaborn as sns\n",
    "sns.set()\n",
    "plt.figure()\n",
    "lw = 2\n",
    "plt.plot(fpr, tpr, color='darkorange',\n",
    "         lw=lw, label='ROC curve (area = %0.2f)' % roc_auc)\n",
    "plt.plot([0, 1], [0, 1], color='navy', lw=lw, linestyle='--')\n",
    "plt.xlim([0.0, 1.0])\n",
    "plt.ylim([0.0, 1.05])\n",
    "plt.xlabel('False Positive Rate', fontsize=14)\n",
    "plt.ylabel('True Positive Rate', fontsize=14)\n",
    "plt.title('Receiver operating curve - Holdout {}'.format(HOLDOUT))\n",
    "plt.legend(loc=\"lower right\")\n",
    "plt.show()"
   ]
  },
  {
   "cell_type": "code",
   "execution_count": 0,
   "metadata": {
    "colab": {
     "autoexec": {
      "startup": false,
      "wait_interval": 0
     }
    },
    "colab_type": "code",
    "collapsed": true,
    "id": "HM4ZjaLydVfm"
   },
   "outputs": [],
   "source": [
    "d = np.array([predictions, y_true])"
   ]
  },
  {
   "cell_type": "code",
   "execution_count": 0,
   "metadata": {
    "colab": {
     "autoexec": {
      "startup": false,
      "wait_interval": 0
     }
    },
    "colab_type": "code",
    "collapsed": true,
    "id": "IGUTQtk4dVfo"
   },
   "outputs": [],
   "source": [
    "dfp = pd.DataFrame(d[:,:,0].transpose())\n",
    "dfp.columns = [\"Prediction\", \"Truth\"]"
   ]
  },
  {
   "cell_type": "code",
   "execution_count": 0,
   "metadata": {
    "colab": {
     "autoexec": {
      "startup": false,
      "wait_interval": 0
     }
    },
    "colab_type": "code",
    "collapsed": true,
    "id": "S4G29EgBdVfs"
   },
   "outputs": [],
   "source": [
    "dfp.to_csv(\"gcb_predictions_truth_subset{}.csv\".format(HOLDOUT))"
   ]
  },
  {
   "cell_type": "code",
   "execution_count": 0,
   "metadata": {
    "colab": {
     "autoexec": {
      "startup": false,
      "wait_interval": 0
     }
    },
    "colab_type": "code",
    "collapsed": true,
    "id": "EmUDB28FdVfu"
   },
   "outputs": [],
   "source": [
    "#dfp"
   ]
  },
  {
   "cell_type": "code",
   "execution_count": 0,
   "metadata": {
    "colab": {
     "autoexec": {
      "startup": false,
      "wait_interval": 0
     }
    },
    "colab_type": "code",
    "collapsed": true,
    "id": "vgIBb0-FdVfv"
   },
   "outputs": [],
   "source": [
    "df_out = pd.DataFrame((df[\"uuid\"][idx_subset,:]).astype(str))\n",
    "df_out.columns = [\"seriesuid\"]\n",
    "\n",
    "df_out[\"coordX\"] = df[\"centroid\"][idx_subset, 0]\n",
    "df_out[\"coordY\"] = df[\"centroid\"][idx_subset, 1]\n",
    "df_out[\"coordZ\"] = df[\"centroid\"][idx_subset, 2]"
   ]
  },
  {
   "cell_type": "code",
   "execution_count": 0,
   "metadata": {
    "colab": {
     "autoexec": {
      "startup": false,
      "wait_interval": 0
     }
    },
    "colab_type": "code",
    "collapsed": true,
    "id": "0PWVeS8VdVfy"
   },
   "outputs": [],
   "source": [
    "df_out[\"probability\"] = dfp[\"Prediction\"]"
   ]
  },
  {
   "cell_type": "code",
   "execution_count": 0,
   "metadata": {
    "colab": {
     "autoexec": {
      "startup": false,
      "wait_interval": 0
     }
    },
    "colab_type": "code",
    "collapsed": true,
    "id": "k-I0rIIEdVf0"
   },
   "outputs": [],
   "source": [
    "# df_out"
   ]
  },
  {
   "cell_type": "code",
   "execution_count": 0,
   "metadata": {
    "colab": {
     "autoexec": {
      "startup": false,
      "wait_interval": 0
     }
    },
    "colab_type": "code",
    "collapsed": true,
    "id": "uie6rqsWdVf3"
   },
   "outputs": [],
   "source": [
    "df_out.to_csv(\"gcb_predictions_subset{}.csv\".format(HOLDOUT), index=False)"
   ]
  },
  {
   "cell_type": "code",
   "execution_count": 34,
   "metadata": {
    "colab": {
     "autoexec": {
      "startup": false,
      "wait_interval": 0
     },
     "base_uri": "https://localhost:8080/",
     "height": 123,
     "output_extras": [
      {
       "item_id": 4
      }
     ]
    },
    "colab_type": "code",
    "executionInfo": {
     "elapsed": 6561,
     "status": "ok",
     "timestamp": 1520231352476,
     "user": {
      "displayName": "Anil Luthra",
      "photoUrl": "//lh6.googleusercontent.com/-c-lMSwjbx4A/AAAAAAAAAAI/AAAAAAAAAAY/QpH_YDmXRc8/s50-c-k-no/photo.jpg",
      "userId": "111354646883340631884"
     },
     "user_tz": 480
    },
    "id": "SYLKU-RxdVf3",
    "outputId": "c0d5ffab-8b2b-4381-96cb-1a41de132d52"
   },
   "outputs": [
    {
     "name": "stdout",
     "output_type": "stream",
     "text": [
      "Copying file://gcb_predictions_subset5.csv [Content-Type=text/csv]...\n",
      "-\n",
      "Operation completed over 1 objects/9.1 MiB.                                      \n",
      "Copying file://gcb_predictions_truth_subset5.csv [Content-Type=text/csv]...\n",
      "-\n",
      "Operation completed over 1 objects/2.3 MiB.                                      \n"
     ]
    }
   ],
   "source": [
    "!gsutil cp gcb_predictions_subset{HOLDOUT}.csv  gs://{bucket_name}/LUNA16/predictions-files/  \n",
    "!gsutil cp gcb_predictions_truth_subset{HOLDOUT}.csv  gs://{bucket_name}/LUNA16/predictions-files"
   ]
  },
  {
   "cell_type": "code",
   "execution_count": 0,
   "metadata": {
    "colab": {
     "autoexec": {
      "startup": false,
      "wait_interval": 0
     }
    },
    "colab_type": "code",
    "collapsed": true,
    "id": "crPsmsVTdVf9"
   },
   "outputs": [],
   "source": []
  }
 ],
 "metadata": {
  "accelerator": "GPU",
  "colab": {
   "collapsed_sections": [],
   "default_view": {},
   "name": "gcb_Prediction-ignore.ipynb",
   "provenance": [],
   "toc_visible": true,
   "version": "0.3.2",
   "views": {}
  },
  "kernelspec": {
   "display_name": "Python [conda env:deeplearning]",
   "language": "python",
   "name": "conda-env-deeplearning-py"
  },
  "language_info": {
   "codemirror_mode": {
    "name": "ipython",
    "version": 3
   },
   "file_extension": ".py",
   "mimetype": "text/x-python",
   "name": "python",
   "nbconvert_exporter": "python",
   "pygments_lexer": "ipython3",
   "version": "3.5.3"
  }
 },
 "nbformat": 4,
 "nbformat_minor": 1
}
