{
 "cells": [
  {
   "cell_type": "markdown",
   "metadata": {},
   "source": [
    "#### Setup for Open CV endeavour, using predictions from file \"for_anil.npz\" (Image & predicted mask)\n",
    "1. Setup : \n",
    "    conda install -c menpo opencv3; \n",
    "    pip install imutils (Note - conda install imutils fails)\n",
    "2. OpenCV version: 3.1.0 used\n",
    "\n",
    "3.  Main concern - predicted mask for size 64 has very low sum np.sum; may I need predicted mask for entire scan in npz format (Tony/Suman has to create prediction in npz format and share the result, which I'll load and use for OpenCV countour detection and finding centriod.      "
   ]
  },
  {
   "cell_type": "code",
   "execution_count": 1,
   "metadata": {
    "collapsed": true
   },
   "outputs": [],
   "source": [
    "import cv2 # import the opencv library\n",
    "import imutils\n",
    "# print(\"Your OpenCV version: {}\".format(cv2.__version__))"
   ]
  },
  {
   "cell_type": "code",
   "execution_count": 2,
   "metadata": {},
   "outputs": [
    {
     "name": "stderr",
     "output_type": "stream",
     "text": [
      "/Users/aluthra/anaconda2/envs/deeplearning/lib/python3.5/site-packages/h5py/__init__.py:36: FutureWarning: Conversion of the second argument of issubdtype from `float` to `np.floating` is deprecated. In future, it will be treated as `np.float64 == np.dtype(float).type`.\n",
      "  from ._conv import register_converters as _register_converters\n",
      "/Users/aluthra/anaconda2/envs/deeplearning/lib/python3.5/importlib/_bootstrap.py:222: RuntimeWarning: compiletime version 3.6 of module 'tensorflow.python.framework.fast_tensor_util' does not match runtime version 3.5\n",
      "  return f(*args, **kwds)\n",
      "Using TensorFlow backend.\n"
     ]
    }
   ],
   "source": [
    "import pandas as pd\n",
    "import numpy as np\n",
    "import h5py\n",
    "import pandas as pd\n",
    "import argparse\n",
    "import SimpleITK as sitk\n",
    "from PIL import Image\n",
    "import os, glob \n",
    "import os, os.path\n",
    "import tensorflow as tf\n",
    "import keras\n",
    "from ipywidgets import interact, fixed\n",
    "import matplotlib.pyplot as plt\n",
    "%matplotlib inline"
   ]
  },
  {
   "cell_type": "code",
   "execution_count": 3,
   "metadata": {
    "collapsed": true
   },
   "outputs": [],
   "source": [
    "data_dir = '../data/luna16/'\n",
    "npz_prediction_file = 'subset2/for_anil.npz'"
   ]
  },
  {
   "cell_type": "code",
   "execution_count": 4,
   "metadata": {},
   "outputs": [
    {
     "name": "stdout",
     "output_type": "stream",
     "text": [
      "Keys in loaded dictionary : \n"
     ]
    },
    {
     "data": {
      "text/plain": [
       "['img1',\n",
       " 'prediction_mask1',\n",
       " 'prediction_featuremaps0',\n",
       " 'img0',\n",
       " 'prediction_featuremaps1',\n",
       " 'prediction_mask0']"
      ]
     },
     "execution_count": 4,
     "metadata": {},
     "output_type": "execute_result"
    }
   ],
   "source": [
    "npz_dict = np.load(data_dir + npz_prediction_file)\n",
    "print (\"Keys in loaded dictionary : \")\n",
    "npz_dict.keys()"
   ]
  },
  {
   "cell_type": "code",
   "execution_count": 5,
   "metadata": {
    "collapsed": true
   },
   "outputs": [],
   "source": [
    "img1 = npz_dict.f.img1.reshape(64,64, 64)\n",
    "predicted_mask1 = npz_dict.f.prediction_mask1.reshape(64,64, 64)\n",
    "featuremaps1 = npz_dict.f.prediction_featuremaps1\n",
    "\n",
    "img0 = npz_dict.f.img0.reshape(64,64, 64)\n",
    "predicted_mask0 = npz_dict.f.prediction_mask0.reshape(64,64, 64)\n",
    "featuremaps0 = npz_dict.f.prediction_featuremaps0\n"
   ]
  },
  {
   "cell_type": "markdown",
   "metadata": {},
   "source": [
    "#### Discuss : \n",
    "1. Concern the Predicted mask sum is very low for image of size 64x64x64 (refer cell below)..?"
   ]
  },
  {
   "cell_type": "code",
   "execution_count": 6,
   "metadata": {},
   "outputs": [
    {
     "name": "stdout",
     "output_type": "stream",
     "text": [
      "Predicted mask sum (Class1) : 3.1760988235473633\n",
      "Rounded Predicted mask sum (Class1): 0.0\n",
      "\n",
      "Predicted mask sum (Class0): 0.005565871950238943\n",
      "Rounded Predicted mask sum (Class0): 0.0\n"
     ]
    }
   ],
   "source": [
    "rounded_predicted_mask1 = np.round(predicted_mask1)\n",
    "print (\"Predicted mask sum (Class1) : {}\".format(np.sum(predicted_mask1)))\n",
    "print (\"Rounded Predicted mask sum (Class1): {}\".format(np.sum(rounded_predicted_mask1)))\n",
    "\n",
    "rounded_predicted_mask0 = np.round(predicted_mask0)\n",
    "print (\"\\nPredicted mask sum (Class0): {}\".format(np.sum(predicted_mask0)))\n",
    "print (\"Rounded Predicted mask sum (Class0): {}\".format(np.sum(rounded_predicted_mask0)))"
   ]
  },
  {
   "cell_type": "code",
   "execution_count": 7,
   "metadata": {
    "collapsed": true
   },
   "outputs": [],
   "source": [
    "def displaySlice(class_type, img, mask, sliceNo):\n",
    "    plt.figure(figsize=[20,20]);    \n",
    "    plt.subplot(121)\n",
    "    plt.title('True Image ({})'.format(class_type))\n",
    "    plt.imshow(img[:, :, sliceNo], cmap='bone');\n",
    "    \n",
    "    plt.subplot(122)\n",
    "    plt.title('Predicted Mask ({})'.format(class_type))\n",
    "    plt.imshow(mask[:, :, sliceNo], cmap='bone');\n",
    "#     plt.axis(\"off\")\n",
    "    plt.show()"
   ]
  },
  {
   "cell_type": "code",
   "execution_count": 8,
   "metadata": {},
   "outputs": [
    {
     "data": {
      "application/vnd.jupyter.widget-view+json": {
       "model_id": "7a12e28c16e341a397c77d84228398c7"
      }
     },
     "metadata": {},
     "output_type": "display_data"
    }
   ],
   "source": [
    "interact(displaySlice,class_type=fixed('Class1'),img=fixed(img1), \\\n",
    "         mask=fixed(predicted_mask1), sliceNo=(0,img1.shape[2]-1,1) );\n",
    "# interact(displaySlice,class_type=fixed('Class0'),img=fixed(img0), \\\n",
    "#          mask=fixed(predicted_mask0), sliceNo=(0,img0.shape[2]-1,1) );"
   ]
  },
  {
   "cell_type": "code",
   "execution_count": null,
   "metadata": {
    "collapsed": true
   },
   "outputs": [],
   "source": []
  },
  {
   "cell_type": "markdown",
   "metadata": {},
   "source": [
    "##### Discussion (AL/Tony) :\n",
    "1. CV2 usage - Rounded_predicted_mask1 or predicted_mask1 ....? \n",
    "2. Process 3D image in 2D slice's and then find countour in each 2D slice...? \n",
    "3. Convert image from BGR to RGB as OpenCV represents RGB images in reverse order by: \n",
    "    cv2.cvtColor(image, cv2.COLOR_BGR2RGB)\n",
    "4. Note the np.sum(predicted mask) is very low ~3 (concern to me)"
   ]
  },
  {
   "cell_type": "code",
   "execution_count": 9,
   "metadata": {},
   "outputs": [
    {
     "data": {
      "text/plain": [
       "True"
      ]
     },
     "execution_count": 9,
     "metadata": {},
     "output_type": "execute_result"
    }
   ],
   "source": [
    "#AL - should loop thru all the slice and find the slice with most 1's (white marks)\n",
    "#For now using one slice i.e 2D image for CV2 as Slice# 33 has few white marks (refer slider)\n",
    "test_slice = predicted_mask1[:, :, 33]   \n",
    "cv2.imwrite(\"tst.png\", test_slice)"
   ]
  },
  {
   "cell_type": "code",
   "execution_count": 10,
   "metadata": {
    "collapsed": true
   },
   "outputs": [],
   "source": [
    "# #AL/Tony....?\n",
    "# convert image from BGR to RGB as OpenCV represents RGB images in reverse order\n",
    "# cv2.cvtColor(image, cv2.COLOR_BGR2RGB)\n",
    "\n",
    "image = cv2.imread(\"tst.png\")\n",
    "gray_image = cv2.cvtColor(image, cv2.COLOR_BGR2GRAY)  \n",
    "\n",
    "thresh_image = cv2.threshold(gray_image, 75, 255, cv2.THRESH_BINARY)[1]\n",
    "\n",
    "# gray[25:45, 25:45]\n",
    "# thresh[25:45, 25:45]   # show all zero's  though we expect One's at slice#32 around center\n",
    "# cv2.imshow(\"testWindow\", thresh_image)\n",
    "## cv2.waitKey(0)"
   ]
  },
  {
   "cell_type": "code",
   "execution_count": null,
   "metadata": {
    "collapsed": true
   },
   "outputs": [],
   "source": []
  },
  {
   "cell_type": "code",
   "execution_count": 11,
   "metadata": {},
   "outputs": [
    {
     "data": {
      "text/plain": [
       "[]"
      ]
     },
     "execution_count": 11,
     "metadata": {},
     "output_type": "execute_result"
    }
   ],
   "source": [
    "cnts = cv2.findContours(thresh_image, cv2.RETR_EXTERNAL, cv2.CHAIN_APPROX_SIMPLE)\n",
    "cnts = cnts[0] if imutils.is_cv2() else cnts[1]  #No contours found...?\n",
    "cnts"
   ]
  },
  {
   "cell_type": "markdown",
   "metadata": {
    "collapsed": true
   },
   "source": [
    "##### Above no contour found....?"
   ]
  },
  {
   "cell_type": "code",
   "execution_count": 14,
   "metadata": {
    "collapsed": true
   },
   "outputs": [],
   "source": [
    "MIN_THRESH = 9 #nodule of area 3X3 (i.e. 9mm) can be ignored\n",
    "\n",
    "for c in cnts:\n",
    "    if cv2.contourArea(c) > MIN_THRESH:\n",
    "        \n",
    "        M = cv2.moments(c)\n",
    "        cX = int(M[\"m10\"] / M[\"m00\"])\n",
    "        cY = int(M[\"m01\"] / M[\"m00\"])\n",
    "        area = int(M[\"m00\"])\n",
    "\n",
    "        # draw the contour and center of the shape on the image\n",
    "        cv2.drawContours(image, [c], -1, (0, 255, 0), 2)\n",
    "        cv2.circle(image, (cX, cY), 7, (255, 255, 255), -1)\n",
    "        cv2.putText(image, \"Nodule-Centriod\", (cX - 20, cY - 20),\n",
    "        cv2.FONT_HERSHEY_SIMPLEX, 0.5, (255, 255, 255), 2)\n",
    "\n",
    "# show the image\n",
    "# cv2.imshow(\"Image Window\", thresh_image)\n",
    "# cv2.waitKey(0)"
   ]
  },
  {
   "cell_type": "code",
   "execution_count": null,
   "metadata": {
    "collapsed": true
   },
   "outputs": [],
   "source": []
  },
  {
   "cell_type": "markdown",
   "metadata": {},
   "source": [
    "#### Result/Discussion on Erosion & Dilation operations\n",
    "1. Perform dilation (to increase white region as we are getting very small sizes)\n",
    "2. Then performing Erosion operation for testing"
   ]
  },
  {
   "cell_type": "code",
   "execution_count": 15,
   "metadata": {
    "collapsed": true
   },
   "outputs": [],
   "source": [
    "kernel = np.ones((7,7), np.uint8)\n",
    "img_dilation = cv2.dilate(image, kernel, iterations=1)\n",
    "img_erosion = cv2.erode(img_dilation, kernel, iterations=1)"
   ]
  },
  {
   "cell_type": "code",
   "execution_count": 16,
   "metadata": {},
   "outputs": [
    {
     "data": {
      "image/png": "[encoded data removed]",
      "text/plain": [
       "<matplotlib.figure.Figure at 0x12f91f7f0>"
      ]
     },
     "metadata": {},
     "output_type": "display_data"
    }
   ],
   "source": [
    "plt.title(\"Dilated-Image\");\n",
    "plt.imshow(img_dilation);  #noticed all the dilated images are black"
   ]
  },
  {
   "cell_type": "code",
   "execution_count": null,
   "metadata": {
    "collapsed": true
   },
   "outputs": [],
   "source": []
  },
  {
   "cell_type": "code",
   "execution_count": null,
   "metadata": {
    "collapsed": true
   },
   "outputs": [],
   "source": []
  },
  {
   "cell_type": "code",
   "execution_count": null,
   "metadata": {
    "collapsed": true
   },
   "outputs": [],
   "source": [
    "# interact(displaySlice,class_type=fixed('Rounded Mask -Class1'),img=fixed(img1), \\\n",
    "#          mask=fixed(rounded_predicted_mask1), sliceNo=(0,img1.shape[2]-1,1) );"
   ]
  }
 ],
 "metadata": {
  "kernelspec": {
   "display_name": "Python 3",
   "language": "python",
   "name": "python3"
  },
  "language_info": {
   "codemirror_mode": {
    "name": "ipython",
    "version": 3
   },
   "file_extension": ".py",
   "mimetype": "text/x-python",
   "name": "python",
   "nbconvert_exporter": "python",
   "pygments_lexer": "ipython3",
   "version": "3.5.3"
  }
 },
 "nbformat": 4,
 "nbformat_minor": 2
}
