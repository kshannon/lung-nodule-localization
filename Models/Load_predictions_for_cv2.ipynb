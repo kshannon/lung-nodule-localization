{
 "cells": [
  {
   "cell_type": "markdown",
   "metadata": {},
   "source": [
    "#### Setup for Open CV endeavour, using predictions from file \"for_anil.npz\" (Image & predicted mask)\n",
    "1. Setup : \n",
    "    conda install -c menpo opencv3; \n",
    "    pip install imutils (Note - conda install imutils fails)\n",
    "2. OpenCV version: 3.1.0 used\n",
    "\n",
    "3.  Main concern - predicted mask for size 64 has very low sum np.sum; need predicted mask for entire scan which can be loaded and use for OpenCV countour detection and finding centriod."
   ]
  },
  {
   "cell_type": "code",
   "execution_count": null,
   "metadata": {},
   "outputs": [],
   "source": [
    "import cv2 # import the opencv library\n",
    "import imutils\n",
    "print(\"Your OpenCV version: {}\".format(cv2.__version__))"
   ]
  },
  {
   "cell_type": "code",
   "execution_count": 23,
   "metadata": {},
   "outputs": [],
   "source": [
    "import pandas as pd\n",
    "import numpy as np\n",
    "import h5py\n",
    "import pandas as pd\n",
    "import argparse\n",
    "import SimpleITK as sitk\n",
    "from PIL import Image\n",
    "import os, glob \n",
    "import os, os.path\n",
    "import tensorflow as tf\n",
    "import keras\n",
    "from ipywidgets import interact, fixed\n",
    "import matplotlib.pyplot as plt\n",
    "from UNET_utils import *\n",
    "from blob import *\n",
    "%matplotlib inline"
   ]
  },
  {
   "cell_type": "code",
   "execution_count": null,
   "metadata": {
    "collapsed": true
   },
   "outputs": [],
   "source": [
    "data_dir = '../data/luna16/'\n",
    "npz_prediction_file = 'subset2/for_anil.npz'"
   ]
  },
  {
   "cell_type": "code",
   "execution_count": 6,
   "metadata": {},
   "outputs": [
    {
     "name": "stdout",
     "output_type": "stream",
     "text": [
      "Keys in loaded dictionary : \n"
     ]
    },
    {
     "data": {
      "text/plain": [
       "['img1',\n",
       " 'prediction_mask1',\n",
       " 'prediction_featuremaps0',\n",
       " 'img0',\n",
       " 'prediction_featuremaps1',\n",
       " 'prediction_mask0']"
      ]
     },
     "execution_count": 6,
     "metadata": {},
     "output_type": "execute_result"
    }
   ],
   "source": [
    "npz_dict = np.load(data_dir + npz_prediction_file)\n",
    "print (\"Keys in loaded dictionary : \")\n",
    "npz_dict.keys()"
   ]
  },
  {
   "cell_type": "code",
   "execution_count": 7,
   "metadata": {
    "collapsed": true
   },
   "outputs": [],
   "source": [
    "img1 = npz_dict.f.img1.reshape(64,64, 64)\n",
    "predicted_mask1 = npz_dict.f.prediction_mask1.reshape(64,64, 64)\n",
    "featuremaps1 = npz_dict.f.prediction_featuremaps1\n",
    "\n",
    "img0 = npz_dict.f.img0.reshape(64,64, 64)\n",
    "predicted_mask0 = npz_dict.f.prediction_mask0.reshape(64,64, 64)\n",
    "featuremaps0 = npz_dict.f.prediction_featuremaps0"
   ]
  },
  {
   "cell_type": "markdown",
   "metadata": {},
   "source": [
    "#### Discuss : \n",
    "1. Predicted mask sum is very low for input image ..?"
   ]
  },
  {
   "cell_type": "code",
   "execution_count": 8,
   "metadata": {},
   "outputs": [
    {
     "name": "stdout",
     "output_type": "stream",
     "text": [
      "Predicted mask sum (Class1) : 3.1760988235473633\n",
      "Rounded Predicted mask sum (Class1): 0.0\n",
      "\n",
      "Predicted mask sum (Class0): 0.005565871950238943\n",
      "Rounded Predicted mask sum (Class0): 0.0\n"
     ]
    }
   ],
   "source": [
    "rounded_predicted_mask1 = np.round(predicted_mask1)\n",
    "print (\"Predicted mask sum (Class1) : {}\".format(np.sum(predicted_mask1)))\n",
    "print (\"Rounded Predicted mask sum (Class1): {}\".format(np.sum(rounded_predicted_mask1)))\n",
    "\n",
    "rounded_predicted_mask0 = np.round(predicted_mask0)\n",
    "print (\"\\nPredicted mask sum (Class0): {}\".format(np.sum(predicted_mask0)))\n",
    "print (\"Rounded Predicted mask sum (Class0): {}\".format(np.sum(rounded_predicted_mask0)))"
   ]
  },
  {
   "cell_type": "code",
   "execution_count": 9,
   "metadata": {
    "collapsed": true
   },
   "outputs": [],
   "source": [
    "def displaySlice(class_type, img, mask, sliceNo):\n",
    "    plt.figure(figsize=[8,8]);    \n",
    "    plt.subplot(121)\n",
    "    plt.title('True Image ({})'.format(class_type))\n",
    "    plt.imshow(img[:, :, sliceNo], cmap='bone');\n",
    "    \n",
    "    plt.subplot(122)\n",
    "    plt.title('Predicted Mask ({})'.format(class_type))\n",
    "    plt.imshow(mask[:, :, sliceNo], cmap='bone');\n",
    "#     plt.axis(\"off\")\n",
    "    plt.show()"
   ]
  },
  {
   "cell_type": "code",
   "execution_count": 10,
   "metadata": {},
   "outputs": [
    {
     "data": {
      "application/vnd.jupyter.widget-view+json": {
       "model_id": "38f3d4d8718a46db93a2a0119a1f27d2"
      }
     },
     "metadata": {},
     "output_type": "display_data"
    }
   ],
   "source": [
    "interact(displaySlice,class_type=fixed('Class1'),img=fixed(img1), \\\n",
    "         mask=fixed(predicted_mask1), sliceNo=(0,img1.shape[2]-1,1) );\n",
    "# interact(displaySlice,class_type=fixed('Class0'),img=fixed(img0), \\\n",
    "#          mask=fixed(predicted_mask0), sliceNo=(0,img0.shape[2]-1,1) );"
   ]
  },
  {
   "cell_type": "markdown",
   "metadata": {},
   "source": [
    "##### Discussion :\n",
    "1. CV2: using Rounded_predicted_mask1....? \n",
    "2. Process 3D image in 2D slice's and then find countour in each 2D slice...? \n",
    "3. Convert image from BGR to RGB as OpenCV represents RGB images in reverse order by: \n",
    "    cv2.cvtColor(image, cv2.COLOR_BGR2RGB)\n",
    "4. Note the np.sum(predicted mask) is very low"
   ]
  },
  {
   "cell_type": "code",
   "execution_count": 11,
   "metadata": {
    "collapsed": true
   },
   "outputs": [],
   "source": [
    "def morphImage(img, kernel = np.ones((7,7), np.uint8)):\n",
    "    img_dilated = cv2.dilate(img, kernel, iterations=1)\n",
    "    img_eroded = cv2.erode(img_dilated, kernel, iterations=1)\n",
    "    return (img_dilated, img_eroded)"
   ]
  },
  {
   "cell_type": "code",
   "execution_count": 12,
   "metadata": {
    "collapsed": true
   },
   "outputs": [],
   "source": [
    "# def findCentriod(cntrs, z_slice, MIN_THRESH = 7): #nodule area for diameter 3 is Pi*1.5*1.5 (i.e. 7) can be ignored\n",
    "def findCentriod(cntrs, z_slice, MIN_THRESH = 0): #nodule area for diameter 3 is Pi*1.5*1.5 (i.e. 7) can be ignored    \n",
    "    for c in cntrs:\n",
    "        if cv2.contourArea(c) > MIN_THRESH:\n",
    "            M = cv2.moments(c)\n",
    "            cX = int(M[\"m10\"] / M[\"m00\"])\n",
    "            cY = int(M[\"m01\"] / M[\"m00\"])\n",
    "            cZ = z_slice\n",
    "            area = int(M[\"m00\"])\n",
    "            diameter = 2*(np.sqrt(area/np.pi))\n",
    "#             writer.writerow(cX, cY, area, diameter)\n",
    "            print(\" Coord X = {}; Coord Y = {}; Coord Z = {}; Nodule Area = {}; Diameter = {} \".\\\n",
    "                  format(cX, cY, cZ, area, diameter))"
   ]
  },
  {
   "cell_type": "code",
   "execution_count": 13,
   "metadata": {
    "collapsed": true
   },
   "outputs": [],
   "source": [
    "def plot_morphImage(rslt):\n",
    "    plt.figure(figsize=[8,8]);    \n",
    "    plt.subplot(121)\n",
    "    plt.title(\"Image after Dilation only\");\n",
    "    plt.imshow(rslt[0]);\n",
    "\n",
    "    plt.subplot(122)\n",
    "    plt.title(\"Image after Dilation & Erosion\");\n",
    "    plt.imshow(rslt[1]);"
   ]
  },
  {
   "cell_type": "code",
   "execution_count": 14,
   "metadata": {
    "collapsed": true
   },
   "outputs": [],
   "source": [
    "def process_mask(predicted_mask_tst):\n",
    "    found_contour = False;\n",
    "    for idx in range(predicted_mask_tst.shape[2]):\n",
    "    # for idx in range(22, 40, 1):  \n",
    "        one_slice = predicted_mask_tst[:, :, idx] \n",
    "        rslt = morphImage(one_slice)\n",
    "        # plot_morphImage(rslt)\n",
    "\n",
    "        tmp_slice = rslt[1]\n",
    "        cv2.imwrite(\"tmp_slice.png\", tmp_slice)\n",
    "        image = cv2.imread(\"tmp_slice.png\")\n",
    "\n",
    "        # #AL....?\n",
    "        # convert image from BGR to RGB as OpenCV represents RGB images in reverse order\n",
    "        # cv2.cvtColor(image, cv2.COLOR_BGR2RGB)\n",
    "        gray_image = cv2.cvtColor(image, cv2.COLOR_BGR2GRAY)\n",
    "\n",
    "        cntrs = cv2.findContours(gray_image, cv2.RETR_EXTERNAL, cv2.CHAIN_APPROX_SIMPLE)\n",
    "        cntrs = cntrs[0] if imutils.is_cv2() else cntrs[1]\n",
    "        if len(cntrs) > 0:\n",
    "            found_contour = True;\n",
    "        findCentriod(cntrs, idx)\n",
    "        \n",
    "    print(\"Found contour in mask : {}\". format(found_contour))"
   ]
  },
  {
   "cell_type": "markdown",
   "metadata": {},
   "source": [
    "##### Section A - testing with Simulated mask on image size (64,64,64) with Maks diameter = 12\n",
    "1. Printing centriod coordinates X, Y , Z (as slice number)....?  "
   ]
  },
  {
   "cell_type": "code",
   "execution_count": null,
   "metadata": {},
   "outputs": [],
   "source": [
    "predicted_mask_Simulated = makeMasks()[6].reshape(64,64,64)\n",
    "process_mask(predicted_mask_Simulated)"
   ]
  },
  {
   "cell_type": "markdown",
   "metadata": {},
   "source": [
    "##### Section B - using predicted mask for scan \n",
    "1. No contours found though slider show litte blips of 1's around slice#33 "
   ]
  },
  {
   "cell_type": "code",
   "execution_count": null,
   "metadata": {},
   "outputs": [],
   "source": [
    "process_mask(rounded_predicted_mask1)"
   ]
  },
  {
   "cell_type": "markdown",
   "metadata": {},
   "source": [
    "#### Result/Discussion on Erosion & Dilation operations\n",
    "1. Perform dilation (to increase white region as we are getting very small sizes)\n",
    "2. Then performing Erosion operation"
   ]
  },
  {
   "cell_type": "markdown",
   "metadata": {},
   "source": [
    "##### Section C - findind centroid for 3D using blob method   \n",
    "1. No \n",
    "https://github.com/kwohlfahrt/blob/blob/master/blob.py\n",
    "blob.findBlobs(prediction_mask1[0,:,:,:,0].reshape(64,64,64), \n",
    "                    scales=range(2, 30), threshold=0.1)\n",
    "Will return the pixel centers of a 3D blob."
   ]
  },
  {
   "cell_type": "code",
   "execution_count": 32,
   "metadata": {},
   "outputs": [
    {
     "data": {
      "text/plain": [
       "(64, 64, 64)"
      ]
     },
     "execution_count": 32,
     "metadata": {},
     "output_type": "execute_result"
    }
   ],
   "source": [
    "predicted_mask_blob = makeMasks()[8].reshape(64,64,64)"
   ]
  },
  {
   "cell_type": "code",
   "execution_count": 31,
   "metadata": {
    "scrolled": true
   },
   "outputs": [
    {
     "name": "stderr",
     "output_type": "stream",
     "text": [
      "/Users/aluthra/Documents/DSE/ucsd-dse-capstone/Models/blob.py:46: RuntimeWarning: divide by zero encountered in true_divide\n",
      "  / (12 * d)) * valid\n"
     ]
    },
    {
     "data": {
      "text/plain": [
       "array([[ 2, 32, 32, 32]])"
      ]
     },
     "execution_count": 31,
     "metadata": {},
     "output_type": "execute_result"
    }
   ],
   "source": [
    "findBlobs(predicted_mask_blob[:,:,:].reshape(64,64,64), \n",
    "                    scales=range(2, 30), threshold=0.1)"
   ]
  },
  {
   "cell_type": "code",
   "execution_count": 36,
   "metadata": {},
   "outputs": [
    {
     "data": {
      "text/plain": [
       "array([], shape=(0, 4), dtype=int64)"
      ]
     },
     "execution_count": 36,
     "metadata": {},
     "output_type": "execute_result"
    }
   ],
   "source": [
    "findBlobs(rounded_predicted_mask1[:,:,:].reshape(64,64,64), \n",
    "                    scales=range(2, 30), threshold=0.1)"
   ]
  },
  {
   "cell_type": "code",
   "execution_count": null,
   "metadata": {
    "collapsed": true
   },
   "outputs": [],
   "source": []
  }
 ],
 "metadata": {
  "kernelspec": {
   "display_name": "Python 3",
   "language": "python",
   "name": "python3"
  },
  "language_info": {
   "codemirror_mode": {
    "name": "ipython",
    "version": 3
   },
   "file_extension": ".py",
   "mimetype": "text/x-python",
   "name": "python",
   "nbconvert_exporter": "python",
   "pygments_lexer": "ipython3",
   "version": "3.5.3"
  }
 },
 "nbformat": 4,
 "nbformat_minor": 2
}
