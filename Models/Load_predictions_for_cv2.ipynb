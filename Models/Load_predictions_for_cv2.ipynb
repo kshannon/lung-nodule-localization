{
 "cells": [
  {
   "cell_type": "markdown",
   "metadata": {},
   "source": [
    "#### Setup for Open CV endeavour, using predictions from file \"for_anil.npz\" (Image & predicted mask)\n",
    "1. Setup : \n",
    "    conda install -c menpo opencv3; \n",
    "    pip install imutils (Note - conda install imutils fails)\n",
    "2. OpenCV version: 3.1.0 used\n",
    "\n",
    "3.  Main concern - predicted mask for size 64 has very low sum np.sum; may I need predicted mask for entire scan in npz format (Tony/Suman has to create prediction in npz format and share the result, which I'll load and use for OpenCV countour detection and finding centriod.      "
   ]
  },
  {
   "cell_type": "code",
   "execution_count": 1,
   "metadata": {},
   "outputs": [
    {
     "name": "stdout",
     "output_type": "stream",
     "text": [
      "Your OpenCV version: 3.1.0\n"
     ]
    }
   ],
   "source": [
    "import cv2 # import the opencv library\n",
    "import imutils\n",
    "print(\"Your OpenCV version: {}\".format(cv2.__version__))"
   ]
  },
  {
   "cell_type": "code",
   "execution_count": 2,
   "metadata": {},
   "outputs": [
    {
     "name": "stderr",
     "output_type": "stream",
     "text": [
      "/Users/aluthra/anaconda2/envs/deeplearning/lib/python3.5/site-packages/h5py/__init__.py:36: FutureWarning: Conversion of the second argument of issubdtype from `float` to `np.floating` is deprecated. In future, it will be treated as `np.float64 == np.dtype(float).type`.\n",
      "  from ._conv import register_converters as _register_converters\n",
      "/Users/aluthra/anaconda2/envs/deeplearning/lib/python3.5/importlib/_bootstrap.py:222: RuntimeWarning: compiletime version 3.6 of module 'tensorflow.python.framework.fast_tensor_util' does not match runtime version 3.5\n",
      "  return f(*args, **kwds)\n",
      "Using TensorFlow backend.\n"
     ]
    }
   ],
   "source": [
    "import pandas as pd\n",
    "import numpy as np\n",
    "import h5py\n",
    "import pandas as pd\n",
    "import argparse\n",
    "import SimpleITK as sitk\n",
    "from PIL import Image\n",
    "import os, glob \n",
    "import os, os.path\n",
    "import tensorflow as tf\n",
    "import keras\n",
    "from ipywidgets import interact, fixed\n",
    "import matplotlib.pyplot as plt\n",
    "from UNET_utils import *\n",
    "%matplotlib inline"
   ]
  },
  {
   "cell_type": "code",
   "execution_count": 3,
   "metadata": {
    "collapsed": true
   },
   "outputs": [],
   "source": [
    "data_dir = '../data/luna16/'\n",
    "npz_prediction_file = 'subset2/for_anil.npz'"
   ]
  },
  {
   "cell_type": "code",
   "execution_count": 4,
   "metadata": {},
   "outputs": [
    {
     "name": "stdout",
     "output_type": "stream",
     "text": [
      "Keys in loaded dictionary : \n"
     ]
    },
    {
     "data": {
      "text/plain": [
       "['img1',\n",
       " 'prediction_mask1',\n",
       " 'prediction_featuremaps0',\n",
       " 'img0',\n",
       " 'prediction_featuremaps1',\n",
       " 'prediction_mask0']"
      ]
     },
     "execution_count": 4,
     "metadata": {},
     "output_type": "execute_result"
    }
   ],
   "source": [
    "npz_dict = np.load(data_dir + npz_prediction_file)\n",
    "print (\"Keys in loaded dictionary : \")\n",
    "npz_dict.keys()"
   ]
  },
  {
   "cell_type": "code",
   "execution_count": 5,
   "metadata": {
    "collapsed": true
   },
   "outputs": [],
   "source": [
    "img1 = npz_dict.f.img1.reshape(64,64, 64)\n",
    "predicted_mask1 = npz_dict.f.prediction_mask1.reshape(64,64, 64)\n",
    "featuremaps1 = npz_dict.f.prediction_featuremaps1\n",
    "\n",
    "img0 = npz_dict.f.img0.reshape(64,64, 64)\n",
    "predicted_mask0 = npz_dict.f.prediction_mask0.reshape(64,64, 64)\n",
    "featuremaps0 = npz_dict.f.prediction_featuremaps0"
   ]
  },
  {
   "cell_type": "markdown",
   "metadata": {},
   "source": [
    "#### Discuss : \n",
    "1. Predicted mask sum is very low for input image ..?"
   ]
  },
  {
   "cell_type": "code",
   "execution_count": 6,
   "metadata": {},
   "outputs": [
    {
     "name": "stdout",
     "output_type": "stream",
     "text": [
      "Predicted mask sum (Class1) : 3.1760988235473633\n",
      "Rounded Predicted mask sum (Class1): 0.0\n",
      "\n",
      "Predicted mask sum (Class0): 0.005565871950238943\n",
      "Rounded Predicted mask sum (Class0): 0.0\n"
     ]
    }
   ],
   "source": [
    "rounded_predicted_mask1 = np.round(predicted_mask1)\n",
    "print (\"Predicted mask sum (Class1) : {}\".format(np.sum(predicted_mask1)))\n",
    "print (\"Rounded Predicted mask sum (Class1): {}\".format(np.sum(rounded_predicted_mask1)))\n",
    "\n",
    "rounded_predicted_mask0 = np.round(predicted_mask0)\n",
    "print (\"\\nPredicted mask sum (Class0): {}\".format(np.sum(predicted_mask0)))\n",
    "print (\"Rounded Predicted mask sum (Class0): {}\".format(np.sum(rounded_predicted_mask0)))"
   ]
  },
  {
   "cell_type": "code",
   "execution_count": 7,
   "metadata": {
    "collapsed": true
   },
   "outputs": [],
   "source": [
    "def displaySlice(class_type, img, mask, sliceNo):\n",
    "    plt.figure(figsize=[8,8]);    \n",
    "    plt.subplot(121)\n",
    "    plt.title('True Image ({})'.format(class_type))\n",
    "    plt.imshow(img[:, :, sliceNo], cmap='bone');\n",
    "    \n",
    "    plt.subplot(122)\n",
    "    plt.title('Predicted Mask ({})'.format(class_type))\n",
    "    plt.imshow(mask[:, :, sliceNo], cmap='bone');\n",
    "#     plt.axis(\"off\")\n",
    "    plt.show()"
   ]
  },
  {
   "cell_type": "code",
   "execution_count": 8,
   "metadata": {},
   "outputs": [
    {
     "data": {
      "application/vnd.jupyter.widget-view+json": {
       "model_id": "ec750e15bd1e4ded93c03da0ea6db6e2"
      }
     },
     "metadata": {},
     "output_type": "display_data"
    }
   ],
   "source": [
    "interact(displaySlice,class_type=fixed('Class1'),img=fixed(img1), \\\n",
    "         mask=fixed(predicted_mask1), sliceNo=(0,img1.shape[2]-1,1) );\n",
    "# interact(displaySlice,class_type=fixed('Class0'),img=fixed(img0), \\\n",
    "#          mask=fixed(predicted_mask0), sliceNo=(0,img0.shape[2]-1,1) );"
   ]
  },
  {
   "cell_type": "markdown",
   "metadata": {},
   "source": [
    "##### Discussion :\n",
    "1. CV2: using Rounded_predicted_mask1....? \n",
    "2. Process 3D image in 2D slice's and then find countour in each 2D slice...? \n",
    "3. Convert image from BGR to RGB as OpenCV represents RGB images in reverse order by: \n",
    "    cv2.cvtColor(image, cv2.COLOR_BGR2RGB)\n",
    "4. Note the np.sum(predicted mask) is very low"
   ]
  },
  {
   "cell_type": "code",
   "execution_count": 9,
   "metadata": {
    "collapsed": true
   },
   "outputs": [],
   "source": [
    "def morphImage(img, kernel = np.ones((7,7), np.uint8)):\n",
    "    img_dilated = cv2.dilate(img, kernel, iterations=1)\n",
    "    img_eroded = cv2.erode(img_dilated, kernel, iterations=1)\n",
    "    return (img_dilated, img_eroded)"
   ]
  },
  {
   "cell_type": "code",
   "execution_count": 14,
   "metadata": {
    "collapsed": true
   },
   "outputs": [],
   "source": [
    "# def findCentriod(cntrs, z_slice, MIN_THRESH = 7): #nodule area for diameter 3 is Pi*1.5*1.5 (i.e. 7) can be ignored\n",
    "def findCentriod(cntrs, z_slice, MIN_THRESH = 0): #nodule area for diameter 3 is Pi*1.5*1.5 (i.e. 7) can be ignored    \n",
    "    for c in cntrs:\n",
    "        if cv2.contourArea(c) > MIN_THRESH:\n",
    "            M = cv2.moments(c)\n",
    "            cX = int(M[\"m10\"] / M[\"m00\"])\n",
    "            cY = int(M[\"m01\"] / M[\"m00\"])\n",
    "            cZ = z_slice\n",
    "            area = int(M[\"m00\"])\n",
    "            diameter = 2*(np.sqrt(area/np.pi))\n",
    "#             writer.writerow(cX, cY, area, diameter)\n",
    "            print(\" Coord X = {}; Coord Y = {}; Coord Z = {}; Nodule Area = {}; Diameter = {} \".\\\n",
    "                  format(cX, cY, cZ, area, diameter))"
   ]
  },
  {
   "cell_type": "code",
   "execution_count": 15,
   "metadata": {
    "collapsed": true
   },
   "outputs": [],
   "source": [
    "def plot_morphImage(rslt):\n",
    "    plt.figure(figsize=[8,8]);    \n",
    "    plt.subplot(121)\n",
    "    plt.title(\"Image after Dilation only\");\n",
    "    plt.imshow(rslt[0]);\n",
    "\n",
    "    plt.subplot(122)\n",
    "    plt.title(\"Image after Dilation & Erosion\");\n",
    "    plt.imshow(rslt[1]);"
   ]
  },
  {
   "cell_type": "code",
   "execution_count": 16,
   "metadata": {
    "collapsed": true
   },
   "outputs": [],
   "source": [
    "def process_mask(predicted_mask_tst):\n",
    "    found_contour = False;\n",
    "    for idx in range(predicted_mask_tst.shape[2]):\n",
    "    # for idx in range(22, 40, 1):  \n",
    "        one_slice = predicted_mask_tst[:, :, idx] \n",
    "        rslt = morphImage(one_slice)\n",
    "        # plot_morphImage(rslt)\n",
    "\n",
    "        tmp_slice = rslt[1]\n",
    "        cv2.imwrite(\"tmp_slice.png\", tmp_slice)\n",
    "        image = cv2.imread(\"tmp_slice.png\")\n",
    "\n",
    "        # #AL....?\n",
    "        # convert image from BGR to RGB as OpenCV represents RGB images in reverse order\n",
    "        # cv2.cvtColor(image, cv2.COLOR_BGR2RGB)\n",
    "        gray_image = cv2.cvtColor(image, cv2.COLOR_BGR2GRAY)\n",
    "\n",
    "        cntrs = cv2.findContours(gray_image, cv2.RETR_EXTERNAL, cv2.CHAIN_APPROX_SIMPLE)\n",
    "        cntrs = cntrs[0] if imutils.is_cv2() else cntrs[1]\n",
    "        if len(cntrs) > 0:\n",
    "            found_contour = True;\n",
    "        findCentriod(cntrs, idx)\n",
    "        \n",
    "    print(\"Found contour in mask : {}\". format(found_contour))"
   ]
  },
  {
   "cell_type": "markdown",
   "metadata": {},
   "source": [
    "##### Section A - testing with Simulated mask on image size (64,64,64) with Maks diameter = 12\n",
    "1. Printing centriod coordinates X, Y , Z (as slice number)....?  "
   ]
  },
  {
   "cell_type": "code",
   "execution_count": 17,
   "metadata": {},
   "outputs": [
    {
     "name": "stdout",
     "output_type": "stream",
     "text": [
      " Coord X = 32; Coord Y = 32; Coord Z = 27; Nodule Area = 28; Diameter = 5.970821321441846 \n",
      " Coord X = 32; Coord Y = 32; Coord Z = 28; Nodule Area = 56; Diameter = 8.444016491289505 \n",
      " Coord X = 32; Coord Y = 32; Coord Z = 29; Nodule Area = 74; Diameter = 9.706684619910241 \n",
      " Coord X = 32; Coord Y = 32; Coord Z = 30; Nodule Area = 84; Diameter = 10.341765891652821 \n",
      " Coord X = 32; Coord Y = 32; Coord Z = 31; Nodule Area = 92; Diameter = 10.823032759612019 \n",
      " Coord X = 32; Coord Y = 32; Coord Z = 32; Nodule Area = 96; Diameter = 11.055812783082736 \n",
      " Coord X = 32; Coord Y = 32; Coord Z = 33; Nodule Area = 92; Diameter = 10.823032759612019 \n",
      " Coord X = 32; Coord Y = 32; Coord Z = 34; Nodule Area = 84; Diameter = 10.341765891652821 \n",
      " Coord X = 32; Coord Y = 32; Coord Z = 35; Nodule Area = 74; Diameter = 9.706684619910241 \n",
      " Coord X = 32; Coord Y = 32; Coord Z = 36; Nodule Area = 56; Diameter = 8.444016491289505 \n",
      " Coord X = 32; Coord Y = 32; Coord Z = 37; Nodule Area = 28; Diameter = 5.970821321441846 \n",
      "Found contour in mask : True\n"
     ]
    }
   ],
   "source": [
    "predicted_mask_Simulated = makeMasks()[6].reshape(64,64,64)\n",
    "process_mask(predicted_mask_Simulated)"
   ]
  },
  {
   "cell_type": "markdown",
   "metadata": {},
   "source": [
    "##### Section B - using predicted mask for scan \n",
    "1. No contours found though slider show litte blips of 1's around slice#33 "
   ]
  },
  {
   "cell_type": "code",
   "execution_count": 16,
   "metadata": {},
   "outputs": [
    {
     "name": "stdout",
     "output_type": "stream",
     "text": [
      "Found contour in mask : False\n"
     ]
    }
   ],
   "source": [
    "process_mask(rounded_predicted_mask1)"
   ]
  },
  {
   "cell_type": "markdown",
   "metadata": {},
   "source": [
    "#### Result/Discussion on Erosion & Dilation operations\n",
    "1. Perform dilation (to increase white region as we are getting very small sizes)\n",
    "2. Then performing Erosion operation"
   ]
  },
  {
   "cell_type": "code",
   "execution_count": null,
   "metadata": {
    "collapsed": true
   },
   "outputs": [],
   "source": []
  },
  {
   "cell_type": "code",
   "execution_count": null,
   "metadata": {
    "collapsed": true
   },
   "outputs": [],
   "source": []
  }
 ],
 "metadata": {
  "kernelspec": {
   "display_name": "Python 3",
   "language": "python",
   "name": "python3"
  },
  "language_info": {
   "codemirror_mode": {
    "name": "ipython",
    "version": 3
   },
   "file_extension": ".py",
   "mimetype": "text/x-python",
   "name": "python",
   "nbconvert_exporter": "python",
   "pygments_lexer": "ipython3",
   "version": "3.5.3"
  }
 },
 "nbformat": 4,
 "nbformat_minor": 2
}
