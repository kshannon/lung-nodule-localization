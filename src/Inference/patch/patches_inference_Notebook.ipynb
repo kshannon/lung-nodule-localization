{
 "cells": [
  {
   "cell_type": "markdown",
   "metadata": {},
   "source": [
    "#### To test: \n",
    "1. Create a folder ~/data/luna16/\n",
    "2. Create a folder ~/data/luna16/hdf5\n",
    "    -Under this copy UNET_weights_H5.h5 (download from google drive)\n",
    "3. Create a folder ~/data/luna16/hdf5/HO5 \n",
    "    -Under this copy 64x64x64-patch-withdiam_sample.hdf5"
   ]
  },
  {
   "cell_type": "code",
   "execution_count": 1,
   "metadata": {
    "scrolled": true
   },
   "outputs": [
    {
     "name": "stderr",
     "output_type": "stream",
     "text": [
      "/Users/sumangunnala/anaconda2/envs/tensorflow_keras/lib/python3.6/site-packages/h5py/__init__.py:34: FutureWarning: Conversion of the second argument of issubdtype from `float` to `np.floating` is deprecated. In future, it will be treated as `np.float64 == np.dtype(float).type`.\n",
      "  from ._conv import register_converters as _register_converters\n",
      "Using TensorFlow backend.\n"
     ]
    }
   ],
   "source": [
    "import numpy as np\n",
    "import h5py\n",
    "import pandas as pd\n",
    "import keras\n",
    "\n",
    "from ipywidgets import interact\n",
    "\n",
    "#from UNET_utils import *\n",
    "from UNET_model_def import *\n",
    "from matplotlib import pyplot as plt\n",
    "%matplotlib inline"
   ]
  },
  {
   "cell_type": "code",
   "execution_count": 33,
   "metadata": {
    "collapsed": true
   },
   "outputs": [],
   "source": [
    "#!pip install ipywidgets"
   ]
  },
  {
   "cell_type": "code",
   "execution_count": 2,
   "metadata": {},
   "outputs": [
    {
     "name": "stdout",
     "output_type": "stream",
     "text": [
      "Enabling notebook extension jupyter-js-widgets/extension...\r\n",
      "      - Validating: \u001b[32mOK\u001b[0m\r\n"
     ]
    }
   ],
   "source": [
    "!jupyter nbextension enable --py widgetsnbextension"
   ]
  },
  {
   "cell_type": "code",
   "execution_count": 3,
   "metadata": {},
   "outputs": [
    {
     "data": {
      "text/plain": [
       "'/Users/sumangunnala/Documents/DSE/sgunnala/Capstone/lung-nodule-localization/src/Inference/patch/inferencecode_old'"
      ]
     },
     "execution_count": 3,
     "metadata": {},
     "output_type": "execute_result"
    }
   ],
   "source": [
    "pwd"
   ]
  },
  {
   "cell_type": "code",
   "execution_count": 4,
   "metadata": {},
   "outputs": [
    {
     "name": "stdout",
     "output_type": "stream",
     "text": [
      "3D U-Net Segmentation\n"
     ]
    }
   ],
   "source": [
    "HOLDOUT = 5\n",
    "\n",
    "TOP_DIR = \"/Users/sumangunnala/Documents/DSE/sgunnala/Capstone/dataset/luna16_DATA/hdf5files\"\n",
    "HO_dir = '/HO{}/'.format(HOLDOUT)\n",
    "data_dir = TOP_DIR + HO_dir\n",
    "\n",
    "#model_wghts = \"{}/Test_UNET_weights_modelC_exp1_lr02_BSexp1_H{}.h5\".format(data_dir, HOLDOUT)\n",
    "#model_wghts = \"{}/Test_UNET_weights_modelB_exp1_lr02_BSexp1_H{}.h5\".format(data_dir, HOLDOUT)\n",
    "model_wghts = \"{}/UNET_weights_modelB_exp1_lr009_BSexp1_H{}.h5\".format(data_dir, HOLDOUT)\n",
    "model = unet3D_Model6_Model13((None,None,None,1))\n",
    "hu_norm_on = False # set it to True if model has HU normalization at the time of training\n",
    "\n"
   ]
  },
  {
   "cell_type": "code",
   "execution_count": 5,
   "metadata": {
    "collapsed": true
   },
   "outputs": [],
   "source": [
    "model.load_weights(model_wghts)"
   ]
  },
  {
   "cell_type": "code",
   "execution_count": 6,
   "metadata": {
    "collapsed": true
   },
   "outputs": [],
   "source": [
    "hdf = h5py.File(\"{}/64x64x64-patch-withdiam_HO{}sample.hdf5\".format(data_dir,HOLDOUT), \"r\")"
   ]
  },
  {
   "cell_type": "code",
   "execution_count": 7,
   "metadata": {},
   "outputs": [
    {
     "data": {
      "text/plain": [
       "['centroid', 'diameter_label', 'input', 'notrain', 'output', 'subsets', 'uuid']"
      ]
     },
     "execution_count": 7,
     "metadata": {},
     "output_type": "execute_result"
    }
   ],
   "source": [
    "list(hdf.keys())"
   ]
  },
  {
   "cell_type": "code",
   "execution_count": 8,
   "metadata": {
    "collapsed": true
   },
   "outputs": [],
   "source": [
    "class1 = np.where(hdf[\"output\"][:,0]==1)[0]  # Where are class 1\n",
    "class0 = np.where(hdf[\"output\"][:,0]==0)[0]  # Where are class 1"
   ]
  },
  {
   "cell_type": "code",
   "execution_count": 9,
   "metadata": {},
   "outputs": [
    {
     "data": {
      "text/plain": [
       "19"
      ]
     },
     "execution_count": 9,
     "metadata": {},
     "output_type": "execute_result"
    }
   ],
   "source": [
    "len(class1)"
   ]
  },
  {
   "cell_type": "code",
   "execution_count": 10,
   "metadata": {
    "collapsed": true
   },
   "outputs": [],
   "source": [
    "def hu_norm(npzarray):\n",
    "    \n",
    "    \"\"\"\n",
    "    Normalize pixel depth into Hounsfield units (HU), between -1000 - 400 HU\n",
    "    All other HU will be masked. Then we normalize pixel values between 0 and 1.\n",
    "    \"\"\"\n",
    "    if hu_norm_on:\n",
    "        maxHU, minHU = 400., -1000.\n",
    "        npzarray = (npzarray - minHU) / (maxHU - minHU)\n",
    "        npzarray[npzarray>1] = 1.\n",
    "        npzarray[npzarray<0] = 0.\n",
    "    return npzarray"
   ]
  },
  {
   "cell_type": "code",
   "execution_count": 11,
   "metadata": {},
   "outputs": [
    {
     "name": "stdout",
     "output_type": "stream",
     "text": [
      "Class 1\n",
      "(64, 64, 64, 1)\n"
     ]
    },
    {
     "data": {
      "application/vnd.jupyter.widget-view+json": {
       "model_id": "7b1e7a0a20dd43dfa5a88da647e3febc",
       "version_major": 2,
       "version_minor": 0
      },
      "text/plain": [
       "A Jupyter Widget"
      ]
     },
     "metadata": {},
     "output_type": "display_data"
    },
    {
     "name": "stdout",
     "output_type": "stream",
     "text": [
      "[b'1.3.6.1.4.1.14519.5.2.1.6279.6001.112740418331256326754121315800']\n"
     ]
    }
   ],
   "source": [
    "print(\"Class 1\")\n",
    "\n",
    "class1idx = 8\n",
    "\n",
    "# Choose one of the class 1 ROIs\n",
    "\n",
    "img1 = hdf[\"input\"][class1[class1idx],:].reshape(64,64,64,1)  \n",
    "print(img1.shape)\n",
    "\n",
    "predict_array = model.predict(hu_norm(np.expand_dims(img1,0)), verbose=2)\n",
    "\n",
    "prediction_mask1 = np.round(predict_array)\n",
    "\n",
    "\n",
    "def displaySlice(sliceNo):\n",
    "    \n",
    "    \n",
    "    plt.figure(figsize=(15,15))\n",
    "    plt.subplot(1,3,1)\n",
    "    plt.imshow(img1[:,:,sliceNo,0], cmap=\"bone\")\n",
    "    plt.title(\"Image\")\n",
    "\n",
    "    plt.subplot(1,3,2)\n",
    "    plt.imshow(prediction_mask1[0,:,:,sliceNo,0], cmap=\"bone\")\n",
    "    plt.title(\"Tumor Prediction\")\n",
    "\n",
    "    plt.subplot(1,3,3)\n",
    "    plt.imshow(img1[:,:,sliceNo,0], cmap=\"bone\")\n",
    "    plt.imshow(prediction_mask1[0,:,:,sliceNo,0], alpha=0.5, cmap=\"Reds\")\n",
    "    plt.title(\"Overlay\")\n",
    "    \n",
    "    \n",
    "    \n",
    "    plt.figure(figsize=(15,15))\n",
    "    plt.subplot(1,3,1)\n",
    "    plt.imshow(img1[sliceNo,:,:,0], cmap=\"bone\")\n",
    "    plt.title(\"Image\")\n",
    "\n",
    "    plt.subplot(1,3,2)\n",
    "    plt.imshow(prediction_mask1[0,sliceNo,:,:,0], cmap=\"bone\")\n",
    "    plt.title(\"Tumor Prediction\")\n",
    "\n",
    "    plt.subplot(1,3,3)\n",
    "    plt.imshow(img1[sliceNo,:,:,0], cmap=\"bone\")\n",
    "    plt.imshow(prediction_mask1[0,sliceNo,:,:,0], alpha=0.5, cmap=\"Reds\")\n",
    "    plt.title(\"Overlay\")\n",
    "    \n",
    "    \n",
    "    \n",
    "interact(displaySlice, sliceNo=(1,img1.shape[2],1)); \n",
    "\n",
    "print(hdf[\"uuid\"][0])"
   ]
  },
  {
   "cell_type": "code",
   "execution_count": null,
   "metadata": {
    "collapsed": true
   },
   "outputs": [],
   "source": []
  },
  {
   "cell_type": "code",
   "execution_count": 12,
   "metadata": {},
   "outputs": [
    {
     "name": "stdout",
     "output_type": "stream",
     "text": [
      "Class 0\n"
     ]
    },
    {
     "data": {
      "application/vnd.jupyter.widget-view+json": {
       "model_id": "1c457336b89d428a866427a3d36792c0",
       "version_major": 2,
       "version_minor": 0
      },
      "text/plain": [
       "A Jupyter Widget"
      ]
     },
     "metadata": {},
     "output_type": "display_data"
    },
    {
     "name": "stdout",
     "output_type": "stream",
     "text": [
      "[b'1.3.6.1.4.1.14519.5.2.1.6279.6001.112740418331256326754121315800']\n"
     ]
    }
   ],
   "source": [
    "print(\"Class 0\")\n",
    "class0idx = 590\n",
    "\n",
    "# Choose one of the class 0 ROIs\n",
    "\n",
    "img0 = hdf[\"input\"][class0[class0idx],:].reshape(64,64,64,1)  \n",
    "\n",
    "\n",
    "predict_array = model.predict(hu_norm(np.expand_dims(img0,0)), verbose=2)\n",
    "\n",
    "prediction_mask0 = np.round(predict_array)\n",
    "\n",
    "\n",
    "def displaySlice(sliceNo):\n",
    "    \n",
    "    plt.figure(figsize=(15,15))\n",
    "    plt.subplot(1,3,1)\n",
    "    plt.imshow(img0[:,:,sliceNo,0], cmap=\"bone\")\n",
    "    plt.title(\"Image\")\n",
    "\n",
    "    plt.subplot(1,3,2)\n",
    "    plt.imshow(prediction_mask0[0,:,:,sliceNo,0], cmap=\"bone\")\n",
    "    plt.title(\"Tumor Prediction\")\n",
    "\n",
    "    plt.subplot(1,3,3)\n",
    "    plt.imshow(img0[:,:,sliceNo,0], cmap=\"bone\")\n",
    "    plt.imshow(prediction_mask0[0,:,:,sliceNo,0], alpha=0.5, cmap=\"Reds\")\n",
    "    plt.title(\"Overlay\")\n",
    "    \n",
    "    \n",
    "    \n",
    "    plt.figure(figsize=(15,15))\n",
    "    plt.subplot(1,3,1)\n",
    "    plt.imshow(img0[sliceNo,:,:,0], cmap=\"bone\")\n",
    "    plt.title(\"Image\")\n",
    "\n",
    "    plt.subplot(1,3,2)\n",
    "    plt.imshow(prediction_mask0[0,sliceNo,:,:,0], cmap=\"bone\")\n",
    "    plt.title(\"Tumor Prediction\")\n",
    "\n",
    "    plt.subplot(1,3,3)\n",
    "    plt.imshow(img0[sliceNo,:,:,0], cmap=\"bone\")\n",
    "    plt.imshow(prediction_mask0[0,sliceNo,:,:,0], alpha=0.5, cmap=\"Reds\")\n",
    "    plt.title(\"Overlay\")\n",
    "    \n",
    "    \n",
    "    \n",
    "interact(displaySlice, sliceNo=(1,img0.shape[2],1)); \n",
    "\n",
    "print(hdf[\"uuid\"][0])"
   ]
  },
  {
   "cell_type": "code",
   "execution_count": 11,
   "metadata": {
    "collapsed": true
   },
   "outputs": [],
   "source": [
    "#hdf.close()"
   ]
  },
  {
   "cell_type": "code",
   "execution_count": 12,
   "metadata": {},
   "outputs": [
    {
     "data": {
      "text/plain": [
       "(64, 64, 64, 1)"
      ]
     },
     "execution_count": 12,
     "metadata": {},
     "output_type": "execute_result"
    }
   ],
   "source": [
    "img1.shape"
   ]
  },
  {
   "cell_type": "code",
   "execution_count": 13,
   "metadata": {},
   "outputs": [
    {
     "data": {
      "text/plain": [
       "(64, 64, 64, 1)"
      ]
     },
     "execution_count": 13,
     "metadata": {},
     "output_type": "execute_result"
    }
   ],
   "source": [
    "img0.shape"
   ]
  },
  {
   "cell_type": "code",
   "execution_count": 14,
   "metadata": {},
   "outputs": [
    {
     "data": {
      "text/plain": [
       "(1, 64, 64, 64, 1)"
      ]
     },
     "execution_count": 14,
     "metadata": {},
     "output_type": "execute_result"
    }
   ],
   "source": [
    "prediction_mask0.shape"
   ]
  },
  {
   "cell_type": "code",
   "execution_count": 15,
   "metadata": {},
   "outputs": [
    {
     "data": {
      "text/plain": [
       "(1, 64, 64, 64, 1)"
      ]
     },
     "execution_count": 15,
     "metadata": {},
     "output_type": "execute_result"
    }
   ],
   "source": [
    "prediction_mask1.shape"
   ]
  },
  {
   "cell_type": "raw",
   "metadata": {
    "collapsed": true
   },
   "source": []
  },
  {
   "cell_type": "code",
   "execution_count": null,
   "metadata": {
    "collapsed": true
   },
   "outputs": [],
   "source": []
  }
 ],
 "metadata": {
  "kernelspec": {
   "display_name": "Python 3",
   "language": "python",
   "name": "python3"
  },
  "language_info": {
   "codemirror_mode": {
    "name": "ipython",
    "version": 3
   },
   "file_extension": ".py",
   "mimetype": "text/x-python",
   "name": "python",
   "nbconvert_exporter": "python",
   "pygments_lexer": "ipython3",
   "version": "3.6.3"
  }
 },
 "nbformat": 4,
 "nbformat_minor": 2
}
