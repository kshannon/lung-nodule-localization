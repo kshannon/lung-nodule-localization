{
 "cells": [
  {
   "cell_type": "markdown",
   "metadata": {},
   "source": [
    "# 3D U-Net Model for Predicting Nodules from Lung CT"
   ]
  },
  {
   "cell_type": "code",
   "execution_count": 1,
   "metadata": {},
   "outputs": [
    {
     "name": "stderr",
     "output_type": "stream",
     "text": [
      "/home/bduser/anaconda2/envs/tf18_mkl/lib/python2.7/site-packages/h5py/__init__.py:36: FutureWarning: Conversion of the second argument of issubdtype from `float` to `np.floating` is deprecated. In future, it will be treated as `np.float64 == np.dtype(float).type`.\n",
      "  from ._conv import register_converters as _register_converters\n",
      "Using TensorFlow backend.\n"
     ]
    }
   ],
   "source": [
    "import numpy as np\n",
    "import keras\n",
    "import h5py\n",
    "\n",
    "from matplotlib import pyplot as plt\n",
    "%matplotlib inline"
   ]
  },
  {
   "cell_type": "markdown",
   "metadata": {},
   "source": [
    "## Load the trained Keras model."
   ]
  },
  {
   "cell_type": "code",
   "execution_count": null,
   "metadata": {},
   "outputs": [],
   "source": [
    "filename = \"final_unet3d_model.hdf5\"\n",
    "model = keras.models.load_model(filename)"
   ]
  },
  {
   "cell_type": "markdown",
   "metadata": {},
   "source": [
    "# Load the CT Scans\n",
    "This is from the hdf5 file of extracted patches. The scan is 256 mm x 256 mm x 128 mm. It takes roughly 35 GB of RAM in order to make a prediction on the entire volume at once."
   ]
  },
  {
   "cell_type": "code",
   "execution_count": null,
   "metadata": {},
   "outputs": [],
   "source": [
    "ct_scan = h5py.File(\"data/256x256x128-patch-withdiam.hdf5\", \"r\")"
   ]
  },
  {
   "cell_type": "code",
   "execution_count": null,
   "metadata": {},
   "outputs": [],
   "source": [
    "list(ct_scan.keys())"
   ]
  },
  {
   "cell_type": "code",
   "execution_count": null,
   "metadata": {},
   "outputs": [],
   "source": [
    "class1idx = []\n",
    "class0idx = []\n",
    "for idx in range(390):\n",
    "    if ct_scan[\"output\"][idx] == [1]:\n",
    "        class1idx.append(idx)\n",
    "    else:\n",
    "        class0idx.append(idx)"
   ]
  },
  {
   "cell_type": "code",
   "execution_count": null,
   "metadata": {},
   "outputs": [],
   "source": [
    "class1idx"
   ]
  },
  {
   "cell_type": "code",
   "execution_count": null,
   "metadata": {},
   "outputs": [],
   "source": [
    "def save_imgs(img, prediction_mask, classidx, classtype):\n",
    "    \n",
    "    origin = \"lower\"\n",
    "    \n",
    "    for sliceNo in range(max(img.shape)):\n",
    "\n",
    "\n",
    "        plt.figure(figsize=(15,15))\n",
    "\n",
    "\n",
    "        plt.subplot(2,3,1)\n",
    "        plt.imshow(img[sliceNo,:,:,0], cmap=\"bone\", origin=origin)\n",
    "        plt.title(\"Original Image\", fontsize=18)\n",
    "        plt.text(-40,32,\"Transverse\\n    plane\", fontsize=32, color=\"blue\", fontname=\"FreeSans\")\n",
    "\n",
    "        plt.subplot(2,3,2)\n",
    "        plt.imshow(prediction_mask[0,sliceNo,:,:,0], cmap=\"bone\", origin=origin)\n",
    "        plt.title(\"Tumor Prediction\", fontsize=18, fontname=\"FreeSans\")\n",
    "\n",
    "        plt.subplot(2,3,3)\n",
    "        plt.imshow(img[sliceNo,:,:,0], cmap=\"bone\", origin=origin)\n",
    "        plt.imshow(prediction_mask[0,sliceNo,:,:,0], alpha=0.5, cmap=\"Reds\", origin=origin)\n",
    "        #plt.colorbar()\n",
    "        plt.title(\"Overlay\", fontsize=18, fontname=\"FreeSans\")\n",
    "\n",
    "        plt.subplot(2,3,4)\n",
    "        plt.imshow(img[:,sliceNo,:,0], cmap=\"bone\", origin=origin)\n",
    "        plt.title(\"Original Image\", fontsize=18)\n",
    "        plt.text(-37,32,\"Sagittal\\n  plane\", fontsize=32, color=\"blue\", fontname=\"FreeSans\")\n",
    "        plt.xlabel(\"mm\", fontsize=18, fontname=\"FreeSans\")\n",
    "\n",
    "        plt.subplot(2,3,5)\n",
    "        plt.imshow(prediction_mask[0,:,sliceNo,:,0], cmap=\"bone\", origin=origin)\n",
    "        plt.title(\"Tumor Prediction\", fontsize=18, fontname=\"FreeSans\")\n",
    "        plt.xlabel(\"mm\", fontsize=18, fontname=\"FreeSans\")\n",
    "\n",
    "        plt.subplot(2,3,6)\n",
    "        plt.imshow(img[:,sliceNo,:,0], cmap=\"bone\", interpolation=\"none\", origin=origin)\n",
    "        plt.xlabel(\"mm\", fontsize=18, fontname=\"FreeSans\")\n",
    "\n",
    "        plt.imshow(prediction_mask[0,:,sliceNo,:,0], alpha=0.5, cmap=\"Reds\", origin=origin)\n",
    "        #plt.colorbar()\n",
    "        plt.title(\"Overlay\", fontsize=18, fontname=\"FreeSans\")\n",
    "\n",
    "        plt.tight_layout()\n",
    "\n",
    "        import os\n",
    "        directory = \"saved_imgs/class{}/candidate{}/\".format(classtype,classidx)\n",
    "        if not os.path.exists(directory):\n",
    "            os.makedirs(directory)\n",
    "        plt.savefig(\"{}slice{}\".format(directory, sliceNo), dpi=600, bbox_inches=\"tight\")\n",
    "\n",
    "        plt.close()\n"
   ]
  },
  {
   "cell_type": "markdown",
   "metadata": {},
   "source": [
    "## It takes roughly 35 GB and 20 seconds to make a prediction on this volume.\n",
    "\n",
    "The predictions have been saved to the file fullscan_prediction.npz. If you don't have enough memory to make the prediction then skip the next cell and do the np.load instead."
   ]
  },
  {
   "cell_type": "code",
   "execution_count": null,
   "metadata": {},
   "outputs": [],
   "source": [
    "%%time\n",
    "\n",
    "img = ct_scan[\"input\"][130,:].reshape(128,256,256,1)  \n",
    "\n",
    "# centerX = 64\n",
    "# centerY = 64\n",
    "# centerZ = 64\n",
    "# extentX = 96//2\n",
    "# extentY = 96//2\n",
    "# extentZ = 96//2\n",
    "centerX = 64\n",
    "centerY = 128\n",
    "centerZ = 128\n",
    "extentX = 128//2\n",
    "extentY = 256//2\n",
    "extentZ = 256//2\n",
    "img = img[(centerX-extentX):(centerX+extentX),(centerY-extentY):(centerY+extentY),(centerZ-extentZ):(centerZ+extentZ)]\n",
    "\n",
    "predict_array = model.predict(np.expand_dims(img,0), verbose=2)\n",
    "\n",
    "prediction_mask = np.round(predict_array[0])\n",
    "feature_maps = np.round(predict_array[1])"
   ]
  },
  {
   "cell_type": "code",
   "execution_count": null,
   "metadata": {},
   "outputs": [],
   "source": [
    "\n",
    "#feature_maps, prediction_mask, imgs = np.load(\"fullscan_predict.npz\")\n",
    "#np.savez(\"fullscan_predict.npz\", img=img, prediction_mask=prediction_mask, feature_maps=feature_maps)"
   ]
  },
  {
   "cell_type": "code",
   "execution_count": null,
   "metadata": {},
   "outputs": [],
   "source": [
    "def plotpatch(sliceNo):\n",
    "    \n",
    "    m=4 #3,4\n",
    "    origin = \"bottom\"\n",
    "\n",
    "    plt.figure(figsize=(15,15))\n",
    "\n",
    "    plt.subplot(3,3,1)\n",
    "    plt.imshow(img[sliceNo,:,:,0], cmap=\"bone\", origin=origin)\n",
    "    plt.title(\"Original Image\", fontsize=18)\n",
    "    \n",
    "    plt.subplot(3,3,2)\n",
    "    plt.imshow(prediction_mask[0,sliceNo,:,:,0], cmap=\"bone\", origin=origin)\n",
    "    plt.title(\"Tumor Prediction\", fontsize=18, fontname=\"FreeSans\")\n",
    "\n",
    "    plt.subplot(3,3,3)\n",
    "    plt.imshow(img[sliceNo,:,:,0], cmap=\"bone\", origin=origin)\n",
    "    plt.imshow(feature_maps[0,sliceNo,:,:,m], alpha=0.5, cmap=\"Reds\", origin=origin)\n",
    "    plt.title(\"Feature Map #{}\".format(m), fontsize=18, fontname=\"FreeSans\")\n",
    "\n",
    "    plt.subplot(3,3,4)\n",
    "    plt.imshow(img[:,sliceNo,:,0], cmap=\"bone\", origin=origin)\n",
    "    plt.title(\"Original Image\", fontsize=18)\n",
    "    plt.xlabel(\"mm\", fontsize=18, fontname=\"FreeSans\")\n",
    "\n",
    "    plt.subplot(3,3,5)\n",
    "    plt.imshow(prediction_mask[0,:,sliceNo,:,0], cmap=\"bone\", origin=origin)\n",
    "    plt.title(\"Tumor Prediction\", fontsize=18, fontname=\"FreeSans\")\n",
    "    plt.xlabel(\"mm\", fontsize=18, fontname=\"FreeSans\")\n",
    "\n",
    "    plt.subplot(3,3,6)\n",
    "    plt.imshow(img[:,sliceNo,:,0], cmap=\"bone\", interpolation=\"none\", origin=origin)\n",
    "    plt.xlabel(\"mm\", fontsize=18, fontname=\"FreeSans\")\n",
    "\n",
    "    plt.imshow(feature_maps[0,:,sliceNo,:,m], alpha=0.5, cmap=\"Reds\", origin=origin)\n",
    "    plt.title(\"Feature map #{}\".format(m), fontsize=18, fontname=\"FreeSans\")\n",
    "    \n",
    "    plt.subplot(3,3,7)\n",
    "    plt.imshow(img[:,:,sliceNo,0], cmap=\"bone\", origin=origin)\n",
    "    plt.title(\"Original Image\", fontsize=18)\n",
    "    plt.xlabel(\"mm\", fontsize=18, fontname=\"FreeSans\")\n",
    "\n",
    "    plt.subplot(3,3,8)\n",
    "    plt.imshow(prediction_mask[0,:,:,sliceNo,0], cmap=\"bone\", origin=origin)\n",
    "    plt.title(\"Tumor Prediction\", fontsize=18, fontname=\"FreeSans\")\n",
    "    plt.xlabel(\"mm\", fontsize=18, fontname=\"FreeSans\")\n",
    "\n",
    "    plt.subplot(3,3,9)\n",
    "    plt.imshow(img[:,:,sliceNo,0], cmap=\"bone\", interpolation=\"none\", origin=origin)\n",
    "    plt.xlabel(\"mm\", fontsize=18, fontname=\"FreeSans\")\n",
    "\n",
    "    plt.imshow(feature_maps[0,:,:,sliceNo,m], alpha=0.5, cmap=\"Reds\", origin=origin)\n",
    "    plt.title(\"Feature map #{}\".format(m), fontsize=18, fontname=\"FreeSans\")\n",
    "\n",
    "    plt.tight_layout()\n",
    "  "
   ]
  },
  {
   "cell_type": "code",
   "execution_count": null,
   "metadata": {
    "scrolled": false
   },
   "outputs": [],
   "source": [
    "plotpatch(64)        # 48, 64, 73"
   ]
  },
  {
   "cell_type": "code",
   "execution_count": null,
   "metadata": {},
   "outputs": [],
   "source": []
  }
 ],
 "metadata": {
  "kernelspec": {
   "display_name": "Python [conda env:tf18_mkl]",
   "language": "python",
   "name": "conda-env-tf18_mkl-py"
  },
  "language_info": {
   "codemirror_mode": {
    "name": "ipython",
    "version": 2
   },
   "file_extension": ".py",
   "mimetype": "text/x-python",
   "name": "python",
   "nbconvert_exporter": "python",
   "pygments_lexer": "ipython2",
   "version": "2.7.14"
  }
 },
 "nbformat": 4,
 "nbformat_minor": 2
}
