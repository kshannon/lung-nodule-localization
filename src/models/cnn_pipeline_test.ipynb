{
 "cells": [
  {
   "cell_type": "code",
   "execution_count": 2,
   "metadata": {},
   "outputs": [],
   "source": [
    "from __future__ import print_function\n",
    "import SimpleITK as sitk\n",
    "import numpy as np\n",
    "import csv\n",
    "import pandas as pd\n",
    "from ipywidgets import interact\n",
    "import matplotlib.pyplot as plt\n",
    "#from PIL import Image\n",
    "import os\n",
    "\n",
    "from configparser import ConfigParser\n",
    "import h5py\n",
    "\n",
    "from matplotlib.patches import Circle\n",
    "from matplotlib.pylab import subplots\n",
    "import matplotlib.patches as patches \n",
    "from scipy.misc import imsave\n",
    "\n",
    "%matplotlib inline"
   ]
  },
  {
   "cell_type": "code",
   "execution_count": 45,
   "metadata": {
    "scrolled": true
   },
   "outputs": [
    {
     "name": "stdout",
     "output_type": "stream",
     "text": [
      "60\n"
     ]
    }
   ],
   "source": [
    "parser = ConfigParser()\n",
    "parser.read('config.ini')\n",
    "#print (parser.get('local', 'dim') )"
   ]
  },
  {
   "cell_type": "code",
   "execution_count": 51,
   "metadata": {},
   "outputs": [],
   "source": [
    "# for name, value in parser.items('local'):\n",
    "#     print ('  %s = %s' % (name, value) )"
   ]
  },
  {
   "cell_type": "code",
   "execution_count": 52,
   "metadata": {
    "collapsed": true
   },
   "outputs": [],
   "source": [
    "#### ---- Global Vars ---- ####\n",
    "PATCH_DIM = parser.get('local', 'dim')\n",
    "DATA_DIR = parser.get('local', 'data')\n",
    "SUBSET = parser.get('local', 'subset')\n",
    "CSV_PATH = parser.get('local', 'csv')\n",
    "SAVE_IMG = parser.get('local', 'img')\n",
    "TENSOR = parser.get('local', 'tensor')\n",
    "TENSOR_DIM = parser.get('local', 'slices')"
   ]
  },
  {
   "cell_type": "code",
   "execution_count": 53,
   "metadata": {
    "collapsed": true
   },
   "outputs": [],
   "source": [
    "img_filename = '1.3.6.1.4.1.14519.5.2.1.6279.6001.112767175295249119452142211437.mhd'\n",
    "itk_img = sitk.ReadImage(img_filename) # Dimensions are ordered as X, Y, Z (height, width, depth)"
   ]
  },
  {
   "cell_type": "code",
   "execution_count": 54,
   "metadata": {},
   "outputs": [
    {
     "name": "stdout",
     "output_type": "stream",
     "text": [
      "The pixel dimensions are (0.78125, 0.78125, 2.5) mm\n",
      "There are 117 slices in the CT volume.\n",
      "So the depth is 292.5 mm (i.e. total slice * 2.5)\n",
      "That should be about the distance from the neck to the navel.\n",
      "Slice  #1 is closer to the feet. Slice #117 is closer to the head\n"
     ]
    }
   ],
   "source": [
    "print('The pixel dimensions are {} mm'.format(itk_img.GetSpacing()))\n",
    "print('There are {} slices in the CT volume.'.format(itk_img.GetDepth()))\n",
    "print('So the depth is {} mm (i.e. total slice * 2.5)'.format(itk_img.GetDepth()*itk_img.GetSpacing()[2]))\n",
    "print('That should be about the distance from the neck to the navel.')\n",
    "print('Slice  #1 is closer to the feet. Slice #{} is closer to the head'.format(itk_img.GetDepth()))"
   ]
  },
  {
   "cell_type": "code",
   "execution_count": 55,
   "metadata": {},
   "outputs": [
    {
     "data": {
      "text/plain": [
       "(117, 512, 512)"
      ]
     },
     "execution_count": 55,
     "metadata": {},
     "output_type": "execute_result"
    }
   ],
   "source": [
    "# SimpleITK keeps the origin and spacing information for the 3D image volume\n",
    "img_np_array = sitk.GetArrayFromImage(itk_img) # indices are z,y,x (note the ordering of dimensions)\n",
    "img_np_array.shape"
   ]
  },
  {
   "cell_type": "markdown",
   "metadata": {},
   "source": [
    "### Normalizing the image to sets the Voxel size to 1x1x1 mm (as the spacing in Inferrior, Superior, Traverse i.e. x,y,z is of different size)"
   ]
  },
  {
   "cell_type": "code",
   "execution_count": 56,
   "metadata": {
    "collapsed": true
   },
   "outputs": [],
   "source": [
    "pixel_spacing = [1.0, 1.0, 1.0] # New Voxel spacing in mm (feel free to change this)\n",
    "\n",
    "def normalize_img(img):\n",
    "    \n",
    "    new_x_size = img.GetSpacing()[0]*img.GetWidth()  # Number of Voxels you want for x dimension\n",
    "    new_y_size = img.GetSpacing()[1]*img.GetHeight() # Number of Voxels you want for y dimension\n",
    "    new_z_size = img.GetSpacing()[2]*img.GetDepth()  # Number of Voxels you want for z dimesion\n",
    "    new_size = [new_x_size, new_y_size, new_z_size]\n",
    "\n",
    "    new_spacing = pixel_spacing  # mm per voxel (x,y,z) (h, w, d)\n",
    "    \n",
    "    new_size = np.rint(np.array(new_size) / np.array(new_spacing)).astype(np.uint32).tolist()\n",
    "\n",
    "    interpolator_type = sitk.sitkBSpline  #interpolator_type = sitk.sitkLinear\n",
    "    img_norm = sitk.Resample(img, new_size, sitk.Transform(), interpolator_type, img.GetOrigin(),\\\n",
    "                             new_spacing, img.GetDirection(), 0.0, img.GetPixelIDValue())   \n",
    "    \n",
    "    # correcting origin to the new scaling factor\n",
    "    img_norm.SetOrigin(np.array(img.GetOrigin()) / np.array(new_spacing))\n",
    "\n",
    "    return img_norm\n",
    "itk_img_norm = normalize_img(itk_img)"
   ]
  },
  {
   "cell_type": "markdown",
   "metadata": {},
   "source": [
    "#### Converting Normalized Image to numpy 3D array. The values are in HU descrbing the radiodensity "
   ]
  },
  {
   "cell_type": "code",
   "execution_count": 57,
   "metadata": {
    "collapsed": true
   },
   "outputs": [],
   "source": [
    "img_np_array_norm = sitk.GetArrayFromImage(itk_img_norm)"
   ]
  },
  {
   "cell_type": "code",
   "execution_count": 58,
   "metadata": {},
   "outputs": [
    {
     "name": "stdout",
     "output_type": "stream",
     "text": [
      "After resizing the voxels to 1x1x1 mm each the matrix dimensions are now: (292, 400, 400)\n",
      "But the depth is still 292.0 mm\n",
      "That should be about the distance from the neck to the navel.\n"
     ]
    }
   ],
   "source": [
    "print('After resizing the voxels to 1x1x1 mm each the matrix dimensions are now: {}'.format(img_np_array_norm.shape))\n",
    "print('But the depth is still {} mm'.format(itk_img_norm.GetDepth()*itk_img_norm.GetSpacing()[2]))\n",
    "print('That should be about the distance from the neck to the navel.')"
   ]
  },
  {
   "cell_type": "code",
   "execution_count": null,
   "metadata": {
    "collapsed": true
   },
   "outputs": [],
   "source": []
  },
  {
   "cell_type": "markdown",
   "metadata": {},
   "source": [
    "#### Reading the annotation file for marked nodules (Region of Interest, ROI) in x,y, z coordinates storing it in a list. Note the coordinates are given in world coordinates (which will changed to Voxel coordinates later, as we have normalized the images)."
   ]
  },
  {
   "cell_type": "code",
   "execution_count": 59,
   "metadata": {},
   "outputs": [
    {
     "name": "stdout",
     "output_type": "stream",
     "text": [
      "Total number of marked nodule coordinates are 8 \n"
     ]
    },
    {
     "data": {
      "text/html": [
       "<div>\n",
       "<style scoped>\n",
       "    .dataframe tbody tr th:only-of-type {\n",
       "        vertical-align: middle;\n",
       "    }\n",
       "\n",
       "    .dataframe tbody tr th {\n",
       "        vertical-align: top;\n",
       "    }\n",
       "\n",
       "    .dataframe thead th {\n",
       "        text-align: right;\n",
       "    }\n",
       "</style>\n",
       "<table border=\"1\" class=\"dataframe\">\n",
       "  <thead>\n",
       "    <tr style=\"text-align: right;\">\n",
       "      <th></th>\n",
       "      <th>0</th>\n",
       "      <th>1</th>\n",
       "      <th>2</th>\n",
       "      <th>3</th>\n",
       "      <th>4</th>\n",
       "    </tr>\n",
       "  </thead>\n",
       "  <tbody>\n",
       "    <tr>\n",
       "      <th>0</th>\n",
       "      <td>seriesuid</td>\n",
       "      <td>coordX</td>\n",
       "      <td>coordY</td>\n",
       "      <td>coordZ</td>\n",
       "      <td>diameter_mm</td>\n",
       "    </tr>\n",
       "    <tr>\n",
       "      <th>1</th>\n",
       "      <td>1.3.6.1.4.1.14519.5.2.1.6279.6001.112767175295...</td>\n",
       "      <td>-65.87013627</td>\n",
       "      <td>50.73044009</td>\n",
       "      <td>-90.80330387</td>\n",
       "      <td>5.915845183</td>\n",
       "    </tr>\n",
       "    <tr>\n",
       "      <th>2</th>\n",
       "      <td>1.3.6.1.4.1.14519.5.2.1.6279.6001.112767175295...</td>\n",
       "      <td>-105.9171192</td>\n",
       "      <td>-17.6565882</td>\n",
       "      <td>-105.0917524</td>\n",
       "      <td>5.48467872</td>\n",
       "    </tr>\n",
       "    <tr>\n",
       "      <th>3</th>\n",
       "      <td>1.3.6.1.4.1.14519.5.2.1.6279.6001.112767175295...</td>\n",
       "      <td>42.29613347</td>\n",
       "      <td>56.15173475</td>\n",
       "      <td>-84.66166226</td>\n",
       "      <td>6.47796611</td>\n",
       "    </tr>\n",
       "    <tr>\n",
       "      <th>4</th>\n",
       "      <td>1.3.6.1.4.1.14519.5.2.1.6279.6001.112767175295...</td>\n",
       "      <td>-137.5005674</td>\n",
       "      <td>-21.65360391</td>\n",
       "      <td>-152.0366379</td>\n",
       "      <td>4.362886498</td>\n",
       "    </tr>\n",
       "    <tr>\n",
       "      <th>5</th>\n",
       "      <td>1.3.6.1.4.1.14519.5.2.1.6279.6001.112767175295...</td>\n",
       "      <td>-26.86268253</td>\n",
       "      <td>38.52993743</td>\n",
       "      <td>-167.5018886</td>\n",
       "      <td>5.885443068</td>\n",
       "    </tr>\n",
       "    <tr>\n",
       "      <th>6</th>\n",
       "      <td>1.3.6.1.4.1.14519.5.2.1.6279.6001.112767175295...</td>\n",
       "      <td>71.39121262</td>\n",
       "      <td>10.55131442</td>\n",
       "      <td>-85.27847902</td>\n",
       "      <td>5.734744196</td>\n",
       "    </tr>\n",
       "    <tr>\n",
       "      <th>7</th>\n",
       "      <td>1.3.6.1.4.1.14519.5.2.1.6279.6001.112767175295...</td>\n",
       "      <td>59.89735907</td>\n",
       "      <td>41.71051844</td>\n",
       "      <td>-96.24057315</td>\n",
       "      <td>4.3556589</td>\n",
       "    </tr>\n",
       "    <tr>\n",
       "      <th>8</th>\n",
       "      <td>1.3.6.1.4.1.14519.5.2.1.6279.6001.112767175295...</td>\n",
       "      <td>99.37468119</td>\n",
       "      <td>23.94678445</td>\n",
       "      <td>-138.5658318</td>\n",
       "      <td>9.104624209</td>\n",
       "    </tr>\n",
       "  </tbody>\n",
       "</table>\n",
       "</div>"
      ],
      "text/plain": [
       "                                                   0             1  \\\n",
       "0                                          seriesuid        coordX   \n",
       "1  1.3.6.1.4.1.14519.5.2.1.6279.6001.112767175295...  -65.87013627   \n",
       "2  1.3.6.1.4.1.14519.5.2.1.6279.6001.112767175295...  -105.9171192   \n",
       "3  1.3.6.1.4.1.14519.5.2.1.6279.6001.112767175295...   42.29613347   \n",
       "4  1.3.6.1.4.1.14519.5.2.1.6279.6001.112767175295...  -137.5005674   \n",
       "5  1.3.6.1.4.1.14519.5.2.1.6279.6001.112767175295...  -26.86268253   \n",
       "6  1.3.6.1.4.1.14519.5.2.1.6279.6001.112767175295...   71.39121262   \n",
       "7  1.3.6.1.4.1.14519.5.2.1.6279.6001.112767175295...   59.89735907   \n",
       "8  1.3.6.1.4.1.14519.5.2.1.6279.6001.112767175295...   99.37468119   \n",
       "\n",
       "              2             3            4  \n",
       "0        coordY        coordZ  diameter_mm  \n",
       "1   50.73044009  -90.80330387  5.915845183  \n",
       "2   -17.6565882  -105.0917524   5.48467872  \n",
       "3   56.15173475  -84.66166226   6.47796611  \n",
       "4  -21.65360391  -152.0366379  4.362886498  \n",
       "5   38.52993743  -167.5018886  5.885443068  \n",
       "6   10.55131442  -85.27847902  5.734744196  \n",
       "7   41.71051844  -96.24057315    4.3556589  \n",
       "8   23.94678445  -138.5658318  9.104624209  "
      ]
     },
     "execution_count": 59,
     "metadata": {},
     "output_type": "execute_result"
    }
   ],
   "source": [
    "def readCSV(filename):\n",
    "    lines = []\n",
    "    with open(filename, \"r\") as f:\n",
    "        csvreader = csv.reader(f)\n",
    "        for line in csvreader:\n",
    "            lines.append(line)\n",
    "    return lines\n",
    "annotations_file = \"annotations.csv\"\n",
    "cands = readCSV(annotations_file)\n",
    "cands_df = pd.DataFrame(cands)\n",
    "print ('Total number of marked nodule coordinates are {} '.format(len(cands) - 1) )\n",
    "cands_df"
   ]
  },
  {
   "cell_type": "markdown",
   "metadata": {
    "collapsed": true
   },
   "source": [
    "##### Extracting the Origin and Pixel spacing from the original image"
   ]
  },
  {
   "cell_type": "code",
   "execution_count": 60,
   "metadata": {},
   "outputs": [
    {
     "name": "stdout",
     "output_type": "stream",
     "text": [
      "Image Origin in Z, Y, X order :  [-311.25 -200.   -207.5 ]\n",
      "Image Spacing in Z, Y, X order :  [ 2.5      0.78125  0.78125]\n",
      "\n",
      "Image Normalized Spacing in Z, Y, X order :  [ 1.  1.  1.]\n"
     ]
    }
   ],
   "source": [
    "numpyOrigin = np.array(list(reversed(itk_img.GetOrigin())))\n",
    "numpySpacing = np.array(list(reversed(itk_img.GetSpacing())))\n",
    "\n",
    "print (\"Image Origin in Z, Y, X order : \", numpyOrigin)\n",
    "print (\"Image Spacing in Z, Y, X order : \", numpySpacing)\n",
    "\n",
    "numpySpacing_Normalized = np.array([1.0, 1.0, 1.0])\n",
    "print (\"\\nImage Normalized Spacing in Z, Y, X order : \", numpySpacing_Normalized)"
   ]
  },
  {
   "cell_type": "markdown",
   "metadata": {},
   "source": [
    "### Procedure for changing the world coordinates to Voxel coordinates\n",
    "Since the coordinates of nodules are given in World Coordinates, we transform from world coordinates to voxel coordinates. \n",
    "As their is no rotation component in LUNA16 data set so we can use the following simple formula for conversion. \n"
   ]
  },
  {
   "cell_type": "code",
   "execution_count": 61,
   "metadata": {
    "collapsed": true
   },
   "outputs": [],
   "source": [
    "def worldToVoxelCoord(worldCoord, origin, spacing):\n",
    "    stretchedVoxelCoord = np.absolute(worldCoord - origin)\n",
    "    voxelCoord = np.array(stretchedVoxelCoord / spacing).astype(int)\n",
    "    return voxelCoord"
   ]
  },
  {
   "cell_type": "markdown",
   "metadata": {},
   "source": [
    "### Reading the annotation list, converting each element from World to Voxel coordinate, which represents the core/center of a nodule. Then showing only the slices having nodules."
   ]
  },
  {
   "cell_type": "code",
   "execution_count": 62,
   "metadata": {
    "collapsed": true,
    "scrolled": false
   },
   "outputs": [],
   "source": [
    "# nodule_slices_lst = []\n",
    "# for cand in cands[1:]:\n",
    "#     worldCoord = np.asarray([float(cand[3]),float(cand[2]),float(cand[1])])\n",
    "#     voxelCoord = worldToVoxelCoord(worldCoord, numpyOrigin, numpySpacing_Normalized)\n",
    "#     nodule_slices_lst.append(voxelCoord[0])\n",
    "\n",
    "#     fig,ax = plt.subplots(figsize=(10,10))\n",
    "#     print ('Voxel coord in Z, Y, X (with normalized spacing): {}'.format(voxelCoord));\n",
    "# #    print ('Value at Voxel coord is : {}'.format(img_np_array_norm[voxelCoord[0],voxelCoord[1], voxelCoord[2]] ));\n",
    "\n",
    "#     plt.imshow(img_np_array_norm[voxelCoord[0],:,:], cmap='bone');    \n",
    "\n",
    "#     circ = Circle((voxelCoord[2],voxelCoord[1]),15, lw=3.,fill=False, edgecolor='r') \n",
    "#     ax.add_patch(circ)\n",
    "\n",
    "#     plt.title('Slice #{}'.format(voxelCoord[0]));\n",
    "#     plt.show() \n",
    "    \n",
    "# print ('Total number of Nodules are {}'.format(len (nodule_slices_lst) ));    \n",
    "# print ('Nodules found on Slice numbers {}'.format(sorted (nodule_slices_lst) ));"
   ]
  },
  {
   "cell_type": "markdown",
   "metadata": {
    "collapsed": true
   },
   "source": [
    "### Segment/patch around the nodule (Voxel coordinates)\n",
    "This will be used for Deep learning analysis in a separate CNN hidden layers. It also ensures that the nodules are invariant of the location in lung (for our Fractal Geometry analysis and feature extractions).\n",
    "\n",
    "Currently the patch size is 60x60 mm, we can upgrade to make the patch size as user driven\n",
    "    - Extract patch for each nodule from the annotation list\n",
    "    - Visualize each patch and saving the patch in separate file"
   ]
  },
  {
   "cell_type": "code",
   "execution_count": null,
   "metadata": {
    "collapsed": true
   },
   "outputs": [],
   "source": [
    "HDF5 = h5py.File('Test_1.hdf5')\n",
    "#dset = f.create_dataset('mydataset', data=numpy.ones((2,2),\"=i4\"))\n",
    "#new_dset_value=numpy.zeros((3,3),\"=i4\")"
   ]
  },
  {
   "cell_type": "code",
   "execution_count": null,
   "metadata": {
    "collapsed": true
   },
   "outputs": [],
   "source": [
    "dset = HDF5.create_dataset('patch_dataset', (2,2), maxshape=(None,3))"
   ]
  },
  {
   "cell_type": "code",
   "execution_count": null,
   "metadata": {
    "collapsed": true
   },
   "outputs": [],
   "source": []
  },
  {
   "cell_type": "code",
   "execution_count": 104,
   "metadata": {},
   "outputs": [],
   "source": [
    "def save_patch(seriesId, seq, worldCoord, patch):\n",
    "    worldCoord = np.absolute((np.round(worldCoord)))\n",
    "    print ('SeriesId {} , Seq : {}, XYZ coordinates {}, Patch Dimension {}'\\\n",
    "           .format(seriesId, seq, worldCoord, patch.shape ))"
   ]
  },
  {
   "cell_type": "code",
   "execution_count": 105,
   "metadata": {
    "scrolled": false
   },
   "outputs": [
    {
     "name": "stdout",
     "output_type": "stream",
     "text": [
      "SeriesId 1.3.6.1.4.1.14519.5.2.1.6279.6001.112767175295249119452142211437.mhd , Seq : 1, XYZ coordinates [ 91.  51.  66.], Patch Dimension (60, 60, 60)\n",
      "\n",
      "Nodule center scoordinate is :  [220 250 141]\n",
      "Voxel value at nodule center is :  -85 \n",
      "\n",
      "SeriesId 1.3.6.1.4.1.14519.5.2.1.6279.6001.112767175295249119452142211437.mhd , Seq : 2, XYZ coordinates [ 105.   18.  106.], Patch Dimension (60, 60, 60)\n",
      "\n",
      "Nodule center scoordinate is :  [206 182 101]\n",
      "Voxel value at nodule center is :  -39 \n",
      "\n",
      "SeriesId 1.3.6.1.4.1.14519.5.2.1.6279.6001.112767175295249119452142211437.mhd , Seq : 3, XYZ coordinates [ 85.  56.  42.], Patch Dimension (60, 60, 60)\n",
      "\n",
      "Nodule center scoordinate is :  [226 256 249]\n",
      "Voxel value at nodule center is :  37 \n",
      "\n",
      "SeriesId 1.3.6.1.4.1.14519.5.2.1.6279.6001.112767175295249119452142211437.mhd , Seq : 4, XYZ coordinates [ 152.   22.  138.], Patch Dimension (60, 60, 60)\n",
      "\n",
      "Nodule center scoordinate is :  [159 178  69]\n",
      "Voxel value at nodule center is :  -307 \n",
      "\n",
      "SeriesId 1.3.6.1.4.1.14519.5.2.1.6279.6001.112767175295249119452142211437.mhd , Seq : 5, XYZ coordinates [ 168.   39.   27.], Patch Dimension (60, 60, 60)\n",
      "\n",
      "Nodule center scoordinate is :  [143 238 180]\n",
      "Voxel value at nodule center is :  0 \n",
      "\n",
      "SeriesId 1.3.6.1.4.1.14519.5.2.1.6279.6001.112767175295249119452142211437.mhd , Seq : 6, XYZ coordinates [ 85.  11.  71.], Patch Dimension (60, 60, 60)\n",
      "\n",
      "Nodule center scoordinate is :  [225 210 278]\n",
      "Voxel value at nodule center is :  -71 \n",
      "\n",
      "SeriesId 1.3.6.1.4.1.14519.5.2.1.6279.6001.112767175295249119452142211437.mhd , Seq : 7, XYZ coordinates [ 96.  42.  60.], Patch Dimension (60, 60, 60)\n",
      "\n",
      "Nodule center scoordinate is :  [215 241 267]\n",
      "Voxel value at nodule center is :  -124 \n",
      "\n",
      "SeriesId 1.3.6.1.4.1.14519.5.2.1.6279.6001.112767175295249119452142211437.mhd , Seq : 8, XYZ coordinates [ 139.   24.   99.], Patch Dimension (60, 60, 60)\n",
      "\n",
      "Nodule center scoordinate is :  [172 223 306]\n",
      "Voxel value at nodule center is :  -14 \n",
      "\n"
     ]
    }
   ],
   "source": [
    "patchCoord_lst = []\n",
    "seq = 0\n",
    "for cand in cands[1:]:\n",
    "#     fig,ax = plt.subplots(figsize=(8,8))\n",
    "    seq += 1\n",
    "    worldCoord = np.asarray([float(cand[3]),float(cand[2]),float(cand[1])])\n",
    "    voxelCoord = worldToVoxelCoord(worldCoord, numpyOrigin, numpySpacing_Normalized)\n",
    "    \n",
    "    patchWidth = 60 # as the maximum size of a Nodule can be upto 30 mm\n",
    "#     patch = img_np_array_norm[voxelCoord[0], \\\n",
    "    \n",
    "    patch = img_np_array_norm[voxelCoord[0] - 30 : voxelCoord[0] + 30, \\\n",
    "                       voxelCoord[1] - 30 : voxelCoord[1] + 30, \\\n",
    "                       voxelCoord[2] - 30 : voxelCoord[2] + 30]    \n",
    "#    patch = normalizePlanes(patch) ....:need to think on normalizing HU for each Patch \n",
    "    save_patch(img_filename, seq, worldCoord, patch)\n",
    "    patchCoord_lst.append((voxelCoord,patch))\n",
    "    \n",
    "    print ('\\nNodule center scoordinate is :  {}'.format(voxelCoord) );\n",
    "    print ('Voxel value at nodule center is :  {} \\n'.\\\n",
    "           format(img_np_array_norm[voxelCoord[0], voxelCoord[1],voxelCoord[2]]) );\n",
    "    \n",
    "#     plt.imshow(patch, cmap='bone')\n",
    "#     plt.show()    \n",
    "    \n",
    "#     outputDir = 'patches/'\n",
    "#     fig.savefig(os.path.join(outputDir, 'patch_' + str(voxelCoord[0]) + '_' + str(voxelCoord[1]) +\\\n",
    "#                              '_' + str(voxelCoord[2])) )\n"
   ]
  },
  {
   "cell_type": "code",
   "execution_count": 71,
   "metadata": {},
   "outputs": [],
   "source": [
    "#imsave(\"tstPatch.png\",patch)"
   ]
  },
  {
   "cell_type": "code",
   "execution_count": null,
   "metadata": {
    "collapsed": true
   },
   "outputs": [],
   "source": []
  },
  {
   "cell_type": "code",
   "execution_count": 39,
   "metadata": {
    "collapsed": true
   },
   "outputs": [],
   "source": [
    "p1 = patch.flatten()"
   ]
  },
  {
   "cell_type": "code",
   "execution_count": 3,
   "metadata": {
    "collapsed": true
   },
   "outputs": [],
   "source": [
    "f = h5py.File('myfile_1.hdf5')\n",
    "#dset = f.create_dataset('mydataset', data=numpy.ones((2,2),\"=i4\"))\n",
    "#new_dset_value=numpy.zeros((3,3),\"=i4\")"
   ]
  },
  {
   "cell_type": "code",
   "execution_count": 4,
   "metadata": {
    "collapsed": true
   },
   "outputs": [],
   "source": [
    "dset = f.create_dataset('mydataset', (2,2), maxshape=(None,3))"
   ]
  },
  {
   "cell_type": "code",
   "execution_count": 6,
   "metadata": {
    "collapsed": true
   },
   "outputs": [],
   "source": [
    "dset.resize((3,3))\n",
    "dset[:,:] = numpy.zeros((3,3),\"=i4\")"
   ]
  },
  {
   "cell_type": "code",
   "execution_count": 14,
   "metadata": {},
   "outputs": [
    {
     "data": {
      "text/plain": [
       "h5py._hl.dataset.Dataset"
      ]
     },
     "execution_count": 14,
     "metadata": {},
     "output_type": "execute_result"
    }
   ],
   "source": [
    "type(dset)"
   ]
  },
  {
   "cell_type": "code",
   "execution_count": 16,
   "metadata": {
    "collapsed": true
   },
   "outputs": [],
   "source": [
    "dset.resize((5,3))"
   ]
  },
  {
   "cell_type": "code",
   "execution_count": 17,
   "metadata": {},
   "outputs": [
    {
     "data": {
      "text/plain": [
       "<HDF5 dataset \"mydataset\": shape (5, 3), type \"<f4\">"
      ]
     },
     "execution_count": 17,
     "metadata": {},
     "output_type": "execute_result"
    }
   ],
   "source": [
    "dset"
   ]
  },
  {
   "cell_type": "code",
   "execution_count": null,
   "metadata": {
    "collapsed": true
   },
   "outputs": [],
   "source": [
    "#AL -Reference"
   ]
  },
  {
   "cell_type": "code",
   "execution_count": null,
   "metadata": {},
   "outputs": [],
   "source": []
  },
  {
   "cell_type": "code",
   "execution_count": 62,
   "metadata": {
    "scrolled": false
   },
   "outputs": [
    {
     "name": "stdout",
     "output_type": "stream",
     "text": [
      "[[[ 0.8258521   0.4916576 ]\n",
      "  [ 0.96592831  0.86182914]\n",
      "  [ 0.11719222  0.1864989 ]]\n",
      "\n",
      " [[ 0.28308992  0.91171064]\n",
      "  [ 0.6007023   0.61216908]\n",
      "  [ 0.4467723   0.90813744]]\n",
      "\n",
      " [[ 0.33569915  0.29754201]\n",
      "  [ 0.13368492  0.72305467]\n",
      "  [ 0.84094043  0.56057669]]]\n",
      "------\n",
      "[[ 0.8258521   0.4916576   0.96592831  0.86182914  0.11719222  0.1864989\n",
      "   0.28308992  0.91171064  0.6007023   0.61216908  0.4467723   0.90813744\n",
      "   0.33569915  0.29754201  0.13368492  0.72305467  0.84094043  0.56057669]]\n",
      "(1, 18)\n",
      "------\n",
      "[[[ 0.8258521   0.4916576 ]\n",
      "  [ 0.96592831  0.86182914]\n",
      "  [ 0.11719222  0.1864989 ]]\n",
      "\n",
      " [[ 0.28308992  0.91171064]\n",
      "  [ 0.6007023   0.61216908]\n",
      "  [ 0.4467723   0.90813744]]\n",
      "\n",
      " [[ 0.33569915  0.29754201]\n",
      "  [ 0.13368492  0.72305467]\n",
      "  [ 0.84094043  0.56057669]]]\n"
     ]
    }
   ],
   "source": [
    "y = np.random.rand(3,3,2)\n",
    "print(y[:])\n",
    "print('------')\n",
    "y1 = y.ravel().reshape(1,-1)\n",
    "print(y1)\n",
    "print(y1.shape)\n",
    "print('------')\n",
    "y2 = y1.reshape(3,3,2)\n",
    "print(y2)"
   ]
  },
  {
   "cell_type": "code",
   "execution_count": 60,
   "metadata": {},
   "outputs": [
    {
     "name": "stdout",
     "output_type": "stream",
     "text": [
      "[[[ 0.90524765  0.10401848]\n",
      "  [ 0.26253789  0.90064091]\n",
      "  [ 0.22436896  0.01085188]]]\n",
      "------\n",
      "[[ 0.90524765  0.10401848  0.26253789  0.90064091  0.22436896  0.01085188]]\n"
     ]
    }
   ],
   "source": [
    "y = np.random.rand(1,3,2)\n",
    "print(y[:])\n",
    "print('------')\n",
    "y1 = y.ravel().reshape(1,-1)\n",
    "print(y1)"
   ]
  },
  {
   "cell_type": "code",
   "execution_count": null,
   "metadata": {},
   "outputs": [],
   "source": []
  },
  {
   "cell_type": "code",
   "execution_count": null,
   "metadata": {},
   "outputs": [],
   "source": []
  },
  {
   "cell_type": "code",
   "execution_count": 28,
   "metadata": {},
   "outputs": [
    {
     "name": "stdout",
     "output_type": "stream",
     "text": [
      "[[[ 0.  0.]\n",
      "  [ 0.  0.]\n",
      "  [ 0.  0.]]\n",
      "\n",
      " [[ 0.  0.]\n",
      "  [ 0.  0.]\n",
      "  [ 0.  0.]]\n",
      "\n",
      " [[ 0.  0.]\n",
      "  [ 0.  0.]\n",
      "  [ 0.  0.]]]\n",
      "------\n",
      "[[[ 0.  0.]\n",
      "  [ 0.  0.]\n",
      "  [ 0.  0.]]\n",
      "\n",
      " [[ 0.  0.]\n",
      "  [ 0.  0.]\n",
      "  [ 0.  0.]]\n",
      "\n",
      " [[ 0.  0.]\n",
      "  [ 0.  0.]\n",
      "  [ 0.  0.]]]\n"
     ]
    }
   ],
   "source": [
    "x = np.zeros((3,3,2))\n",
    "print(x)\n",
    "print('------')\n",
    "print(x)"
   ]
  },
  {
   "cell_type": "code",
   "execution_count": null,
   "metadata": {},
   "outputs": [],
   "source": []
  },
  {
   "cell_type": "code",
   "execution_count": null,
   "metadata": {},
   "outputs": [],
   "source": []
  },
  {
   "cell_type": "code",
   "execution_count": 46,
   "metadata": {},
   "outputs": [],
   "source": [
    "# test hdf5 file generated"
   ]
  },
  {
   "cell_type": "code",
   "execution_count": 67,
   "metadata": {},
   "outputs": [],
   "source": [
    "hdf5_file_name = '/Users/keil/datasets/LUNA16/64dim_patches.hdf5'\n",
    "\n",
    "dataset_name = h5py.File(hdf5_file_name, 'r') # open in read-only mode"
   ]
  },
  {
   "cell_type": "code",
   "execution_count": 68,
   "metadata": {},
   "outputs": [
    {
     "data": {
      "text/plain": [
       "<HDF5 file \"64dim_patches.hdf5\" (mode r)>"
      ]
     },
     "execution_count": 68,
     "metadata": {},
     "output_type": "execute_result"
    }
   ],
   "source": [
    "dataset_name"
   ]
  },
  {
   "cell_type": "code",
   "execution_count": 69,
   "metadata": {
    "scrolled": false
   },
   "outputs": [
    {
     "name": "stdout",
     "output_type": "stream",
     "text": [
      "Dataset meta data and real data:\n",
      "classes\n",
      "<HDF5 dataset \"classes\": shape (365, 4), type \"<f8\">\n",
      "[[   0.           19.26483377   50.52493873 -176.063894  ]\n",
      " [   0.           74.34730878    5.43345505 -135.2220227 ]\n",
      " [   0.           15.98         22.08        -80.17      ]\n",
      " ..., \n",
      " [   0.          -59.26359466   -9.24087582 -147.9494437 ]\n",
      " [   0.          -74.56033695   31.46355465 -183.213398  ]\n",
      " [   0.          -29.58         28.39        -53.36      ]]\n",
      "(365, 4)\n",
      "patches\n",
      "<HDF5 dataset \"patches\": shape (365, 12288), type \"<f4\">\n",
      "[[ 1.  1.  1. ...,  1.  1.  1.]\n",
      " [ 1.  1.  1. ...,  1.  1.  1.]\n",
      " [ 1.  1.  1. ...,  1.  1.  1.]\n",
      " ..., \n",
      " [ 1.  1.  1. ...,  1.  1.  1.]\n",
      " [ 1.  1.  1. ...,  1.  1.  1.]\n",
      " [ 1.  1.  1. ...,  1.  1.  1.]]\n",
      "(365, 12288)\n",
      "uuid\n",
      "<HDF5 dataset \"uuid\": shape (365, 1), type \"|O\">\n",
      "[[b'1.3.6.1.4.1.14519.5.2.1.6279.6001.281967919138248195763602360723']\n",
      " [b'1.3.6.1.4.1.14519.5.2.1.6279.6001.281967919138248195763602360723']\n",
      " [b'1.3.6.1.4.1.14519.5.2.1.6279.6001.281967919138248195763602360723']\n",
      " [b'1.3.6.1.4.1.14519.5.2.1.6279.6001.281967919138248195763602360723']\n",
      " [b'1.3.6.1.4.1.14519.5.2.1.6279.6001.281967919138248195763602360723']\n",
      " [b'1.3.6.1.4.1.14519.5.2.1.6279.6001.281967919138248195763602360723']\n",
      " [b'1.3.6.1.4.1.14519.5.2.1.6279.6001.281967919138248195763602360723']\n",
      " [b'1.3.6.1.4.1.14519.5.2.1.6279.6001.281967919138248195763602360723']\n",
      " [b'1.3.6.1.4.1.14519.5.2.1.6279.6001.281967919138248195763602360723']\n",
      " [b'1.3.6.1.4.1.14519.5.2.1.6279.6001.281967919138248195763602360723']\n",
      " [b'1.3.6.1.4.1.14519.5.2.1.6279.6001.281967919138248195763602360723']\n",
      " [b'1.3.6.1.4.1.14519.5.2.1.6279.6001.281967919138248195763602360723']\n",
      " [b'1.3.6.1.4.1.14519.5.2.1.6279.6001.281967919138248195763602360723']\n",
      " [b'1.3.6.1.4.1.14519.5.2.1.6279.6001.281967919138248195763602360723']\n",
      " [b'1.3.6.1.4.1.14519.5.2.1.6279.6001.281967919138248195763602360723']\n",
      " [b'1.3.6.1.4.1.14519.5.2.1.6279.6001.281967919138248195763602360723']\n",
      " [b'1.3.6.1.4.1.14519.5.2.1.6279.6001.281967919138248195763602360723']\n",
      " [b'1.3.6.1.4.1.14519.5.2.1.6279.6001.281967919138248195763602360723']\n",
      " [b'1.3.6.1.4.1.14519.5.2.1.6279.6001.281967919138248195763602360723']\n",
      " [b'1.3.6.1.4.1.14519.5.2.1.6279.6001.281967919138248195763602360723']\n",
      " [b'1.3.6.1.4.1.14519.5.2.1.6279.6001.281967919138248195763602360723']\n",
      " [b'1.3.6.1.4.1.14519.5.2.1.6279.6001.281967919138248195763602360723']\n",
      " [b'1.3.6.1.4.1.14519.5.2.1.6279.6001.281967919138248195763602360723']\n",
      " [b'1.3.6.1.4.1.14519.5.2.1.6279.6001.281967919138248195763602360723']\n",
      " [b'1.3.6.1.4.1.14519.5.2.1.6279.6001.281967919138248195763602360723']\n",
      " [b'1.3.6.1.4.1.14519.5.2.1.6279.6001.281967919138248195763602360723']\n",
      " [b'1.3.6.1.4.1.14519.5.2.1.6279.6001.281967919138248195763602360723']\n",
      " [b'1.3.6.1.4.1.14519.5.2.1.6279.6001.281967919138248195763602360723']\n",
      " [b'1.3.6.1.4.1.14519.5.2.1.6279.6001.281967919138248195763602360723']\n",
      " [b'1.3.6.1.4.1.14519.5.2.1.6279.6001.281967919138248195763602360723']\n",
      " [b'1.3.6.1.4.1.14519.5.2.1.6279.6001.281967919138248195763602360723']\n",
      " [b'1.3.6.1.4.1.14519.5.2.1.6279.6001.281967919138248195763602360723']\n",
      " [b'1.3.6.1.4.1.14519.5.2.1.6279.6001.281967919138248195763602360723']\n",
      " [b'1.3.6.1.4.1.14519.5.2.1.6279.6001.281967919138248195763602360723']\n",
      " [b'1.3.6.1.4.1.14519.5.2.1.6279.6001.281967919138248195763602360723']\n",
      " [b'1.3.6.1.4.1.14519.5.2.1.6279.6001.281967919138248195763602360723']\n",
      " [b'1.3.6.1.4.1.14519.5.2.1.6279.6001.281967919138248195763602360723']\n",
      " [b'1.3.6.1.4.1.14519.5.2.1.6279.6001.281967919138248195763602360723']\n",
      " [b'1.3.6.1.4.1.14519.5.2.1.6279.6001.281967919138248195763602360723']\n",
      " [b'1.3.6.1.4.1.14519.5.2.1.6279.6001.281967919138248195763602360723']\n",
      " [b'1.3.6.1.4.1.14519.5.2.1.6279.6001.281967919138248195763602360723']\n",
      " [b'1.3.6.1.4.1.14519.5.2.1.6279.6001.281967919138248195763602360723']\n",
      " [b'1.3.6.1.4.1.14519.5.2.1.6279.6001.281967919138248195763602360723']\n",
      " [b'1.3.6.1.4.1.14519.5.2.1.6279.6001.281967919138248195763602360723']\n",
      " [b'1.3.6.1.4.1.14519.5.2.1.6279.6001.281967919138248195763602360723']\n",
      " [b'1.3.6.1.4.1.14519.5.2.1.6279.6001.281967919138248195763602360723']\n",
      " [b'1.3.6.1.4.1.14519.5.2.1.6279.6001.281967919138248195763602360723']\n",
      " [b'1.3.6.1.4.1.14519.5.2.1.6279.6001.281967919138248195763602360723']\n",
      " [b'1.3.6.1.4.1.14519.5.2.1.6279.6001.281967919138248195763602360723']\n",
      " [b'1.3.6.1.4.1.14519.5.2.1.6279.6001.281967919138248195763602360723']\n",
      " [b'1.3.6.1.4.1.14519.5.2.1.6279.6001.281967919138248195763602360723']\n",
      " [b'1.3.6.1.4.1.14519.5.2.1.6279.6001.281967919138248195763602360723']\n",
      " [b'1.3.6.1.4.1.14519.5.2.1.6279.6001.281967919138248195763602360723']\n",
      " [b'1.3.6.1.4.1.14519.5.2.1.6279.6001.281967919138248195763602360723']\n",
      " [b'1.3.6.1.4.1.14519.5.2.1.6279.6001.281967919138248195763602360723']\n",
      " [b'1.3.6.1.4.1.14519.5.2.1.6279.6001.281967919138248195763602360723']\n",
      " [b'1.3.6.1.4.1.14519.5.2.1.6279.6001.281967919138248195763602360723']\n",
      " [b'1.3.6.1.4.1.14519.5.2.1.6279.6001.281967919138248195763602360723']\n",
      " [b'1.3.6.1.4.1.14519.5.2.1.6279.6001.281967919138248195763602360723']\n",
      " [b'1.3.6.1.4.1.14519.5.2.1.6279.6001.281967919138248195763602360723']\n",
      " [b'1.3.6.1.4.1.14519.5.2.1.6279.6001.281967919138248195763602360723']\n",
      " [b'1.3.6.1.4.1.14519.5.2.1.6279.6001.281967919138248195763602360723']\n",
      " [b'1.3.6.1.4.1.14519.5.2.1.6279.6001.281967919138248195763602360723']\n",
      " [b'1.3.6.1.4.1.14519.5.2.1.6279.6001.281967919138248195763602360723']\n",
      " [b'1.3.6.1.4.1.14519.5.2.1.6279.6001.281967919138248195763602360723']\n",
      " [b'1.3.6.1.4.1.14519.5.2.1.6279.6001.281967919138248195763602360723']\n",
      " [b'1.3.6.1.4.1.14519.5.2.1.6279.6001.281967919138248195763602360723']\n",
      " [b'1.3.6.1.4.1.14519.5.2.1.6279.6001.281967919138248195763602360723']\n",
      " [b'1.3.6.1.4.1.14519.5.2.1.6279.6001.281967919138248195763602360723']\n",
      " [b'1.3.6.1.4.1.14519.5.2.1.6279.6001.281967919138248195763602360723']\n",
      " [b'1.3.6.1.4.1.14519.5.2.1.6279.6001.281967919138248195763602360723']\n",
      " [b'1.3.6.1.4.1.14519.5.2.1.6279.6001.281967919138248195763602360723']\n",
      " [b'1.3.6.1.4.1.14519.5.2.1.6279.6001.281967919138248195763602360723']\n",
      " [b'1.3.6.1.4.1.14519.5.2.1.6279.6001.281967919138248195763602360723']\n",
      " [b'1.3.6.1.4.1.14519.5.2.1.6279.6001.281967919138248195763602360723']\n",
      " [b'1.3.6.1.4.1.14519.5.2.1.6279.6001.281967919138248195763602360723']\n",
      " [b'1.3.6.1.4.1.14519.5.2.1.6279.6001.281967919138248195763602360723']\n",
      " [b'1.3.6.1.4.1.14519.5.2.1.6279.6001.281967919138248195763602360723']\n",
      " [b'1.3.6.1.4.1.14519.5.2.1.6279.6001.281967919138248195763602360723']\n",
      " [b'1.3.6.1.4.1.14519.5.2.1.6279.6001.281967919138248195763602360723']\n",
      " [b'1.3.6.1.4.1.14519.5.2.1.6279.6001.281967919138248195763602360723']\n",
      " [b'1.3.6.1.4.1.14519.5.2.1.6279.6001.281967919138248195763602360723']\n",
      " [b'1.3.6.1.4.1.14519.5.2.1.6279.6001.281967919138248195763602360723']\n",
      " [b'1.3.6.1.4.1.14519.5.2.1.6279.6001.281967919138248195763602360723']\n",
      " [b'1.3.6.1.4.1.14519.5.2.1.6279.6001.281967919138248195763602360723']\n",
      " [b'1.3.6.1.4.1.14519.5.2.1.6279.6001.281967919138248195763602360723']\n",
      " [b'1.3.6.1.4.1.14519.5.2.1.6279.6001.281967919138248195763602360723']\n",
      " [b'1.3.6.1.4.1.14519.5.2.1.6279.6001.281967919138248195763602360723']\n",
      " [b'1.3.6.1.4.1.14519.5.2.1.6279.6001.281967919138248195763602360723']\n",
      " [b'1.3.6.1.4.1.14519.5.2.1.6279.6001.281967919138248195763602360723']\n",
      " [b'1.3.6.1.4.1.14519.5.2.1.6279.6001.281967919138248195763602360723']\n",
      " [b'1.3.6.1.4.1.14519.5.2.1.6279.6001.281967919138248195763602360723']\n",
      " [b'1.3.6.1.4.1.14519.5.2.1.6279.6001.281967919138248195763602360723']\n",
      " [b'1.3.6.1.4.1.14519.5.2.1.6279.6001.281967919138248195763602360723']\n",
      " [b'1.3.6.1.4.1.14519.5.2.1.6279.6001.281967919138248195763602360723']\n",
      " [b'1.3.6.1.4.1.14519.5.2.1.6279.6001.281967919138248195763602360723']\n",
      " [b'1.3.6.1.4.1.14519.5.2.1.6279.6001.281967919138248195763602360723']\n",
      " [b'1.3.6.1.4.1.14519.5.2.1.6279.6001.281967919138248195763602360723']\n",
      " [b'1.3.6.1.4.1.14519.5.2.1.6279.6001.281967919138248195763602360723']\n",
      " [b'1.3.6.1.4.1.14519.5.2.1.6279.6001.281967919138248195763602360723']\n",
      " [b'1.3.6.1.4.1.14519.5.2.1.6279.6001.281967919138248195763602360723']\n",
      " [b'1.3.6.1.4.1.14519.5.2.1.6279.6001.281967919138248195763602360723']\n",
      " [b'1.3.6.1.4.1.14519.5.2.1.6279.6001.281967919138248195763602360723']\n",
      " [b'1.3.6.1.4.1.14519.5.2.1.6279.6001.281967919138248195763602360723']\n",
      " [b'1.3.6.1.4.1.14519.5.2.1.6279.6001.281967919138248195763602360723']\n",
      " [b'1.3.6.1.4.1.14519.5.2.1.6279.6001.281967919138248195763602360723']\n",
      " [b'1.3.6.1.4.1.14519.5.2.1.6279.6001.281967919138248195763602360723']\n",
      " [b'1.3.6.1.4.1.14519.5.2.1.6279.6001.281967919138248195763602360723']\n",
      " [b'1.3.6.1.4.1.14519.5.2.1.6279.6001.281967919138248195763602360723']\n",
      " [b'1.3.6.1.4.1.14519.5.2.1.6279.6001.281967919138248195763602360723']\n",
      " [b'1.3.6.1.4.1.14519.5.2.1.6279.6001.281967919138248195763602360723']\n",
      " [b'1.3.6.1.4.1.14519.5.2.1.6279.6001.281967919138248195763602360723']\n",
      " [b'1.3.6.1.4.1.14519.5.2.1.6279.6001.281967919138248195763602360723']\n",
      " [b'1.3.6.1.4.1.14519.5.2.1.6279.6001.281967919138248195763602360723']\n",
      " [b'1.3.6.1.4.1.14519.5.2.1.6279.6001.281967919138248195763602360723']\n",
      " [b'1.3.6.1.4.1.14519.5.2.1.6279.6001.281967919138248195763602360723']\n",
      " [b'1.3.6.1.4.1.14519.5.2.1.6279.6001.281967919138248195763602360723']\n",
      " [b'1.3.6.1.4.1.14519.5.2.1.6279.6001.281967919138248195763602360723']\n",
      " [b'1.3.6.1.4.1.14519.5.2.1.6279.6001.281967919138248195763602360723']\n",
      " [b'1.3.6.1.4.1.14519.5.2.1.6279.6001.281967919138248195763602360723']\n",
      " [b'1.3.6.1.4.1.14519.5.2.1.6279.6001.281967919138248195763602360723']\n",
      " [b'1.3.6.1.4.1.14519.5.2.1.6279.6001.281967919138248195763602360723']\n",
      " [b'1.3.6.1.4.1.14519.5.2.1.6279.6001.281967919138248195763602360723']\n",
      " [b'1.3.6.1.4.1.14519.5.2.1.6279.6001.281967919138248195763602360723']\n",
      " [b'1.3.6.1.4.1.14519.5.2.1.6279.6001.281967919138248195763602360723']\n",
      " [b'1.3.6.1.4.1.14519.5.2.1.6279.6001.281967919138248195763602360723']\n",
      " [b'1.3.6.1.4.1.14519.5.2.1.6279.6001.281967919138248195763602360723']\n",
      " [b'1.3.6.1.4.1.14519.5.2.1.6279.6001.281967919138248195763602360723']\n",
      " [b'1.3.6.1.4.1.14519.5.2.1.6279.6001.281967919138248195763602360723']\n",
      " [b'1.3.6.1.4.1.14519.5.2.1.6279.6001.281967919138248195763602360723']\n",
      " [b'1.3.6.1.4.1.14519.5.2.1.6279.6001.281967919138248195763602360723']\n",
      " [b'1.3.6.1.4.1.14519.5.2.1.6279.6001.281967919138248195763602360723']\n",
      " [b'1.3.6.1.4.1.14519.5.2.1.6279.6001.281967919138248195763602360723']\n",
      " [b'1.3.6.1.4.1.14519.5.2.1.6279.6001.281967919138248195763602360723']\n",
      " [b'1.3.6.1.4.1.14519.5.2.1.6279.6001.281967919138248195763602360723']\n",
      " [b'1.3.6.1.4.1.14519.5.2.1.6279.6001.281967919138248195763602360723']\n",
      " [b'1.3.6.1.4.1.14519.5.2.1.6279.6001.281967919138248195763602360723']\n",
      " [b'1.3.6.1.4.1.14519.5.2.1.6279.6001.281967919138248195763602360723']\n",
      " [b'1.3.6.1.4.1.14519.5.2.1.6279.6001.281967919138248195763602360723']\n",
      " [b'1.3.6.1.4.1.14519.5.2.1.6279.6001.281967919138248195763602360723']\n",
      " [b'1.3.6.1.4.1.14519.5.2.1.6279.6001.281967919138248195763602360723']\n",
      " [b'1.3.6.1.4.1.14519.5.2.1.6279.6001.281967919138248195763602360723']\n",
      " [b'1.3.6.1.4.1.14519.5.2.1.6279.6001.281967919138248195763602360723']\n",
      " [b'1.3.6.1.4.1.14519.5.2.1.6279.6001.281967919138248195763602360723']\n",
      " [b'1.3.6.1.4.1.14519.5.2.1.6279.6001.281967919138248195763602360723']\n",
      " [b'1.3.6.1.4.1.14519.5.2.1.6279.6001.281967919138248195763602360723']\n",
      " [b'1.3.6.1.4.1.14519.5.2.1.6279.6001.281967919138248195763602360723']\n",
      " [b'1.3.6.1.4.1.14519.5.2.1.6279.6001.281967919138248195763602360723']\n",
      " [b'1.3.6.1.4.1.14519.5.2.1.6279.6001.281967919138248195763602360723']\n",
      " [b'1.3.6.1.4.1.14519.5.2.1.6279.6001.281967919138248195763602360723']\n",
      " [b'1.3.6.1.4.1.14519.5.2.1.6279.6001.281967919138248195763602360723']\n",
      " [b'1.3.6.1.4.1.14519.5.2.1.6279.6001.281967919138248195763602360723']\n",
      " [b'1.3.6.1.4.1.14519.5.2.1.6279.6001.281967919138248195763602360723']\n",
      " [b'1.3.6.1.4.1.14519.5.2.1.6279.6001.281967919138248195763602360723']\n",
      " [b'1.3.6.1.4.1.14519.5.2.1.6279.6001.281967919138248195763602360723']\n",
      " [b'1.3.6.1.4.1.14519.5.2.1.6279.6001.281967919138248195763602360723']\n",
      " [b'1.3.6.1.4.1.14519.5.2.1.6279.6001.281967919138248195763602360723']\n",
      " [b'1.3.6.1.4.1.14519.5.2.1.6279.6001.281967919138248195763602360723']\n",
      " [b'1.3.6.1.4.1.14519.5.2.1.6279.6001.281967919138248195763602360723']\n",
      " [b'1.3.6.1.4.1.14519.5.2.1.6279.6001.281967919138248195763602360723']\n",
      " [b'1.3.6.1.4.1.14519.5.2.1.6279.6001.281967919138248195763602360723']\n",
      " [b'1.3.6.1.4.1.14519.5.2.1.6279.6001.281967919138248195763602360723']\n",
      " [b'1.3.6.1.4.1.14519.5.2.1.6279.6001.281967919138248195763602360723']\n",
      " [b'1.3.6.1.4.1.14519.5.2.1.6279.6001.281967919138248195763602360723']\n",
      " [b'1.3.6.1.4.1.14519.5.2.1.6279.6001.281967919138248195763602360723']\n",
      " [b'1.3.6.1.4.1.14519.5.2.1.6279.6001.281967919138248195763602360723']\n",
      " [b'1.3.6.1.4.1.14519.5.2.1.6279.6001.281967919138248195763602360723']\n",
      " [b'1.3.6.1.4.1.14519.5.2.1.6279.6001.281967919138248195763602360723']\n",
      " [b'1.3.6.1.4.1.14519.5.2.1.6279.6001.281967919138248195763602360723']\n",
      " [b'1.3.6.1.4.1.14519.5.2.1.6279.6001.281967919138248195763602360723']\n",
      " [b'1.3.6.1.4.1.14519.5.2.1.6279.6001.281967919138248195763602360723']\n",
      " [b'1.3.6.1.4.1.14519.5.2.1.6279.6001.281967919138248195763602360723']\n",
      " [b'1.3.6.1.4.1.14519.5.2.1.6279.6001.281967919138248195763602360723']\n",
      " [b'1.3.6.1.4.1.14519.5.2.1.6279.6001.281967919138248195763602360723']\n",
      " [b'1.3.6.1.4.1.14519.5.2.1.6279.6001.281967919138248195763602360723']\n",
      " [b'1.3.6.1.4.1.14519.5.2.1.6279.6001.281967919138248195763602360723']\n",
      " [b'1.3.6.1.4.1.14519.5.2.1.6279.6001.281967919138248195763602360723']\n",
      " [b'1.3.6.1.4.1.14519.5.2.1.6279.6001.281967919138248195763602360723']\n",
      " [b'1.3.6.1.4.1.14519.5.2.1.6279.6001.281967919138248195763602360723']\n",
      " [b'1.3.6.1.4.1.14519.5.2.1.6279.6001.281967919138248195763602360723']\n",
      " [b'1.3.6.1.4.1.14519.5.2.1.6279.6001.281967919138248195763602360723']\n",
      " [b'1.3.6.1.4.1.14519.5.2.1.6279.6001.281967919138248195763602360723']\n",
      " [b'1.3.6.1.4.1.14519.5.2.1.6279.6001.281967919138248195763602360723']\n",
      " [b'1.3.6.1.4.1.14519.5.2.1.6279.6001.281967919138248195763602360723']\n",
      " [b'1.3.6.1.4.1.14519.5.2.1.6279.6001.281967919138248195763602360723']\n",
      " [b'1.3.6.1.4.1.14519.5.2.1.6279.6001.281967919138248195763602360723']\n",
      " [b'1.3.6.1.4.1.14519.5.2.1.6279.6001.281967919138248195763602360723']\n",
      " [b'1.3.6.1.4.1.14519.5.2.1.6279.6001.281967919138248195763602360723']\n",
      " [b'1.3.6.1.4.1.14519.5.2.1.6279.6001.281967919138248195763602360723']\n",
      " [b'1.3.6.1.4.1.14519.5.2.1.6279.6001.281967919138248195763602360723']\n",
      " [b'1.3.6.1.4.1.14519.5.2.1.6279.6001.281967919138248195763602360723']\n",
      " [b'1.3.6.1.4.1.14519.5.2.1.6279.6001.281967919138248195763602360723']\n",
      " [b'1.3.6.1.4.1.14519.5.2.1.6279.6001.281967919138248195763602360723']\n",
      " [b'1.3.6.1.4.1.14519.5.2.1.6279.6001.281967919138248195763602360723']\n",
      " [b'1.3.6.1.4.1.14519.5.2.1.6279.6001.281967919138248195763602360723']\n",
      " [b'1.3.6.1.4.1.14519.5.2.1.6279.6001.281967919138248195763602360723']\n",
      " [b'1.3.6.1.4.1.14519.5.2.1.6279.6001.281967919138248195763602360723']\n",
      " [b'1.3.6.1.4.1.14519.5.2.1.6279.6001.281967919138248195763602360723']\n",
      " [b'1.3.6.1.4.1.14519.5.2.1.6279.6001.281967919138248195763602360723']\n",
      " [b'1.3.6.1.4.1.14519.5.2.1.6279.6001.281967919138248195763602360723']\n",
      " [b'1.3.6.1.4.1.14519.5.2.1.6279.6001.281967919138248195763602360723']\n",
      " [b'1.3.6.1.4.1.14519.5.2.1.6279.6001.281967919138248195763602360723']\n",
      " [b'1.3.6.1.4.1.14519.5.2.1.6279.6001.281967919138248195763602360723']\n",
      " [b'1.3.6.1.4.1.14519.5.2.1.6279.6001.281967919138248195763602360723']\n",
      " [b'1.3.6.1.4.1.14519.5.2.1.6279.6001.281967919138248195763602360723']\n",
      " [b'1.3.6.1.4.1.14519.5.2.1.6279.6001.281967919138248195763602360723']\n",
      " [b'1.3.6.1.4.1.14519.5.2.1.6279.6001.281967919138248195763602360723']\n",
      " [b'1.3.6.1.4.1.14519.5.2.1.6279.6001.281967919138248195763602360723']\n",
      " [b'1.3.6.1.4.1.14519.5.2.1.6279.6001.281967919138248195763602360723']\n",
      " [b'1.3.6.1.4.1.14519.5.2.1.6279.6001.281967919138248195763602360723']\n",
      " [b'1.3.6.1.4.1.14519.5.2.1.6279.6001.281967919138248195763602360723']\n",
      " [b'1.3.6.1.4.1.14519.5.2.1.6279.6001.281967919138248195763602360723']\n",
      " [b'1.3.6.1.4.1.14519.5.2.1.6279.6001.281967919138248195763602360723']\n",
      " [b'1.3.6.1.4.1.14519.5.2.1.6279.6001.281967919138248195763602360723']\n",
      " [b'1.3.6.1.4.1.14519.5.2.1.6279.6001.281967919138248195763602360723']\n",
      " [b'1.3.6.1.4.1.14519.5.2.1.6279.6001.281967919138248195763602360723']\n",
      " [b'1.3.6.1.4.1.14519.5.2.1.6279.6001.281967919138248195763602360723']\n",
      " [b'1.3.6.1.4.1.14519.5.2.1.6279.6001.281967919138248195763602360723']\n",
      " [b'1.3.6.1.4.1.14519.5.2.1.6279.6001.281967919138248195763602360723']\n",
      " [b'1.3.6.1.4.1.14519.5.2.1.6279.6001.281967919138248195763602360723']\n",
      " [b'1.3.6.1.4.1.14519.5.2.1.6279.6001.281967919138248195763602360723']\n",
      " [b'1.3.6.1.4.1.14519.5.2.1.6279.6001.281967919138248195763602360723']\n",
      " [b'1.3.6.1.4.1.14519.5.2.1.6279.6001.281967919138248195763602360723']\n",
      " [b'1.3.6.1.4.1.14519.5.2.1.6279.6001.281967919138248195763602360723']\n",
      " [b'1.3.6.1.4.1.14519.5.2.1.6279.6001.281967919138248195763602360723']\n",
      " [b'1.3.6.1.4.1.14519.5.2.1.6279.6001.281967919138248195763602360723']\n",
      " [b'1.3.6.1.4.1.14519.5.2.1.6279.6001.281967919138248195763602360723']\n",
      " [b'1.3.6.1.4.1.14519.5.2.1.6279.6001.281967919138248195763602360723']\n",
      " [b'1.3.6.1.4.1.14519.5.2.1.6279.6001.281967919138248195763602360723']\n",
      " [b'1.3.6.1.4.1.14519.5.2.1.6279.6001.281967919138248195763602360723']\n",
      " [b'1.3.6.1.4.1.14519.5.2.1.6279.6001.281967919138248195763602360723']\n",
      " [b'1.3.6.1.4.1.14519.5.2.1.6279.6001.281967919138248195763602360723']\n",
      " [b'1.3.6.1.4.1.14519.5.2.1.6279.6001.281967919138248195763602360723']\n",
      " [b'1.3.6.1.4.1.14519.5.2.1.6279.6001.281967919138248195763602360723']\n",
      " [b'1.3.6.1.4.1.14519.5.2.1.6279.6001.281967919138248195763602360723']\n",
      " [b'1.3.6.1.4.1.14519.5.2.1.6279.6001.281967919138248195763602360723']\n",
      " [b'1.3.6.1.4.1.14519.5.2.1.6279.6001.281967919138248195763602360723']\n",
      " [b'1.3.6.1.4.1.14519.5.2.1.6279.6001.281967919138248195763602360723']\n",
      " [b'1.3.6.1.4.1.14519.5.2.1.6279.6001.281967919138248195763602360723']\n",
      " [b'1.3.6.1.4.1.14519.5.2.1.6279.6001.281967919138248195763602360723']\n",
      " [b'1.3.6.1.4.1.14519.5.2.1.6279.6001.281967919138248195763602360723']\n",
      " [b'1.3.6.1.4.1.14519.5.2.1.6279.6001.281967919138248195763602360723']\n",
      " [b'1.3.6.1.4.1.14519.5.2.1.6279.6001.281967919138248195763602360723']\n",
      " [b'1.3.6.1.4.1.14519.5.2.1.6279.6001.281967919138248195763602360723']\n",
      " [b'1.3.6.1.4.1.14519.5.2.1.6279.6001.281967919138248195763602360723']\n",
      " [b'1.3.6.1.4.1.14519.5.2.1.6279.6001.281967919138248195763602360723']\n",
      " [b'1.3.6.1.4.1.14519.5.2.1.6279.6001.281967919138248195763602360723']\n",
      " [b'1.3.6.1.4.1.14519.5.2.1.6279.6001.281967919138248195763602360723']\n",
      " [b'1.3.6.1.4.1.14519.5.2.1.6279.6001.281967919138248195763602360723']\n",
      " [b'1.3.6.1.4.1.14519.5.2.1.6279.6001.281967919138248195763602360723']\n",
      " [b'1.3.6.1.4.1.14519.5.2.1.6279.6001.281967919138248195763602360723']\n",
      " [b'1.3.6.1.4.1.14519.5.2.1.6279.6001.281967919138248195763602360723']\n",
      " [b'1.3.6.1.4.1.14519.5.2.1.6279.6001.281967919138248195763602360723']\n",
      " [b'1.3.6.1.4.1.14519.5.2.1.6279.6001.281967919138248195763602360723']\n",
      " [b'1.3.6.1.4.1.14519.5.2.1.6279.6001.281967919138248195763602360723']\n",
      " [b'1.3.6.1.4.1.14519.5.2.1.6279.6001.281967919138248195763602360723']\n",
      " [b'1.3.6.1.4.1.14519.5.2.1.6279.6001.281967919138248195763602360723']\n",
      " [b'1.3.6.1.4.1.14519.5.2.1.6279.6001.281967919138248195763602360723']\n",
      " [b'1.3.6.1.4.1.14519.5.2.1.6279.6001.281967919138248195763602360723']\n",
      " [b'1.3.6.1.4.1.14519.5.2.1.6279.6001.281967919138248195763602360723']\n",
      " [b'1.3.6.1.4.1.14519.5.2.1.6279.6001.281967919138248195763602360723']\n",
      " [b'1.3.6.1.4.1.14519.5.2.1.6279.6001.281967919138248195763602360723']\n",
      " [b'1.3.6.1.4.1.14519.5.2.1.6279.6001.281967919138248195763602360723']\n",
      " [b'1.3.6.1.4.1.14519.5.2.1.6279.6001.281967919138248195763602360723']\n",
      " [b'1.3.6.1.4.1.14519.5.2.1.6279.6001.281967919138248195763602360723']\n",
      " [b'1.3.6.1.4.1.14519.5.2.1.6279.6001.281967919138248195763602360723']\n",
      " [b'1.3.6.1.4.1.14519.5.2.1.6279.6001.281967919138248195763602360723']\n",
      " [b'1.3.6.1.4.1.14519.5.2.1.6279.6001.281967919138248195763602360723']\n",
      " [b'1.3.6.1.4.1.14519.5.2.1.6279.6001.281967919138248195763602360723']\n",
      " [b'1.3.6.1.4.1.14519.5.2.1.6279.6001.281967919138248195763602360723']\n",
      " [b'1.3.6.1.4.1.14519.5.2.1.6279.6001.281967919138248195763602360723']\n",
      " [b'1.3.6.1.4.1.14519.5.2.1.6279.6001.281967919138248195763602360723']\n",
      " [b'1.3.6.1.4.1.14519.5.2.1.6279.6001.281967919138248195763602360723']\n",
      " [b'1.3.6.1.4.1.14519.5.2.1.6279.6001.281967919138248195763602360723']\n",
      " [b'1.3.6.1.4.1.14519.5.2.1.6279.6001.281967919138248195763602360723']\n",
      " [b'1.3.6.1.4.1.14519.5.2.1.6279.6001.281967919138248195763602360723']\n",
      " [b'1.3.6.1.4.1.14519.5.2.1.6279.6001.281967919138248195763602360723']\n",
      " [b'1.3.6.1.4.1.14519.5.2.1.6279.6001.281967919138248195763602360723']\n",
      " [b'1.3.6.1.4.1.14519.5.2.1.6279.6001.281967919138248195763602360723']\n",
      " [b'1.3.6.1.4.1.14519.5.2.1.6279.6001.281967919138248195763602360723']\n",
      " [b'1.3.6.1.4.1.14519.5.2.1.6279.6001.281967919138248195763602360723']\n",
      " [b'1.3.6.1.4.1.14519.5.2.1.6279.6001.281967919138248195763602360723']\n",
      " [b'1.3.6.1.4.1.14519.5.2.1.6279.6001.281967919138248195763602360723']\n",
      " [b'1.3.6.1.4.1.14519.5.2.1.6279.6001.281967919138248195763602360723']\n",
      " [b'1.3.6.1.4.1.14519.5.2.1.6279.6001.281967919138248195763602360723']\n",
      " [b'1.3.6.1.4.1.14519.5.2.1.6279.6001.281967919138248195763602360723']\n",
      " [b'1.3.6.1.4.1.14519.5.2.1.6279.6001.281967919138248195763602360723']\n",
      " [b'1.3.6.1.4.1.14519.5.2.1.6279.6001.281967919138248195763602360723']\n",
      " [b'1.3.6.1.4.1.14519.5.2.1.6279.6001.281967919138248195763602360723']\n",
      " [b'1.3.6.1.4.1.14519.5.2.1.6279.6001.281967919138248195763602360723']\n",
      " [b'1.3.6.1.4.1.14519.5.2.1.6279.6001.281967919138248195763602360723']\n",
      " [b'1.3.6.1.4.1.14519.5.2.1.6279.6001.281967919138248195763602360723']\n",
      " [b'1.3.6.1.4.1.14519.5.2.1.6279.6001.281967919138248195763602360723']\n",
      " [b'1.3.6.1.4.1.14519.5.2.1.6279.6001.281967919138248195763602360723']\n",
      " [b'1.3.6.1.4.1.14519.5.2.1.6279.6001.281967919138248195763602360723']\n",
      " [b'1.3.6.1.4.1.14519.5.2.1.6279.6001.281967919138248195763602360723']\n",
      " [b'1.3.6.1.4.1.14519.5.2.1.6279.6001.281967919138248195763602360723']\n",
      " [b'1.3.6.1.4.1.14519.5.2.1.6279.6001.281967919138248195763602360723']\n",
      " [b'1.3.6.1.4.1.14519.5.2.1.6279.6001.281967919138248195763602360723']\n",
      " [b'1.3.6.1.4.1.14519.5.2.1.6279.6001.281967919138248195763602360723']\n",
      " [b'1.3.6.1.4.1.14519.5.2.1.6279.6001.281967919138248195763602360723']\n",
      " [b'1.3.6.1.4.1.14519.5.2.1.6279.6001.281967919138248195763602360723']\n",
      " [b'1.3.6.1.4.1.14519.5.2.1.6279.6001.281967919138248195763602360723']\n",
      " [b'1.3.6.1.4.1.14519.5.2.1.6279.6001.281967919138248195763602360723']\n",
      " [b'1.3.6.1.4.1.14519.5.2.1.6279.6001.281967919138248195763602360723']\n",
      " [b'1.3.6.1.4.1.14519.5.2.1.6279.6001.281967919138248195763602360723']\n",
      " [b'1.3.6.1.4.1.14519.5.2.1.6279.6001.281967919138248195763602360723']\n",
      " [b'1.3.6.1.4.1.14519.5.2.1.6279.6001.281967919138248195763602360723']\n",
      " [b'1.3.6.1.4.1.14519.5.2.1.6279.6001.281967919138248195763602360723']\n",
      " [b'1.3.6.1.4.1.14519.5.2.1.6279.6001.281967919138248195763602360723']\n",
      " [b'1.3.6.1.4.1.14519.5.2.1.6279.6001.281967919138248195763602360723']\n",
      " [b'1.3.6.1.4.1.14519.5.2.1.6279.6001.281967919138248195763602360723']\n",
      " [b'1.3.6.1.4.1.14519.5.2.1.6279.6001.281967919138248195763602360723']\n",
      " [b'1.3.6.1.4.1.14519.5.2.1.6279.6001.281967919138248195763602360723']\n",
      " [b'1.3.6.1.4.1.14519.5.2.1.6279.6001.281967919138248195763602360723']\n",
      " [b'1.3.6.1.4.1.14519.5.2.1.6279.6001.281967919138248195763602360723']\n",
      " [b'1.3.6.1.4.1.14519.5.2.1.6279.6001.281967919138248195763602360723']\n",
      " [b'1.3.6.1.4.1.14519.5.2.1.6279.6001.281967919138248195763602360723']\n",
      " [b'1.3.6.1.4.1.14519.5.2.1.6279.6001.281967919138248195763602360723']\n",
      " [b'1.3.6.1.4.1.14519.5.2.1.6279.6001.281967919138248195763602360723']\n",
      " [b'1.3.6.1.4.1.14519.5.2.1.6279.6001.281967919138248195763602360723']\n",
      " [b'1.3.6.1.4.1.14519.5.2.1.6279.6001.281967919138248195763602360723']\n",
      " [b'1.3.6.1.4.1.14519.5.2.1.6279.6001.281967919138248195763602360723']\n",
      " [b'1.3.6.1.4.1.14519.5.2.1.6279.6001.281967919138248195763602360723']\n",
      " [b'1.3.6.1.4.1.14519.5.2.1.6279.6001.281967919138248195763602360723']\n",
      " [b'1.3.6.1.4.1.14519.5.2.1.6279.6001.281967919138248195763602360723']\n",
      " [b'1.3.6.1.4.1.14519.5.2.1.6279.6001.281967919138248195763602360723']\n",
      " [b'1.3.6.1.4.1.14519.5.2.1.6279.6001.281967919138248195763602360723']\n",
      " [b'1.3.6.1.4.1.14519.5.2.1.6279.6001.281967919138248195763602360723']\n",
      " [b'1.3.6.1.4.1.14519.5.2.1.6279.6001.281967919138248195763602360723']\n",
      " [b'1.3.6.1.4.1.14519.5.2.1.6279.6001.281967919138248195763602360723']\n",
      " [b'1.3.6.1.4.1.14519.5.2.1.6279.6001.281967919138248195763602360723']\n",
      " [b'1.3.6.1.4.1.14519.5.2.1.6279.6001.281967919138248195763602360723']\n",
      " [b'1.3.6.1.4.1.14519.5.2.1.6279.6001.281967919138248195763602360723']\n",
      " [b'1.3.6.1.4.1.14519.5.2.1.6279.6001.281967919138248195763602360723']\n",
      " [b'1.3.6.1.4.1.14519.5.2.1.6279.6001.281967919138248195763602360723']\n",
      " [b'1.3.6.1.4.1.14519.5.2.1.6279.6001.281967919138248195763602360723']\n",
      " [b'1.3.6.1.4.1.14519.5.2.1.6279.6001.281967919138248195763602360723']\n",
      " [b'1.3.6.1.4.1.14519.5.2.1.6279.6001.281967919138248195763602360723']\n",
      " [b'1.3.6.1.4.1.14519.5.2.1.6279.6001.281967919138248195763602360723']\n",
      " [b'1.3.6.1.4.1.14519.5.2.1.6279.6001.281967919138248195763602360723']\n",
      " [b'1.3.6.1.4.1.14519.5.2.1.6279.6001.281967919138248195763602360723']\n",
      " [b'1.3.6.1.4.1.14519.5.2.1.6279.6001.281967919138248195763602360723']\n",
      " [b'1.3.6.1.4.1.14519.5.2.1.6279.6001.281967919138248195763602360723']\n",
      " [b'1.3.6.1.4.1.14519.5.2.1.6279.6001.281967919138248195763602360723']\n",
      " [b'1.3.6.1.4.1.14519.5.2.1.6279.6001.281967919138248195763602360723']\n",
      " [b'1.3.6.1.4.1.14519.5.2.1.6279.6001.281967919138248195763602360723']\n",
      " [b'1.3.6.1.4.1.14519.5.2.1.6279.6001.281967919138248195763602360723']\n",
      " [b'1.3.6.1.4.1.14519.5.2.1.6279.6001.281967919138248195763602360723']\n",
      " [b'1.3.6.1.4.1.14519.5.2.1.6279.6001.281967919138248195763602360723']\n",
      " [b'1.3.6.1.4.1.14519.5.2.1.6279.6001.281967919138248195763602360723']\n",
      " [b'1.3.6.1.4.1.14519.5.2.1.6279.6001.281967919138248195763602360723']\n",
      " [b'1.3.6.1.4.1.14519.5.2.1.6279.6001.281967919138248195763602360723']\n",
      " [b'1.3.6.1.4.1.14519.5.2.1.6279.6001.281967919138248195763602360723']\n",
      " [b'1.3.6.1.4.1.14519.5.2.1.6279.6001.281967919138248195763602360723']\n",
      " [b'1.3.6.1.4.1.14519.5.2.1.6279.6001.281967919138248195763602360723']\n",
      " [b'1.3.6.1.4.1.14519.5.2.1.6279.6001.281967919138248195763602360723']\n",
      " [b'1.3.6.1.4.1.14519.5.2.1.6279.6001.281967919138248195763602360723']\n",
      " [b'1.3.6.1.4.1.14519.5.2.1.6279.6001.281967919138248195763602360723']\n",
      " [b'1.3.6.1.4.1.14519.5.2.1.6279.6001.281967919138248195763602360723']\n",
      " [b'1.3.6.1.4.1.14519.5.2.1.6279.6001.281967919138248195763602360723']\n",
      " [b'1.3.6.1.4.1.14519.5.2.1.6279.6001.281967919138248195763602360723']\n",
      " [b'1.3.6.1.4.1.14519.5.2.1.6279.6001.281967919138248195763602360723']\n",
      " [b'1.3.6.1.4.1.14519.5.2.1.6279.6001.281967919138248195763602360723']\n",
      " [b'1.3.6.1.4.1.14519.5.2.1.6279.6001.281967919138248195763602360723']]\n",
      "(365, 1)\n"
     ]
    }
   ],
   "source": [
    "print('Dataset meta data and real data:')\n",
    "for name in [key for key in dataset_name.keys()]:\n",
    "    print(name)\n",
    "    print(dataset_name[name])\n",
    "    print(dataset_name[name][:])\n",
    "    print(dataset_name[name][:].shape)"
   ]
  },
  {
   "cell_type": "code",
   "execution_count": 70,
   "metadata": {},
   "outputs": [
    {
     "data": {
      "text/plain": [
       "365"
      ]
     },
     "execution_count": 70,
     "metadata": {},
     "output_type": "execute_result"
    }
   ],
   "source": [
    "len(dataset_name['patches'])"
   ]
  },
  {
   "cell_type": "code",
   "execution_count": null,
   "metadata": {},
   "outputs": [],
   "source": []
  }
 ],
 "metadata": {
  "kernelspec": {
   "display_name": "Python [default]",
   "language": "python",
   "name": "python3"
  },
  "language_info": {
   "codemirror_mode": {
    "name": "ipython",
    "version": 3
   },
   "file_extension": ".py",
   "mimetype": "text/x-python",
   "name": "python",
   "nbconvert_exporter": "python",
   "pygments_lexer": "ipython3",
   "version": "3.6.3"
  }
 },
 "nbformat": 4,
 "nbformat_minor": 2
}
