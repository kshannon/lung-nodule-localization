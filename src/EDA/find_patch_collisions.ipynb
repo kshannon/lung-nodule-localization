{
 "cells": [
  {
   "cell_type": "markdown",
   "metadata": {},
   "source": [
    "### Calculate the distance between nodule centers in a Scan\n",
    "This will loop through every center (X, Y, Z coordinates in mm) and determine the Euclidean distance between that point and all the rest of nodule center within the CT scan."
   ]
  },
  {
   "cell_type": "code",
   "execution_count": 1,
   "metadata": {
    "collapsed": true
   },
   "outputs": [],
   "source": [
    "import pandas as pd\n",
    "import numpy as np\n",
    "np.set_printoptions(threshold=np.nan)"
   ]
  },
  {
   "cell_type": "code",
   "execution_count": 2,
   "metadata": {
    "collapsed": true
   },
   "outputs": [],
   "source": [
    "data_dir = '../data/luna16/'\n",
    "annotations_file = 'annotations.csv'"
   ]
  },
  {
   "cell_type": "code",
   "execution_count": 3,
   "metadata": {},
   "outputs": [
    {
     "name": "stdout",
     "output_type": "stream",
     "text": [
      "(1186, 5)\n"
     ]
    }
   ],
   "source": [
    "with open \\\n",
    "  (data_dir+annotations_file, 'r') as f:\n",
    "        raw_df = pd.read_csv(f)\n",
    "print (raw_df.shape)\n",
    "df = raw_df.copy()\n",
    "#raw_df.head(5)"
   ]
  },
  {
   "cell_type": "code",
   "execution_count": 4,
   "metadata": {},
   "outputs": [
    {
     "name": "stdout",
     "output_type": "stream",
     "text": [
      "Total unique series : 601\n",
      "CT San with multiple nodule : 585\n"
     ]
    }
   ],
   "source": [
    "print('Total unique series : {}'.format(raw_df.seriesuid.unique().shape[0]))\n",
    "\n",
    "print('CT San with multiple nodule : {}'.\\\n",
    "      format(raw_df.shape[0] - raw_df.seriesuid.unique().shape[0]))"
   ]
  },
  {
   "cell_type": "code",
   "execution_count": 5,
   "metadata": {
    "collapsed": true
   },
   "outputs": [],
   "source": [
    "# sID = \"1.3.6.1.4.1.14519.5.2.1.6279.6001.239358021703233250639913775427\""
   ]
  },
  {
   "cell_type": "code",
   "execution_count": 113,
   "metadata": {},
   "outputs": [
    {
     "data": {
      "text/plain": [
       "(1186, 9)"
      ]
     },
     "execution_count": 113,
     "metadata": {},
     "output_type": "execute_result"
    }
   ],
   "source": [
    "dfDistance = pd.DataFrame([])\n",
    "\n",
    "for sId in df.seriesuid.unique():\n",
    "    tmp_df = df[(df[\"seriesuid\"]== sId )].copy() \n",
    "                \n",
    "    all_coords = tmp_df[[\"coordX\", \"coordY\", \"coordZ\"]].values\n",
    "    x1 = all_coords[0][0]; y1 = all_coords[0][1]; z1 = all_coords[0][2];            \n",
    "    frm_coords = np.tile([x1, y1, z1], (all_coords.shape[0], 1)) \n",
    "    \n",
    "    distance = np.linalg.norm(frm_coords - all_coords, axis=1) \n",
    "    tmp_df[\"distance\"] = distance\n",
    "    tmp_df[\"frm_X\"] = frm_coords[:, 0]\n",
    "    tmp_df[\"frm_y\"] = frm_coords[:, 1]\n",
    "    tmp_df[\"frm_Z\"] = frm_coords[:, 2]\n",
    "    \n",
    "    dfDistance = dfDistance.append(tmp_df)\n",
    "    \n",
    "dfDistance.shape"
   ]
  },
  {
   "cell_type": "code",
   "execution_count": 115,
   "metadata": {},
   "outputs": [
    {
     "name": "stdout",
     "output_type": "stream",
     "text": [
      "Total colliding nodules : 31 in 29 scans\n"
     ]
    }
   ],
   "source": [
    "t1 = dfDistance.copy()\n",
    "df_collision = (t1[ (t1['distance'] < 31) & (t1['distance'] != 0)  ])\n",
    "\n",
    "print('Total colliding nodules : {} in {} scans'.format(df_collision.shape[0], len(df_collision.seriesuid.unique()) ))\n",
    "df_collision = df_collision.sort_values('distance')"
   ]
  },
  {
   "cell_type": "code",
   "execution_count": 116,
   "metadata": {},
   "outputs": [
    {
     "data": {
      "text/html": [
       "<div>\n",
       "<style>\n",
       "    .dataframe thead tr:only-child th {\n",
       "        text-align: right;\n",
       "    }\n",
       "\n",
       "    .dataframe thead th {\n",
       "        text-align: left;\n",
       "    }\n",
       "\n",
       "    .dataframe tbody tr th {\n",
       "        vertical-align: top;\n",
       "    }\n",
       "</style>\n",
       "<table border=\"1\" class=\"dataframe\">\n",
       "  <thead>\n",
       "    <tr style=\"text-align: right;\">\n",
       "      <th></th>\n",
       "      <th>seriesuid</th>\n",
       "      <th>coordX</th>\n",
       "      <th>coordY</th>\n",
       "      <th>coordZ</th>\n",
       "      <th>diameter_mm</th>\n",
       "      <th>distance</th>\n",
       "      <th>frm_X</th>\n",
       "      <th>frm_y</th>\n",
       "      <th>frm_Z</th>\n",
       "    </tr>\n",
       "  </thead>\n",
       "  <tbody>\n",
       "    <tr>\n",
       "      <th>834</th>\n",
       "      <td>1.3.6.1.4.1.14519.5.2.1.6279.6001.302403227435...</td>\n",
       "      <td>91.171059</td>\n",
       "      <td>11.679262</td>\n",
       "      <td>-221.954087</td>\n",
       "      <td>4.509995</td>\n",
       "      <td>5.918224</td>\n",
       "      <td>94.084115</td>\n",
       "      <td>8.592369</td>\n",
       "      <td>-226.078474</td>\n",
       "    </tr>\n",
       "    <tr>\n",
       "      <th>79</th>\n",
       "      <td>1.3.6.1.4.1.14519.5.2.1.6279.6001.122914038048...</td>\n",
       "      <td>-144.824801</td>\n",
       "      <td>71.310226</td>\n",
       "      <td>-251.099972</td>\n",
       "      <td>5.050148</td>\n",
       "      <td>11.038751</td>\n",
       "      <td>-144.221082</td>\n",
       "      <td>76.802162</td>\n",
       "      <td>-260.656551</td>\n",
       "    </tr>\n",
       "    <tr>\n",
       "      <th>549</th>\n",
       "      <td>1.3.6.1.4.1.14519.5.2.1.6279.6001.229860476925...</td>\n",
       "      <td>-100.259896</td>\n",
       "      <td>-60.337979</td>\n",
       "      <td>-135.070952</td>\n",
       "      <td>3.923712</td>\n",
       "      <td>13.399517</td>\n",
       "      <td>-108.079588</td>\n",
       "      <td>-70.766761</td>\n",
       "      <td>-138.175785</td>\n",
       "    </tr>\n",
       "    <tr>\n",
       "      <th>543</th>\n",
       "      <td>1.3.6.1.4.1.14519.5.2.1.6279.6001.229096941293...</td>\n",
       "      <td>-86.579147</td>\n",
       "      <td>-204.748135</td>\n",
       "      <td>-203.607336</td>\n",
       "      <td>6.385959</td>\n",
       "      <td>14.682185</td>\n",
       "      <td>-90.003399</td>\n",
       "      <td>-218.949834</td>\n",
       "      <td>-205.074582</td>\n",
       "    </tr>\n",
       "    <tr>\n",
       "      <th>1109</th>\n",
       "      <td>1.3.6.1.4.1.14519.5.2.1.6279.6001.826812708000...</td>\n",
       "      <td>-53.619168</td>\n",
       "      <td>-51.119561</td>\n",
       "      <td>-138.586783</td>\n",
       "      <td>5.313818</td>\n",
       "      <td>15.931427</td>\n",
       "      <td>-41.567150</td>\n",
       "      <td>-53.185545</td>\n",
       "      <td>-128.374490</td>\n",
       "    </tr>\n",
       "  </tbody>\n",
       "</table>\n",
       "</div>"
      ],
      "text/plain": [
       "                                              seriesuid      coordX  \\\n",
       "834   1.3.6.1.4.1.14519.5.2.1.6279.6001.302403227435...   91.171059   \n",
       "79    1.3.6.1.4.1.14519.5.2.1.6279.6001.122914038048... -144.824801   \n",
       "549   1.3.6.1.4.1.14519.5.2.1.6279.6001.229860476925... -100.259896   \n",
       "543   1.3.6.1.4.1.14519.5.2.1.6279.6001.229096941293...  -86.579147   \n",
       "1109  1.3.6.1.4.1.14519.5.2.1.6279.6001.826812708000...  -53.619168   \n",
       "\n",
       "          coordY      coordZ  diameter_mm   distance       frm_X       frm_y  \\\n",
       "834    11.679262 -221.954087     4.509995   5.918224   94.084115    8.592369   \n",
       "79     71.310226 -251.099972     5.050148  11.038751 -144.221082   76.802162   \n",
       "549   -60.337979 -135.070952     3.923712  13.399517 -108.079588  -70.766761   \n",
       "543  -204.748135 -203.607336     6.385959  14.682185  -90.003399 -218.949834   \n",
       "1109  -51.119561 -138.586783     5.313818  15.931427  -41.567150  -53.185545   \n",
       "\n",
       "           frm_Z  \n",
       "834  -226.078474  \n",
       "79   -260.656551  \n",
       "549  -138.175785  \n",
       "543  -205.074582  \n",
       "1109 -128.374490  "
      ]
     },
     "execution_count": 116,
     "metadata": {},
     "output_type": "execute_result"
    }
   ],
   "source": [
    "df_collision.to_csv(\"collision_AnnotationNodules.csv\")\n",
    "df_collision.head(5)"
   ]
  },
  {
   "cell_type": "code",
   "execution_count": null,
   "metadata": {
    "collapsed": true
   },
   "outputs": [],
   "source": []
  },
  {
   "cell_type": "code",
   "execution_count": 49,
   "metadata": {
    "collapsed": true
   },
   "outputs": [],
   "source": [
    "# tmp[\"distance\"] = distance\n",
    "# tmp.iloc[0][3]"
   ]
  },
  {
   "cell_type": "code",
   "execution_count": 26,
   "metadata": {
    "collapsed": true
   },
   "outputs": [],
   "source": [
    "# dfDistance1 = pd.DataFrame([])\n",
    "\n",
    "# for row in df.itertuples():\n",
    "#     tmp_df = df[(df[\"seriesuid\"]== row[1] )].copy() \n",
    "                \n",
    "#     all_coords = tmp_df[[\"coordX\", \"coordY\", \"coordZ\"]].values\n",
    "#     x1 = all_coords[0][0]; \n",
    "#     y1 = all_coords[0][1]; \n",
    "#     z1 = all_coords[0][2];            \n",
    "#     first_coords = np.tile([x1, y1, z1], (all_coords.shape[0], 1)) \n",
    "    \n",
    "#     distance = np.linalg.norm(first_coords - all_coords, axis=1)  # Find Euclidean distance between first and rest\n",
    "    \n",
    "#     tmp_df[\"distance\"] = distance\n",
    "#     dfDistance1 = dfDistance1.append(tmp_df)\n",
    "    \n",
    "# dfDistance1.shape\n",
    "# t2 = dfDistance1.copy()\n",
    "# df_collision1 = (t2[ (t2['distance'] < 32) & (t2['distance'] != 0)  ])\n",
    "# print (df_collision1.shape)\n",
    "\n",
    "# df_collision1.groupby(level=0).last().sort_values('distance')"
   ]
  },
  {
   "cell_type": "code",
   "execution_count": null,
   "metadata": {
    "collapsed": true
   },
   "outputs": [],
   "source": []
  },
  {
   "cell_type": "code",
   "execution_count": null,
   "metadata": {
    "collapsed": true
   },
   "outputs": [],
   "source": []
  }
 ],
 "metadata": {
  "kernelspec": {
   "display_name": "Python [default]",
   "language": "python",
   "name": "python3"
  },
  "language_info": {
   "codemirror_mode": {
    "name": "ipython",
    "version": 3
   },
   "file_extension": ".py",
   "mimetype": "text/x-python",
   "name": "python",
   "nbconvert_exporter": "python",
   "pygments_lexer": "ipython3",
   "version": "3.6.3"
  }
 },
 "nbformat": 4,
 "nbformat_minor": 2
}
